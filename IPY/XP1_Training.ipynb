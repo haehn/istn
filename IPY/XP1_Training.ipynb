{
 "cells": [
  {
   "cell_type": "code",
   "execution_count": 1,
   "metadata": {},
   "outputs": [
    {
     "name": "stdout",
     "output_type": "stream",
     "text": [
      "Cannot set matplotlib backend to interagg, resorting to default backend module://ipykernel.pylab.backend_inline\n"
     ]
    }
   ],
   "source": [
    "import sys\n",
    "sys.path.append('../')\n",
    "from istn_reg import *\n",
    "import attrdict"
   ]
  },
  {
   "cell_type": "code",
   "execution_count": 2,
   "metadata": {},
   "outputs": [],
   "source": [
    "XPFOLDER = '/home/haehn/Dropbox/RESEARCH/MITOCHONDRIA/xp1'"
   ]
  },
  {
   "cell_type": "code",
   "execution_count": 27,
   "metadata": {},
   "outputs": [],
   "source": [
    "args = {\n",
    "    'config': XPFOLDER+'/config.json',\n",
    "    'save_temp': False,\n",
    "    'dev': '0',\n",
    "    'seed': 42,\n",
    "    'train': XPFOLDER+'/train.csv',\n",
    "    'train_seg': XPFOLDER+'/train.seg.csv',\n",
    "    'train_msk': None,\n",
    "    'val': XPFOLDER+'/test.csv',\n",
    "    'val_seg': XPFOLDER+'/test.seg.csv',\n",
    "    'val_msk': None,\n",
    "    'test': XPFOLDER+'/test.csv',\n",
    "    'test_seg': XPFOLDER+'/test.seg.csv',\n",
    "    'test_msk': None,\n",
    "    'out': XPFOLDER+'/output',\n",
    "    'model': XPFOLDER+'/output/train/model',\n",
    "    'mode3d': False,\n",
    "    'loss': 's', # SUPERVISED\n",
    "    'transformation': 'affine',\n",
    "    'no_refine': False\n",
    "}\n",
    "args = AttrDict(args)"
   ]
  },
  {
   "cell_type": "code",
   "execution_count": 28,
   "metadata": {},
   "outputs": [
    {
     "name": "stdout",
     "output_type": "stream",
     "text": [
      "----------------------------------------\n",
      "Starting TRAINING...\n",
      "----------------------------------------\n",
      "Config from file: {'epochs': 100, 'refine': 50, 'learning_rate': 0.001, 'batch_size': 10, 'val_interval': 10, 'normalizer_img': 'none', 'normalizer_seg': 'none', 'size': [128, 128], 'spacing': [1, 1]}\n",
      "Device: cuda:0\n",
      "GPU: GeForce RTX 2080 Ti\n",
      "File config: {'config': {'epochs': 100, 'refine': 50, 'learning_rate': 0.001, 'batch_size': 10, 'val_interval': 10, 'normalizer_img': 'none', 'normalizer_seg': 'none', 'size': [128, 128], 'spacing': [1, 1]}, 'device': device(type='cuda', index=0), 'normalizer_img': None, 'normalizer_seg': None, 'resampler_img': <pymira.img.transforms.Resampler object at 0x7fa0a2e08450>, 'resampler_seg': <pymira.img.transforms.Resampler object at 0x7fa0a2e08490>, 'stn': STN2D(\n",
      "  (conv1): Conv2d(2, 8, kernel_size=(5, 5), stride=(1, 1))\n",
      "  (conv2): Conv2d(8, 16, kernel_size=(5, 5), stride=(1, 1))\n",
      "  (conv3): Conv2d(16, 32, kernel_size=(5, 5), stride=(1, 1))\n",
      "  (fc): Linear(in_features=4608, out_features=32, bias=True)\n",
      "  (translation): Linear(in_features=32, out_features=2, bias=True)\n",
      "  (rotation): Linear(in_features=32, out_features=1, bias=True)\n",
      "  (scaling): Linear(in_features=32, out_features=2, bias=True)\n",
      "  (shearing): Linear(in_features=32, out_features=1, bias=True)\n",
      "), 'itn': ITN2D(\n",
      "  (conv11): Conv2d(1, 2, kernel_size=(3, 3), stride=(1, 1), padding=(1, 1))\n",
      "  (conv12): Conv2d(2, 4, kernel_size=(3, 3), stride=(1, 1), padding=(1, 1))\n",
      "  (down1): Conv2d(4, 8, kernel_size=(2, 2), stride=(2, 2))\n",
      "  (conv21): Conv2d(8, 8, kernel_size=(3, 3), stride=(1, 1), padding=(1, 1))\n",
      "  (down2): Conv2d(8, 16, kernel_size=(2, 2), stride=(2, 2))\n",
      "  (conv31): Conv2d(16, 16, kernel_size=(3, 3), stride=(1, 1), padding=(1, 1))\n",
      "  (up2): ConvTranspose2d(16, 8, kernel_size=(2, 2), stride=(2, 2))\n",
      "  (conv22): Conv2d(8, 8, kernel_size=(3, 3), stride=(1, 1), padding=(1, 1))\n",
      "  (up1): ConvTranspose2d(8, 4, kernel_size=(2, 2), stride=(2, 2))\n",
      "  (conv13): Conv2d(4, 2, kernel_size=(3, 3), stride=(1, 1), padding=(1, 1))\n",
      "  (conv14): Conv2d(2, 2, kernel_size=(3, 3), stride=(1, 1), padding=(1, 1))\n",
      "  (conv15): Conv2d(2, 1, kernel_size=(3, 3), stride=(1, 1), padding=(1, 1))\n",
      "), 'optimizer': Adam (\n",
      "Parameter Group 0\n",
      "    amsgrad: False\n",
      "    betas: (0.9, 0.999)\n",
      "    eps: 1e-08\n",
      "    lr: 0.001\n",
      "    weight_decay: 0\n",
      "), 'loss': 'supervised'}\n",
      "----------------------------------------\n",
      "TRAINING data...\n",
      "----------------------------------------\n",
      "Reading source image /home/haehn/Dropbox/RESEARCH/MITOCHONDRIA/xp1/train/0_source.png\n",
      "Reading target image /home/haehn/Dropbox/RESEARCH/MITOCHONDRIA/xp1/train/0_target.png\n",
      "Reading source segmentation /home/haehn/Dropbox/RESEARCH/MITOCHONDRIA/xp1/train/0_source_seg.png\n",
      "Reading target segmentation /home/haehn/Dropbox/RESEARCH/MITOCHONDRIA/xp1/train/0_target_seg.png\n",
      "Reading source image /home/haehn/Dropbox/RESEARCH/MITOCHONDRIA/xp1/train/100_source.png\n",
      "Reading target image /home/haehn/Dropbox/RESEARCH/MITOCHONDRIA/xp1/train/100_target.png\n",
      "Reading source segmentation /home/haehn/Dropbox/RESEARCH/MITOCHONDRIA/xp1/train/100_source_seg.png\n",
      "Reading target segmentation /home/haehn/Dropbox/RESEARCH/MITOCHONDRIA/xp1/train/100_target_seg.png\n",
      "Reading source image /home/haehn/Dropbox/RESEARCH/MITOCHONDRIA/xp1/train/10_source.png\n",
      "Reading target image /home/haehn/Dropbox/RESEARCH/MITOCHONDRIA/xp1/train/10_target.png\n",
      "Reading source segmentation /home/haehn/Dropbox/RESEARCH/MITOCHONDRIA/xp1/train/10_source_seg.png\n",
      "Reading target segmentation /home/haehn/Dropbox/RESEARCH/MITOCHONDRIA/xp1/train/10_target_seg.png\n",
      "Reading source image /home/haehn/Dropbox/RESEARCH/MITOCHONDRIA/xp1/train/11_source.png\n",
      "Reading target image /home/haehn/Dropbox/RESEARCH/MITOCHONDRIA/xp1/train/11_target.png\n",
      "Reading source segmentation /home/haehn/Dropbox/RESEARCH/MITOCHONDRIA/xp1/train/11_source_seg.png\n",
      "Reading target segmentation /home/haehn/Dropbox/RESEARCH/MITOCHONDRIA/xp1/train/11_target_seg.png\n",
      "Reading source image /home/haehn/Dropbox/RESEARCH/MITOCHONDRIA/xp1/train/12_source.png\n",
      "Reading target image /home/haehn/Dropbox/RESEARCH/MITOCHONDRIA/xp1/train/12_target.png\n",
      "Reading source segmentation /home/haehn/Dropbox/RESEARCH/MITOCHONDRIA/xp1/train/12_source_seg.png\n",
      "Reading target segmentation /home/haehn/Dropbox/RESEARCH/MITOCHONDRIA/xp1/train/12_target_seg.png\n",
      "Reading source image /home/haehn/Dropbox/RESEARCH/MITOCHONDRIA/xp1/train/13_source.png\n",
      "Reading target image /home/haehn/Dropbox/RESEARCH/MITOCHONDRIA/xp1/train/13_target.png\n",
      "Reading source segmentation /home/haehn/Dropbox/RESEARCH/MITOCHONDRIA/xp1/train/13_source_seg.png\n",
      "Reading target segmentation /home/haehn/Dropbox/RESEARCH/MITOCHONDRIA/xp1/train/13_target_seg.png\n",
      "Reading source image /home/haehn/Dropbox/RESEARCH/MITOCHONDRIA/xp1/train/14_source.png\n",
      "Reading target image /home/haehn/Dropbox/RESEARCH/MITOCHONDRIA/xp1/train/14_target.png\n",
      "Reading source segmentation /home/haehn/Dropbox/RESEARCH/MITOCHONDRIA/xp1/train/14_source_seg.png\n",
      "Reading target segmentation /home/haehn/Dropbox/RESEARCH/MITOCHONDRIA/xp1/train/14_target_seg.png\n",
      "Reading source image /home/haehn/Dropbox/RESEARCH/MITOCHONDRIA/xp1/train/15_source.png\n",
      "Reading target image /home/haehn/Dropbox/RESEARCH/MITOCHONDRIA/xp1/train/15_target.png\n",
      "Reading source segmentation /home/haehn/Dropbox/RESEARCH/MITOCHONDRIA/xp1/train/15_source_seg.png\n",
      "Reading target segmentation /home/haehn/Dropbox/RESEARCH/MITOCHONDRIA/xp1/train/15_target_seg.png\n",
      "Reading source image /home/haehn/Dropbox/RESEARCH/MITOCHONDRIA/xp1/train/16_source.png\n",
      "Reading target image /home/haehn/Dropbox/RESEARCH/MITOCHONDRIA/xp1/train/16_target.png\n",
      "Reading source segmentation /home/haehn/Dropbox/RESEARCH/MITOCHONDRIA/xp1/train/16_source_seg.png\n",
      "Reading target segmentation /home/haehn/Dropbox/RESEARCH/MITOCHONDRIA/xp1/train/16_target_seg.png\n",
      "Reading source image /home/haehn/Dropbox/RESEARCH/MITOCHONDRIA/xp1/train/17_source.png\n",
      "Reading target image /home/haehn/Dropbox/RESEARCH/MITOCHONDRIA/xp1/train/17_target.png\n",
      "Reading source segmentation /home/haehn/Dropbox/RESEARCH/MITOCHONDRIA/xp1/train/17_source_seg.png\n",
      "Reading target segmentation /home/haehn/Dropbox/RESEARCH/MITOCHONDRIA/xp1/train/17_target_seg.png\n",
      "Reading source image /home/haehn/Dropbox/RESEARCH/MITOCHONDRIA/xp1/train/18_source.png\n",
      "Reading target image /home/haehn/Dropbox/RESEARCH/MITOCHONDRIA/xp1/train/18_target.png\n",
      "Reading source segmentation /home/haehn/Dropbox/RESEARCH/MITOCHONDRIA/xp1/train/18_source_seg.png\n",
      "Reading target segmentation /home/haehn/Dropbox/RESEARCH/MITOCHONDRIA/xp1/train/18_target_seg.png\n",
      "Reading source image /home/haehn/Dropbox/RESEARCH/MITOCHONDRIA/xp1/train/19_source.png\n",
      "Reading target image /home/haehn/Dropbox/RESEARCH/MITOCHONDRIA/xp1/train/19_target.png\n",
      "Reading source segmentation /home/haehn/Dropbox/RESEARCH/MITOCHONDRIA/xp1/train/19_source_seg.png\n",
      "Reading target segmentation /home/haehn/Dropbox/RESEARCH/MITOCHONDRIA/xp1/train/19_target_seg.png\n",
      "Reading source image /home/haehn/Dropbox/RESEARCH/MITOCHONDRIA/xp1/train/1_source.png\n",
      "Reading target image /home/haehn/Dropbox/RESEARCH/MITOCHONDRIA/xp1/train/1_target.png\n",
      "Reading source segmentation /home/haehn/Dropbox/RESEARCH/MITOCHONDRIA/xp1/train/1_source_seg.png\n",
      "Reading target segmentation /home/haehn/Dropbox/RESEARCH/MITOCHONDRIA/xp1/train/1_target_seg.png\n",
      "Reading source image /home/haehn/Dropbox/RESEARCH/MITOCHONDRIA/xp1/train/20_source.png\n",
      "Reading target image /home/haehn/Dropbox/RESEARCH/MITOCHONDRIA/xp1/train/20_target.png\n",
      "Reading source segmentation /home/haehn/Dropbox/RESEARCH/MITOCHONDRIA/xp1/train/20_source_seg.png\n",
      "Reading target segmentation /home/haehn/Dropbox/RESEARCH/MITOCHONDRIA/xp1/train/20_target_seg.png\n",
      "Reading source image /home/haehn/Dropbox/RESEARCH/MITOCHONDRIA/xp1/train/21_source.png\n",
      "Reading target image /home/haehn/Dropbox/RESEARCH/MITOCHONDRIA/xp1/train/21_target.png\n",
      "Reading source segmentation /home/haehn/Dropbox/RESEARCH/MITOCHONDRIA/xp1/train/21_source_seg.png\n",
      "Reading target segmentation /home/haehn/Dropbox/RESEARCH/MITOCHONDRIA/xp1/train/21_target_seg.png\n",
      "Reading source image /home/haehn/Dropbox/RESEARCH/MITOCHONDRIA/xp1/train/22_source.png\n",
      "Reading target image /home/haehn/Dropbox/RESEARCH/MITOCHONDRIA/xp1/train/22_target.png\n",
      "Reading source segmentation /home/haehn/Dropbox/RESEARCH/MITOCHONDRIA/xp1/train/22_source_seg.png\n",
      "Reading target segmentation /home/haehn/Dropbox/RESEARCH/MITOCHONDRIA/xp1/train/22_target_seg.png\n",
      "Reading source image /home/haehn/Dropbox/RESEARCH/MITOCHONDRIA/xp1/train/23_source.png\n",
      "Reading target image /home/haehn/Dropbox/RESEARCH/MITOCHONDRIA/xp1/train/23_target.png\n",
      "Reading source segmentation /home/haehn/Dropbox/RESEARCH/MITOCHONDRIA/xp1/train/23_source_seg.png\n",
      "Reading target segmentation /home/haehn/Dropbox/RESEARCH/MITOCHONDRIA/xp1/train/23_target_seg.png\n",
      "Reading source image /home/haehn/Dropbox/RESEARCH/MITOCHONDRIA/xp1/train/24_source.png\n",
      "Reading target image /home/haehn/Dropbox/RESEARCH/MITOCHONDRIA/xp1/train/24_target.png\n",
      "Reading source segmentation /home/haehn/Dropbox/RESEARCH/MITOCHONDRIA/xp1/train/24_source_seg.png\n",
      "Reading target segmentation /home/haehn/Dropbox/RESEARCH/MITOCHONDRIA/xp1/train/24_target_seg.png\n",
      "Reading source image /home/haehn/Dropbox/RESEARCH/MITOCHONDRIA/xp1/train/25_source.png\n",
      "Reading target image /home/haehn/Dropbox/RESEARCH/MITOCHONDRIA/xp1/train/25_target.png\n",
      "Reading source segmentation /home/haehn/Dropbox/RESEARCH/MITOCHONDRIA/xp1/train/25_source_seg.png\n",
      "Reading target segmentation /home/haehn/Dropbox/RESEARCH/MITOCHONDRIA/xp1/train/25_target_seg.png\n",
      "Reading source image /home/haehn/Dropbox/RESEARCH/MITOCHONDRIA/xp1/train/26_source.png\n",
      "Reading target image /home/haehn/Dropbox/RESEARCH/MITOCHONDRIA/xp1/train/26_target.png\n",
      "Reading source segmentation /home/haehn/Dropbox/RESEARCH/MITOCHONDRIA/xp1/train/26_source_seg.png\n",
      "Reading target segmentation /home/haehn/Dropbox/RESEARCH/MITOCHONDRIA/xp1/train/26_target_seg.png\n",
      "Reading source image /home/haehn/Dropbox/RESEARCH/MITOCHONDRIA/xp1/train/27_source.png\n",
      "Reading target image /home/haehn/Dropbox/RESEARCH/MITOCHONDRIA/xp1/train/27_target.png\n",
      "Reading source segmentation /home/haehn/Dropbox/RESEARCH/MITOCHONDRIA/xp1/train/27_source_seg.png\n",
      "Reading target segmentation /home/haehn/Dropbox/RESEARCH/MITOCHONDRIA/xp1/train/27_target_seg.png\n",
      "Reading source image /home/haehn/Dropbox/RESEARCH/MITOCHONDRIA/xp1/train/28_source.png\n",
      "Reading target image /home/haehn/Dropbox/RESEARCH/MITOCHONDRIA/xp1/train/28_target.png\n",
      "Reading source segmentation /home/haehn/Dropbox/RESEARCH/MITOCHONDRIA/xp1/train/28_source_seg.png\n",
      "Reading target segmentation /home/haehn/Dropbox/RESEARCH/MITOCHONDRIA/xp1/train/28_target_seg.png\n",
      "Reading source image /home/haehn/Dropbox/RESEARCH/MITOCHONDRIA/xp1/train/29_source.png\n",
      "Reading target image /home/haehn/Dropbox/RESEARCH/MITOCHONDRIA/xp1/train/29_target.png\n",
      "Reading source segmentation /home/haehn/Dropbox/RESEARCH/MITOCHONDRIA/xp1/train/29_source_seg.png\n",
      "Reading target segmentation /home/haehn/Dropbox/RESEARCH/MITOCHONDRIA/xp1/train/29_target_seg.png\n",
      "Reading source image /home/haehn/Dropbox/RESEARCH/MITOCHONDRIA/xp1/train/2_source.png\n",
      "Reading target image /home/haehn/Dropbox/RESEARCH/MITOCHONDRIA/xp1/train/2_target.png\n",
      "Reading source segmentation /home/haehn/Dropbox/RESEARCH/MITOCHONDRIA/xp1/train/2_source_seg.png\n",
      "Reading target segmentation /home/haehn/Dropbox/RESEARCH/MITOCHONDRIA/xp1/train/2_target_seg.png\n",
      "Reading source image /home/haehn/Dropbox/RESEARCH/MITOCHONDRIA/xp1/train/30_source.png\n",
      "Reading target image /home/haehn/Dropbox/RESEARCH/MITOCHONDRIA/xp1/train/30_target.png\n",
      "Reading source segmentation /home/haehn/Dropbox/RESEARCH/MITOCHONDRIA/xp1/train/30_source_seg.png\n",
      "Reading target segmentation /home/haehn/Dropbox/RESEARCH/MITOCHONDRIA/xp1/train/30_target_seg.png\n",
      "Reading source image /home/haehn/Dropbox/RESEARCH/MITOCHONDRIA/xp1/train/31_source.png\n",
      "Reading target image /home/haehn/Dropbox/RESEARCH/MITOCHONDRIA/xp1/train/31_target.png\n",
      "Reading source segmentation /home/haehn/Dropbox/RESEARCH/MITOCHONDRIA/xp1/train/31_source_seg.png\n",
      "Reading target segmentation /home/haehn/Dropbox/RESEARCH/MITOCHONDRIA/xp1/train/31_target_seg.png\n",
      "Reading source image /home/haehn/Dropbox/RESEARCH/MITOCHONDRIA/xp1/train/32_source.png\n",
      "Reading target image /home/haehn/Dropbox/RESEARCH/MITOCHONDRIA/xp1/train/32_target.png\n",
      "Reading source segmentation /home/haehn/Dropbox/RESEARCH/MITOCHONDRIA/xp1/train/32_source_seg.png\n",
      "Reading target segmentation /home/haehn/Dropbox/RESEARCH/MITOCHONDRIA/xp1/train/32_target_seg.png\n",
      "Reading source image /home/haehn/Dropbox/RESEARCH/MITOCHONDRIA/xp1/train/33_source.png\n",
      "Reading target image /home/haehn/Dropbox/RESEARCH/MITOCHONDRIA/xp1/train/33_target.png\n",
      "Reading source segmentation /home/haehn/Dropbox/RESEARCH/MITOCHONDRIA/xp1/train/33_source_seg.png\n",
      "Reading target segmentation /home/haehn/Dropbox/RESEARCH/MITOCHONDRIA/xp1/train/33_target_seg.png\n",
      "Reading source image /home/haehn/Dropbox/RESEARCH/MITOCHONDRIA/xp1/train/34_source.png\n",
      "Reading target image /home/haehn/Dropbox/RESEARCH/MITOCHONDRIA/xp1/train/34_target.png\n",
      "Reading source segmentation /home/haehn/Dropbox/RESEARCH/MITOCHONDRIA/xp1/train/34_source_seg.png\n",
      "Reading target segmentation /home/haehn/Dropbox/RESEARCH/MITOCHONDRIA/xp1/train/34_target_seg.png\n",
      "Reading source image /home/haehn/Dropbox/RESEARCH/MITOCHONDRIA/xp1/train/35_source.png\n",
      "Reading target image /home/haehn/Dropbox/RESEARCH/MITOCHONDRIA/xp1/train/35_target.png\n",
      "Reading source segmentation /home/haehn/Dropbox/RESEARCH/MITOCHONDRIA/xp1/train/35_source_seg.png\n",
      "Reading target segmentation /home/haehn/Dropbox/RESEARCH/MITOCHONDRIA/xp1/train/35_target_seg.png\n",
      "Reading source image /home/haehn/Dropbox/RESEARCH/MITOCHONDRIA/xp1/train/36_source.png\n",
      "Reading target image /home/haehn/Dropbox/RESEARCH/MITOCHONDRIA/xp1/train/36_target.png\n",
      "Reading source segmentation /home/haehn/Dropbox/RESEARCH/MITOCHONDRIA/xp1/train/36_source_seg.png\n",
      "Reading target segmentation /home/haehn/Dropbox/RESEARCH/MITOCHONDRIA/xp1/train/36_target_seg.png\n",
      "Reading source image /home/haehn/Dropbox/RESEARCH/MITOCHONDRIA/xp1/train/37_source.png\n",
      "Reading target image /home/haehn/Dropbox/RESEARCH/MITOCHONDRIA/xp1/train/37_target.png\n",
      "Reading source segmentation /home/haehn/Dropbox/RESEARCH/MITOCHONDRIA/xp1/train/37_source_seg.png\n",
      "Reading target segmentation /home/haehn/Dropbox/RESEARCH/MITOCHONDRIA/xp1/train/37_target_seg.png\n"
     ]
    },
    {
     "name": "stdout",
     "output_type": "stream",
     "text": [
      "Reading source image /home/haehn/Dropbox/RESEARCH/MITOCHONDRIA/xp1/train/38_source.png\n",
      "Reading target image /home/haehn/Dropbox/RESEARCH/MITOCHONDRIA/xp1/train/38_target.png\n",
      "Reading source segmentation /home/haehn/Dropbox/RESEARCH/MITOCHONDRIA/xp1/train/38_source_seg.png\n",
      "Reading target segmentation /home/haehn/Dropbox/RESEARCH/MITOCHONDRIA/xp1/train/38_target_seg.png\n",
      "Reading source image /home/haehn/Dropbox/RESEARCH/MITOCHONDRIA/xp1/train/39_source.png\n",
      "Reading target image /home/haehn/Dropbox/RESEARCH/MITOCHONDRIA/xp1/train/39_target.png\n",
      "Reading source segmentation /home/haehn/Dropbox/RESEARCH/MITOCHONDRIA/xp1/train/39_source_seg.png\n",
      "Reading target segmentation /home/haehn/Dropbox/RESEARCH/MITOCHONDRIA/xp1/train/39_target_seg.png\n",
      "Reading source image /home/haehn/Dropbox/RESEARCH/MITOCHONDRIA/xp1/train/3_source.png\n",
      "Reading target image /home/haehn/Dropbox/RESEARCH/MITOCHONDRIA/xp1/train/3_target.png\n",
      "Reading source segmentation /home/haehn/Dropbox/RESEARCH/MITOCHONDRIA/xp1/train/3_source_seg.png\n",
      "Reading target segmentation /home/haehn/Dropbox/RESEARCH/MITOCHONDRIA/xp1/train/3_target_seg.png\n",
      "Reading source image /home/haehn/Dropbox/RESEARCH/MITOCHONDRIA/xp1/train/40_source.png\n",
      "Reading target image /home/haehn/Dropbox/RESEARCH/MITOCHONDRIA/xp1/train/40_target.png\n",
      "Reading source segmentation /home/haehn/Dropbox/RESEARCH/MITOCHONDRIA/xp1/train/40_source_seg.png\n",
      "Reading target segmentation /home/haehn/Dropbox/RESEARCH/MITOCHONDRIA/xp1/train/40_target_seg.png\n",
      "Reading source image /home/haehn/Dropbox/RESEARCH/MITOCHONDRIA/xp1/train/41_source.png\n",
      "Reading target image /home/haehn/Dropbox/RESEARCH/MITOCHONDRIA/xp1/train/41_target.png\n",
      "Reading source segmentation /home/haehn/Dropbox/RESEARCH/MITOCHONDRIA/xp1/train/41_source_seg.png\n",
      "Reading target segmentation /home/haehn/Dropbox/RESEARCH/MITOCHONDRIA/xp1/train/41_target_seg.png\n",
      "Reading source image /home/haehn/Dropbox/RESEARCH/MITOCHONDRIA/xp1/train/42_source.png\n",
      "Reading target image /home/haehn/Dropbox/RESEARCH/MITOCHONDRIA/xp1/train/42_target.png\n",
      "Reading source segmentation /home/haehn/Dropbox/RESEARCH/MITOCHONDRIA/xp1/train/42_source_seg.png\n",
      "Reading target segmentation /home/haehn/Dropbox/RESEARCH/MITOCHONDRIA/xp1/train/42_target_seg.png\n",
      "Reading source image /home/haehn/Dropbox/RESEARCH/MITOCHONDRIA/xp1/train/43_source.png\n",
      "Reading target image /home/haehn/Dropbox/RESEARCH/MITOCHONDRIA/xp1/train/43_target.png\n",
      "Reading source segmentation /home/haehn/Dropbox/RESEARCH/MITOCHONDRIA/xp1/train/43_source_seg.png\n",
      "Reading target segmentation /home/haehn/Dropbox/RESEARCH/MITOCHONDRIA/xp1/train/43_target_seg.png\n",
      "Reading source image /home/haehn/Dropbox/RESEARCH/MITOCHONDRIA/xp1/train/44_source.png\n",
      "Reading target image /home/haehn/Dropbox/RESEARCH/MITOCHONDRIA/xp1/train/44_target.png\n",
      "Reading source segmentation /home/haehn/Dropbox/RESEARCH/MITOCHONDRIA/xp1/train/44_source_seg.png\n",
      "Reading target segmentation /home/haehn/Dropbox/RESEARCH/MITOCHONDRIA/xp1/train/44_target_seg.png\n",
      "Reading source image /home/haehn/Dropbox/RESEARCH/MITOCHONDRIA/xp1/train/45_source.png\n",
      "Reading target image /home/haehn/Dropbox/RESEARCH/MITOCHONDRIA/xp1/train/45_target.png\n",
      "Reading source segmentation /home/haehn/Dropbox/RESEARCH/MITOCHONDRIA/xp1/train/45_source_seg.png\n",
      "Reading target segmentation /home/haehn/Dropbox/RESEARCH/MITOCHONDRIA/xp1/train/45_target_seg.png\n",
      "Reading source image /home/haehn/Dropbox/RESEARCH/MITOCHONDRIA/xp1/train/46_source.png\n",
      "Reading target image /home/haehn/Dropbox/RESEARCH/MITOCHONDRIA/xp1/train/46_target.png\n",
      "Reading source segmentation /home/haehn/Dropbox/RESEARCH/MITOCHONDRIA/xp1/train/46_source_seg.png\n",
      "Reading target segmentation /home/haehn/Dropbox/RESEARCH/MITOCHONDRIA/xp1/train/46_target_seg.png\n",
      "Reading source image /home/haehn/Dropbox/RESEARCH/MITOCHONDRIA/xp1/train/47_source.png\n",
      "Reading target image /home/haehn/Dropbox/RESEARCH/MITOCHONDRIA/xp1/train/47_target.png\n",
      "Reading source segmentation /home/haehn/Dropbox/RESEARCH/MITOCHONDRIA/xp1/train/47_source_seg.png\n",
      "Reading target segmentation /home/haehn/Dropbox/RESEARCH/MITOCHONDRIA/xp1/train/47_target_seg.png\n",
      "Reading source image /home/haehn/Dropbox/RESEARCH/MITOCHONDRIA/xp1/train/48_source.png\n",
      "Reading target image /home/haehn/Dropbox/RESEARCH/MITOCHONDRIA/xp1/train/48_target.png\n",
      "Reading source segmentation /home/haehn/Dropbox/RESEARCH/MITOCHONDRIA/xp1/train/48_source_seg.png\n",
      "Reading target segmentation /home/haehn/Dropbox/RESEARCH/MITOCHONDRIA/xp1/train/48_target_seg.png\n",
      "Reading source image /home/haehn/Dropbox/RESEARCH/MITOCHONDRIA/xp1/train/49_source.png\n",
      "Reading target image /home/haehn/Dropbox/RESEARCH/MITOCHONDRIA/xp1/train/49_target.png\n",
      "Reading source segmentation /home/haehn/Dropbox/RESEARCH/MITOCHONDRIA/xp1/train/49_source_seg.png\n",
      "Reading target segmentation /home/haehn/Dropbox/RESEARCH/MITOCHONDRIA/xp1/train/49_target_seg.png\n",
      "Reading source image /home/haehn/Dropbox/RESEARCH/MITOCHONDRIA/xp1/train/4_source.png\n",
      "Reading target image /home/haehn/Dropbox/RESEARCH/MITOCHONDRIA/xp1/train/4_target.png\n",
      "Reading source segmentation /home/haehn/Dropbox/RESEARCH/MITOCHONDRIA/xp1/train/4_source_seg.png\n",
      "Reading target segmentation /home/haehn/Dropbox/RESEARCH/MITOCHONDRIA/xp1/train/4_target_seg.png\n",
      "Reading source image /home/haehn/Dropbox/RESEARCH/MITOCHONDRIA/xp1/train/50_source.png\n",
      "Reading target image /home/haehn/Dropbox/RESEARCH/MITOCHONDRIA/xp1/train/50_target.png\n",
      "Reading source segmentation /home/haehn/Dropbox/RESEARCH/MITOCHONDRIA/xp1/train/50_source_seg.png\n",
      "Reading target segmentation /home/haehn/Dropbox/RESEARCH/MITOCHONDRIA/xp1/train/50_target_seg.png\n",
      "Reading source image /home/haehn/Dropbox/RESEARCH/MITOCHONDRIA/xp1/train/51_source.png\n",
      "Reading target image /home/haehn/Dropbox/RESEARCH/MITOCHONDRIA/xp1/train/51_target.png\n",
      "Reading source segmentation /home/haehn/Dropbox/RESEARCH/MITOCHONDRIA/xp1/train/51_source_seg.png\n",
      "Reading target segmentation /home/haehn/Dropbox/RESEARCH/MITOCHONDRIA/xp1/train/51_target_seg.png\n",
      "Reading source image /home/haehn/Dropbox/RESEARCH/MITOCHONDRIA/xp1/train/52_source.png\n",
      "Reading target image /home/haehn/Dropbox/RESEARCH/MITOCHONDRIA/xp1/train/52_target.png\n",
      "Reading source segmentation /home/haehn/Dropbox/RESEARCH/MITOCHONDRIA/xp1/train/52_source_seg.png\n",
      "Reading target segmentation /home/haehn/Dropbox/RESEARCH/MITOCHONDRIA/xp1/train/52_target_seg.png\n",
      "Reading source image /home/haehn/Dropbox/RESEARCH/MITOCHONDRIA/xp1/train/53_source.png\n",
      "Reading target image /home/haehn/Dropbox/RESEARCH/MITOCHONDRIA/xp1/train/53_target.png\n",
      "Reading source segmentation /home/haehn/Dropbox/RESEARCH/MITOCHONDRIA/xp1/train/53_source_seg.png\n",
      "Reading target segmentation /home/haehn/Dropbox/RESEARCH/MITOCHONDRIA/xp1/train/53_target_seg.png\n",
      "Reading source image /home/haehn/Dropbox/RESEARCH/MITOCHONDRIA/xp1/train/54_source.png\n",
      "Reading target image /home/haehn/Dropbox/RESEARCH/MITOCHONDRIA/xp1/train/54_target.png\n",
      "Reading source segmentation /home/haehn/Dropbox/RESEARCH/MITOCHONDRIA/xp1/train/54_source_seg.png\n",
      "Reading target segmentation /home/haehn/Dropbox/RESEARCH/MITOCHONDRIA/xp1/train/54_target_seg.png\n",
      "Reading source image /home/haehn/Dropbox/RESEARCH/MITOCHONDRIA/xp1/train/55_source.png\n",
      "Reading target image /home/haehn/Dropbox/RESEARCH/MITOCHONDRIA/xp1/train/55_target.png\n",
      "Reading source segmentation /home/haehn/Dropbox/RESEARCH/MITOCHONDRIA/xp1/train/55_source_seg.png\n",
      "Reading target segmentation /home/haehn/Dropbox/RESEARCH/MITOCHONDRIA/xp1/train/55_target_seg.png\n",
      "Reading source image /home/haehn/Dropbox/RESEARCH/MITOCHONDRIA/xp1/train/56_source.png\n",
      "Reading target image /home/haehn/Dropbox/RESEARCH/MITOCHONDRIA/xp1/train/56_target.png\n",
      "Reading source segmentation /home/haehn/Dropbox/RESEARCH/MITOCHONDRIA/xp1/train/56_source_seg.png\n",
      "Reading target segmentation /home/haehn/Dropbox/RESEARCH/MITOCHONDRIA/xp1/train/56_target_seg.png\n",
      "Reading source image /home/haehn/Dropbox/RESEARCH/MITOCHONDRIA/xp1/train/57_source.png\n",
      "Reading target image /home/haehn/Dropbox/RESEARCH/MITOCHONDRIA/xp1/train/57_target.png\n",
      "Reading source segmentation /home/haehn/Dropbox/RESEARCH/MITOCHONDRIA/xp1/train/57_source_seg.png\n",
      "Reading target segmentation /home/haehn/Dropbox/RESEARCH/MITOCHONDRIA/xp1/train/57_target_seg.png\n",
      "Reading source image /home/haehn/Dropbox/RESEARCH/MITOCHONDRIA/xp1/train/58_source.png\n",
      "Reading target image /home/haehn/Dropbox/RESEARCH/MITOCHONDRIA/xp1/train/58_target.png\n",
      "Reading source segmentation /home/haehn/Dropbox/RESEARCH/MITOCHONDRIA/xp1/train/58_source_seg.png\n",
      "Reading target segmentation /home/haehn/Dropbox/RESEARCH/MITOCHONDRIA/xp1/train/58_target_seg.png\n",
      "Reading source image /home/haehn/Dropbox/RESEARCH/MITOCHONDRIA/xp1/train/59_source.png\n",
      "Reading target image /home/haehn/Dropbox/RESEARCH/MITOCHONDRIA/xp1/train/59_target.png\n",
      "Reading source segmentation /home/haehn/Dropbox/RESEARCH/MITOCHONDRIA/xp1/train/59_source_seg.png\n",
      "Reading target segmentation /home/haehn/Dropbox/RESEARCH/MITOCHONDRIA/xp1/train/59_target_seg.png\n",
      "Reading source image /home/haehn/Dropbox/RESEARCH/MITOCHONDRIA/xp1/train/5_source.png\n",
      "Reading target image /home/haehn/Dropbox/RESEARCH/MITOCHONDRIA/xp1/train/5_target.png\n",
      "Reading source segmentation /home/haehn/Dropbox/RESEARCH/MITOCHONDRIA/xp1/train/5_source_seg.png\n",
      "Reading target segmentation /home/haehn/Dropbox/RESEARCH/MITOCHONDRIA/xp1/train/5_target_seg.png\n",
      "Reading source image /home/haehn/Dropbox/RESEARCH/MITOCHONDRIA/xp1/train/60_source.png\n",
      "Reading target image /home/haehn/Dropbox/RESEARCH/MITOCHONDRIA/xp1/train/60_target.png\n",
      "Reading source segmentation /home/haehn/Dropbox/RESEARCH/MITOCHONDRIA/xp1/train/60_source_seg.png\n",
      "Reading target segmentation /home/haehn/Dropbox/RESEARCH/MITOCHONDRIA/xp1/train/60_target_seg.png\n",
      "Reading source image /home/haehn/Dropbox/RESEARCH/MITOCHONDRIA/xp1/train/61_source.png\n",
      "Reading target image /home/haehn/Dropbox/RESEARCH/MITOCHONDRIA/xp1/train/61_target.png\n",
      "Reading source segmentation /home/haehn/Dropbox/RESEARCH/MITOCHONDRIA/xp1/train/61_source_seg.png\n",
      "Reading target segmentation /home/haehn/Dropbox/RESEARCH/MITOCHONDRIA/xp1/train/61_target_seg.png\n",
      "Reading source image /home/haehn/Dropbox/RESEARCH/MITOCHONDRIA/xp1/train/62_source.png\n",
      "Reading target image /home/haehn/Dropbox/RESEARCH/MITOCHONDRIA/xp1/train/62_target.png\n",
      "Reading source segmentation /home/haehn/Dropbox/RESEARCH/MITOCHONDRIA/xp1/train/62_source_seg.png\n",
      "Reading target segmentation /home/haehn/Dropbox/RESEARCH/MITOCHONDRIA/xp1/train/62_target_seg.png\n",
      "Reading source image /home/haehn/Dropbox/RESEARCH/MITOCHONDRIA/xp1/train/63_source.png\n",
      "Reading target image /home/haehn/Dropbox/RESEARCH/MITOCHONDRIA/xp1/train/63_target.png\n",
      "Reading source segmentation /home/haehn/Dropbox/RESEARCH/MITOCHONDRIA/xp1/train/63_source_seg.png\n",
      "Reading target segmentation /home/haehn/Dropbox/RESEARCH/MITOCHONDRIA/xp1/train/63_target_seg.png\n",
      "Reading source image /home/haehn/Dropbox/RESEARCH/MITOCHONDRIA/xp1/train/64_source.png\n",
      "Reading target image /home/haehn/Dropbox/RESEARCH/MITOCHONDRIA/xp1/train/64_target.png\n",
      "Reading source segmentation /home/haehn/Dropbox/RESEARCH/MITOCHONDRIA/xp1/train/64_source_seg.png\n",
      "Reading target segmentation /home/haehn/Dropbox/RESEARCH/MITOCHONDRIA/xp1/train/64_target_seg.png\n",
      "Reading source image /home/haehn/Dropbox/RESEARCH/MITOCHONDRIA/xp1/train/65_source.png\n",
      "Reading target image /home/haehn/Dropbox/RESEARCH/MITOCHONDRIA/xp1/train/65_target.png\n",
      "Reading source segmentation /home/haehn/Dropbox/RESEARCH/MITOCHONDRIA/xp1/train/65_source_seg.png\n",
      "Reading target segmentation /home/haehn/Dropbox/RESEARCH/MITOCHONDRIA/xp1/train/65_target_seg.png\n",
      "Reading source image /home/haehn/Dropbox/RESEARCH/MITOCHONDRIA/xp1/train/66_source.png\n",
      "Reading target image /home/haehn/Dropbox/RESEARCH/MITOCHONDRIA/xp1/train/66_target.png\n",
      "Reading source segmentation /home/haehn/Dropbox/RESEARCH/MITOCHONDRIA/xp1/train/66_source_seg.png\n",
      "Reading target segmentation /home/haehn/Dropbox/RESEARCH/MITOCHONDRIA/xp1/train/66_target_seg.png\n",
      "Reading source image /home/haehn/Dropbox/RESEARCH/MITOCHONDRIA/xp1/train/67_source.png\n",
      "Reading target image /home/haehn/Dropbox/RESEARCH/MITOCHONDRIA/xp1/train/67_target.png\n",
      "Reading source segmentation /home/haehn/Dropbox/RESEARCH/MITOCHONDRIA/xp1/train/67_source_seg.png\n",
      "Reading target segmentation /home/haehn/Dropbox/RESEARCH/MITOCHONDRIA/xp1/train/67_target_seg.png\n",
      "Reading source image /home/haehn/Dropbox/RESEARCH/MITOCHONDRIA/xp1/train/68_source.png\n",
      "Reading target image /home/haehn/Dropbox/RESEARCH/MITOCHONDRIA/xp1/train/68_target.png\n",
      "Reading source segmentation /home/haehn/Dropbox/RESEARCH/MITOCHONDRIA/xp1/train/68_source_seg.png\n",
      "Reading target segmentation /home/haehn/Dropbox/RESEARCH/MITOCHONDRIA/xp1/train/68_target_seg.png\n",
      "Reading source image /home/haehn/Dropbox/RESEARCH/MITOCHONDRIA/xp1/train/69_source.png\n",
      "Reading target image /home/haehn/Dropbox/RESEARCH/MITOCHONDRIA/xp1/train/69_target.png\n",
      "Reading source segmentation /home/haehn/Dropbox/RESEARCH/MITOCHONDRIA/xp1/train/69_source_seg.png\n",
      "Reading target segmentation /home/haehn/Dropbox/RESEARCH/MITOCHONDRIA/xp1/train/69_target_seg.png\n",
      "Reading source image /home/haehn/Dropbox/RESEARCH/MITOCHONDRIA/xp1/train/6_source.png\n",
      "Reading target image /home/haehn/Dropbox/RESEARCH/MITOCHONDRIA/xp1/train/6_target.png\n",
      "Reading source segmentation /home/haehn/Dropbox/RESEARCH/MITOCHONDRIA/xp1/train/6_source_seg.png\n",
      "Reading target segmentation /home/haehn/Dropbox/RESEARCH/MITOCHONDRIA/xp1/train/6_target_seg.png\n"
     ]
    },
    {
     "name": "stdout",
     "output_type": "stream",
     "text": [
      "Reading source image /home/haehn/Dropbox/RESEARCH/MITOCHONDRIA/xp1/train/70_source.png\n",
      "Reading target image /home/haehn/Dropbox/RESEARCH/MITOCHONDRIA/xp1/train/70_target.png\n",
      "Reading source segmentation /home/haehn/Dropbox/RESEARCH/MITOCHONDRIA/xp1/train/70_source_seg.png\n",
      "Reading target segmentation /home/haehn/Dropbox/RESEARCH/MITOCHONDRIA/xp1/train/70_target_seg.png\n",
      "Reading source image /home/haehn/Dropbox/RESEARCH/MITOCHONDRIA/xp1/train/71_source.png\n",
      "Reading target image /home/haehn/Dropbox/RESEARCH/MITOCHONDRIA/xp1/train/71_target.png\n",
      "Reading source segmentation /home/haehn/Dropbox/RESEARCH/MITOCHONDRIA/xp1/train/71_source_seg.png\n",
      "Reading target segmentation /home/haehn/Dropbox/RESEARCH/MITOCHONDRIA/xp1/train/71_target_seg.png\n",
      "Reading source image /home/haehn/Dropbox/RESEARCH/MITOCHONDRIA/xp1/train/72_source.png\n",
      "Reading target image /home/haehn/Dropbox/RESEARCH/MITOCHONDRIA/xp1/train/72_target.png\n",
      "Reading source segmentation /home/haehn/Dropbox/RESEARCH/MITOCHONDRIA/xp1/train/72_source_seg.png\n",
      "Reading target segmentation /home/haehn/Dropbox/RESEARCH/MITOCHONDRIA/xp1/train/72_target_seg.png\n",
      "Reading source image /home/haehn/Dropbox/RESEARCH/MITOCHONDRIA/xp1/train/73_source.png\n",
      "Reading target image /home/haehn/Dropbox/RESEARCH/MITOCHONDRIA/xp1/train/73_target.png\n",
      "Reading source segmentation /home/haehn/Dropbox/RESEARCH/MITOCHONDRIA/xp1/train/73_source_seg.png\n",
      "Reading target segmentation /home/haehn/Dropbox/RESEARCH/MITOCHONDRIA/xp1/train/73_target_seg.png\n",
      "Reading source image /home/haehn/Dropbox/RESEARCH/MITOCHONDRIA/xp1/train/74_source.png\n",
      "Reading target image /home/haehn/Dropbox/RESEARCH/MITOCHONDRIA/xp1/train/74_target.png\n",
      "Reading source segmentation /home/haehn/Dropbox/RESEARCH/MITOCHONDRIA/xp1/train/74_source_seg.png\n",
      "Reading target segmentation /home/haehn/Dropbox/RESEARCH/MITOCHONDRIA/xp1/train/74_target_seg.png\n",
      "Reading source image /home/haehn/Dropbox/RESEARCH/MITOCHONDRIA/xp1/train/75_source.png\n",
      "Reading target image /home/haehn/Dropbox/RESEARCH/MITOCHONDRIA/xp1/train/75_target.png\n",
      "Reading source segmentation /home/haehn/Dropbox/RESEARCH/MITOCHONDRIA/xp1/train/75_source_seg.png\n",
      "Reading target segmentation /home/haehn/Dropbox/RESEARCH/MITOCHONDRIA/xp1/train/75_target_seg.png\n",
      "Reading source image /home/haehn/Dropbox/RESEARCH/MITOCHONDRIA/xp1/train/76_source.png\n",
      "Reading target image /home/haehn/Dropbox/RESEARCH/MITOCHONDRIA/xp1/train/76_target.png\n",
      "Reading source segmentation /home/haehn/Dropbox/RESEARCH/MITOCHONDRIA/xp1/train/76_source_seg.png\n",
      "Reading target segmentation /home/haehn/Dropbox/RESEARCH/MITOCHONDRIA/xp1/train/76_target_seg.png\n",
      "Reading source image /home/haehn/Dropbox/RESEARCH/MITOCHONDRIA/xp1/train/77_source.png\n",
      "Reading target image /home/haehn/Dropbox/RESEARCH/MITOCHONDRIA/xp1/train/77_target.png\n",
      "Reading source segmentation /home/haehn/Dropbox/RESEARCH/MITOCHONDRIA/xp1/train/77_source_seg.png\n",
      "Reading target segmentation /home/haehn/Dropbox/RESEARCH/MITOCHONDRIA/xp1/train/77_target_seg.png\n",
      "Reading source image /home/haehn/Dropbox/RESEARCH/MITOCHONDRIA/xp1/train/78_source.png\n",
      "Reading target image /home/haehn/Dropbox/RESEARCH/MITOCHONDRIA/xp1/train/78_target.png\n",
      "Reading source segmentation /home/haehn/Dropbox/RESEARCH/MITOCHONDRIA/xp1/train/78_source_seg.png\n",
      "Reading target segmentation /home/haehn/Dropbox/RESEARCH/MITOCHONDRIA/xp1/train/78_target_seg.png\n",
      "Reading source image /home/haehn/Dropbox/RESEARCH/MITOCHONDRIA/xp1/train/79_source.png\n",
      "Reading target image /home/haehn/Dropbox/RESEARCH/MITOCHONDRIA/xp1/train/79_target.png\n",
      "Reading source segmentation /home/haehn/Dropbox/RESEARCH/MITOCHONDRIA/xp1/train/79_source_seg.png\n",
      "Reading target segmentation /home/haehn/Dropbox/RESEARCH/MITOCHONDRIA/xp1/train/79_target_seg.png\n",
      "Reading source image /home/haehn/Dropbox/RESEARCH/MITOCHONDRIA/xp1/train/7_source.png\n",
      "Reading target image /home/haehn/Dropbox/RESEARCH/MITOCHONDRIA/xp1/train/7_target.png\n",
      "Reading source segmentation /home/haehn/Dropbox/RESEARCH/MITOCHONDRIA/xp1/train/7_source_seg.png\n",
      "Reading target segmentation /home/haehn/Dropbox/RESEARCH/MITOCHONDRIA/xp1/train/7_target_seg.png\n",
      "Reading source image /home/haehn/Dropbox/RESEARCH/MITOCHONDRIA/xp1/train/80_source.png\n",
      "Reading target image /home/haehn/Dropbox/RESEARCH/MITOCHONDRIA/xp1/train/80_target.png\n",
      "Reading source segmentation /home/haehn/Dropbox/RESEARCH/MITOCHONDRIA/xp1/train/80_source_seg.png\n",
      "Reading target segmentation /home/haehn/Dropbox/RESEARCH/MITOCHONDRIA/xp1/train/80_target_seg.png\n",
      "Reading source image /home/haehn/Dropbox/RESEARCH/MITOCHONDRIA/xp1/train/81_source.png\n",
      "Reading target image /home/haehn/Dropbox/RESEARCH/MITOCHONDRIA/xp1/train/81_target.png\n",
      "Reading source segmentation /home/haehn/Dropbox/RESEARCH/MITOCHONDRIA/xp1/train/81_source_seg.png\n",
      "Reading target segmentation /home/haehn/Dropbox/RESEARCH/MITOCHONDRIA/xp1/train/81_target_seg.png\n",
      "Reading source image /home/haehn/Dropbox/RESEARCH/MITOCHONDRIA/xp1/train/82_source.png\n",
      "Reading target image /home/haehn/Dropbox/RESEARCH/MITOCHONDRIA/xp1/train/82_target.png\n",
      "Reading source segmentation /home/haehn/Dropbox/RESEARCH/MITOCHONDRIA/xp1/train/82_source_seg.png\n",
      "Reading target segmentation /home/haehn/Dropbox/RESEARCH/MITOCHONDRIA/xp1/train/82_target_seg.png\n",
      "Reading source image /home/haehn/Dropbox/RESEARCH/MITOCHONDRIA/xp1/train/83_source.png\n",
      "Reading target image /home/haehn/Dropbox/RESEARCH/MITOCHONDRIA/xp1/train/83_target.png\n",
      "Reading source segmentation /home/haehn/Dropbox/RESEARCH/MITOCHONDRIA/xp1/train/83_source_seg.png\n",
      "Reading target segmentation /home/haehn/Dropbox/RESEARCH/MITOCHONDRIA/xp1/train/83_target_seg.png\n",
      "Reading source image /home/haehn/Dropbox/RESEARCH/MITOCHONDRIA/xp1/train/84_source.png\n",
      "Reading target image /home/haehn/Dropbox/RESEARCH/MITOCHONDRIA/xp1/train/84_target.png\n",
      "Reading source segmentation /home/haehn/Dropbox/RESEARCH/MITOCHONDRIA/xp1/train/84_source_seg.png\n",
      "Reading target segmentation /home/haehn/Dropbox/RESEARCH/MITOCHONDRIA/xp1/train/84_target_seg.png\n",
      "Reading source image /home/haehn/Dropbox/RESEARCH/MITOCHONDRIA/xp1/train/85_source.png\n",
      "Reading target image /home/haehn/Dropbox/RESEARCH/MITOCHONDRIA/xp1/train/85_target.png\n",
      "Reading source segmentation /home/haehn/Dropbox/RESEARCH/MITOCHONDRIA/xp1/train/85_source_seg.png\n",
      "Reading target segmentation /home/haehn/Dropbox/RESEARCH/MITOCHONDRIA/xp1/train/85_target_seg.png\n",
      "Reading source image /home/haehn/Dropbox/RESEARCH/MITOCHONDRIA/xp1/train/86_source.png\n",
      "Reading target image /home/haehn/Dropbox/RESEARCH/MITOCHONDRIA/xp1/train/86_target.png\n",
      "Reading source segmentation /home/haehn/Dropbox/RESEARCH/MITOCHONDRIA/xp1/train/86_source_seg.png\n",
      "Reading target segmentation /home/haehn/Dropbox/RESEARCH/MITOCHONDRIA/xp1/train/86_target_seg.png\n",
      "Reading source image /home/haehn/Dropbox/RESEARCH/MITOCHONDRIA/xp1/train/87_source.png\n",
      "Reading target image /home/haehn/Dropbox/RESEARCH/MITOCHONDRIA/xp1/train/87_target.png\n",
      "Reading source segmentation /home/haehn/Dropbox/RESEARCH/MITOCHONDRIA/xp1/train/87_source_seg.png\n",
      "Reading target segmentation /home/haehn/Dropbox/RESEARCH/MITOCHONDRIA/xp1/train/87_target_seg.png\n",
      "Reading source image /home/haehn/Dropbox/RESEARCH/MITOCHONDRIA/xp1/train/88_source.png\n",
      "Reading target image /home/haehn/Dropbox/RESEARCH/MITOCHONDRIA/xp1/train/88_target.png\n",
      "Reading source segmentation /home/haehn/Dropbox/RESEARCH/MITOCHONDRIA/xp1/train/88_source_seg.png\n",
      "Reading target segmentation /home/haehn/Dropbox/RESEARCH/MITOCHONDRIA/xp1/train/88_target_seg.png\n",
      "Reading source image /home/haehn/Dropbox/RESEARCH/MITOCHONDRIA/xp1/train/89_source.png\n",
      "Reading target image /home/haehn/Dropbox/RESEARCH/MITOCHONDRIA/xp1/train/89_target.png\n",
      "Reading source segmentation /home/haehn/Dropbox/RESEARCH/MITOCHONDRIA/xp1/train/89_source_seg.png\n",
      "Reading target segmentation /home/haehn/Dropbox/RESEARCH/MITOCHONDRIA/xp1/train/89_target_seg.png\n",
      "Reading source image /home/haehn/Dropbox/RESEARCH/MITOCHONDRIA/xp1/train/8_source.png\n",
      "Reading target image /home/haehn/Dropbox/RESEARCH/MITOCHONDRIA/xp1/train/8_target.png\n",
      "Reading source segmentation /home/haehn/Dropbox/RESEARCH/MITOCHONDRIA/xp1/train/8_source_seg.png\n",
      "Reading target segmentation /home/haehn/Dropbox/RESEARCH/MITOCHONDRIA/xp1/train/8_target_seg.png\n",
      "Reading source image /home/haehn/Dropbox/RESEARCH/MITOCHONDRIA/xp1/train/90_source.png\n",
      "Reading target image /home/haehn/Dropbox/RESEARCH/MITOCHONDRIA/xp1/train/90_target.png\n",
      "Reading source segmentation /home/haehn/Dropbox/RESEARCH/MITOCHONDRIA/xp1/train/90_source_seg.png\n",
      "Reading target segmentation /home/haehn/Dropbox/RESEARCH/MITOCHONDRIA/xp1/train/90_target_seg.png\n",
      "Reading source image /home/haehn/Dropbox/RESEARCH/MITOCHONDRIA/xp1/train/91_source.png\n",
      "Reading target image /home/haehn/Dropbox/RESEARCH/MITOCHONDRIA/xp1/train/91_target.png\n",
      "Reading source segmentation /home/haehn/Dropbox/RESEARCH/MITOCHONDRIA/xp1/train/91_source_seg.png\n",
      "Reading target segmentation /home/haehn/Dropbox/RESEARCH/MITOCHONDRIA/xp1/train/91_target_seg.png\n",
      "Reading source image /home/haehn/Dropbox/RESEARCH/MITOCHONDRIA/xp1/train/92_source.png\n",
      "Reading target image /home/haehn/Dropbox/RESEARCH/MITOCHONDRIA/xp1/train/92_target.png\n",
      "Reading source segmentation /home/haehn/Dropbox/RESEARCH/MITOCHONDRIA/xp1/train/92_source_seg.png\n",
      "Reading target segmentation /home/haehn/Dropbox/RESEARCH/MITOCHONDRIA/xp1/train/92_target_seg.png\n",
      "Reading source image /home/haehn/Dropbox/RESEARCH/MITOCHONDRIA/xp1/train/93_source.png\n",
      "Reading target image /home/haehn/Dropbox/RESEARCH/MITOCHONDRIA/xp1/train/93_target.png\n",
      "Reading source segmentation /home/haehn/Dropbox/RESEARCH/MITOCHONDRIA/xp1/train/93_source_seg.png\n",
      "Reading target segmentation /home/haehn/Dropbox/RESEARCH/MITOCHONDRIA/xp1/train/93_target_seg.png\n",
      "Reading source image /home/haehn/Dropbox/RESEARCH/MITOCHONDRIA/xp1/train/94_source.png\n",
      "Reading target image /home/haehn/Dropbox/RESEARCH/MITOCHONDRIA/xp1/train/94_target.png\n",
      "Reading source segmentation /home/haehn/Dropbox/RESEARCH/MITOCHONDRIA/xp1/train/94_source_seg.png\n",
      "Reading target segmentation /home/haehn/Dropbox/RESEARCH/MITOCHONDRIA/xp1/train/94_target_seg.png\n",
      "Reading source image /home/haehn/Dropbox/RESEARCH/MITOCHONDRIA/xp1/train/95_source.png\n",
      "Reading target image /home/haehn/Dropbox/RESEARCH/MITOCHONDRIA/xp1/train/95_target.png\n",
      "Reading source segmentation /home/haehn/Dropbox/RESEARCH/MITOCHONDRIA/xp1/train/95_source_seg.png\n",
      "Reading target segmentation /home/haehn/Dropbox/RESEARCH/MITOCHONDRIA/xp1/train/95_target_seg.png\n",
      "Reading source image /home/haehn/Dropbox/RESEARCH/MITOCHONDRIA/xp1/train/96_source.png\n",
      "Reading target image /home/haehn/Dropbox/RESEARCH/MITOCHONDRIA/xp1/train/96_target.png\n",
      "Reading source segmentation /home/haehn/Dropbox/RESEARCH/MITOCHONDRIA/xp1/train/96_source_seg.png\n",
      "Reading target segmentation /home/haehn/Dropbox/RESEARCH/MITOCHONDRIA/xp1/train/96_target_seg.png\n",
      "Reading source image /home/haehn/Dropbox/RESEARCH/MITOCHONDRIA/xp1/train/97_source.png\n",
      "Reading target image /home/haehn/Dropbox/RESEARCH/MITOCHONDRIA/xp1/train/97_target.png\n",
      "Reading source segmentation /home/haehn/Dropbox/RESEARCH/MITOCHONDRIA/xp1/train/97_source_seg.png\n",
      "Reading target segmentation /home/haehn/Dropbox/RESEARCH/MITOCHONDRIA/xp1/train/97_target_seg.png\n",
      "Reading source image /home/haehn/Dropbox/RESEARCH/MITOCHONDRIA/xp1/train/98_source.png\n",
      "Reading target image /home/haehn/Dropbox/RESEARCH/MITOCHONDRIA/xp1/train/98_target.png\n",
      "Reading source segmentation /home/haehn/Dropbox/RESEARCH/MITOCHONDRIA/xp1/train/98_source_seg.png\n",
      "Reading target segmentation /home/haehn/Dropbox/RESEARCH/MITOCHONDRIA/xp1/train/98_target_seg.png\n",
      "Reading source image /home/haehn/Dropbox/RESEARCH/MITOCHONDRIA/xp1/train/99_source.png\n",
      "Reading target image /home/haehn/Dropbox/RESEARCH/MITOCHONDRIA/xp1/train/99_target.png\n",
      "Reading source segmentation /home/haehn/Dropbox/RESEARCH/MITOCHONDRIA/xp1/train/99_source_seg.png\n",
      "Reading target segmentation /home/haehn/Dropbox/RESEARCH/MITOCHONDRIA/xp1/train/99_target_seg.png\n",
      "Reading source image /home/haehn/Dropbox/RESEARCH/MITOCHONDRIA/xp1/train/9_source.png\n",
      "Reading target image /home/haehn/Dropbox/RESEARCH/MITOCHONDRIA/xp1/train/9_target.png\n",
      "Reading source segmentation /home/haehn/Dropbox/RESEARCH/MITOCHONDRIA/xp1/train/9_source_seg.png\n",
      "Reading target segmentation /home/haehn/Dropbox/RESEARCH/MITOCHONDRIA/xp1/train/9_target_seg.png\n",
      "----------------------------------------\n",
      "VALIDATION data...\n",
      "----------------------------------------\n",
      "Reading source image /home/haehn/Dropbox/RESEARCH/MITOCHONDRIA/xp1/test/0_source.png\n",
      "Reading target image /home/haehn/Dropbox/RESEARCH/MITOCHONDRIA/xp1/test/0_target.png\n",
      "Reading source segmentation /home/haehn/Dropbox/RESEARCH/MITOCHONDRIA/xp1/test/0_source_seg.png\n",
      "Reading target segmentation /home/haehn/Dropbox/RESEARCH/MITOCHONDRIA/xp1/test/0_target_seg.png\n",
      "Reading source image /home/haehn/Dropbox/RESEARCH/MITOCHONDRIA/xp1/test/10_source.png\n",
      "Reading target image /home/haehn/Dropbox/RESEARCH/MITOCHONDRIA/xp1/test/10_target.png\n",
      "Reading source segmentation /home/haehn/Dropbox/RESEARCH/MITOCHONDRIA/xp1/test/10_source_seg.png\n",
      "Reading target segmentation /home/haehn/Dropbox/RESEARCH/MITOCHONDRIA/xp1/test/10_target_seg.png\n",
      "Reading source image /home/haehn/Dropbox/RESEARCH/MITOCHONDRIA/xp1/test/11_source.png\n",
      "Reading target image /home/haehn/Dropbox/RESEARCH/MITOCHONDRIA/xp1/test/11_target.png\n",
      "Reading source segmentation /home/haehn/Dropbox/RESEARCH/MITOCHONDRIA/xp1/test/11_source_seg.png\n",
      "Reading target segmentation /home/haehn/Dropbox/RESEARCH/MITOCHONDRIA/xp1/test/11_target_seg.png\n"
     ]
    },
    {
     "name": "stdout",
     "output_type": "stream",
     "text": [
      "Reading source image /home/haehn/Dropbox/RESEARCH/MITOCHONDRIA/xp1/test/12_source.png\n",
      "Reading target image /home/haehn/Dropbox/RESEARCH/MITOCHONDRIA/xp1/test/12_target.png\n",
      "Reading source segmentation /home/haehn/Dropbox/RESEARCH/MITOCHONDRIA/xp1/test/12_source_seg.png\n",
      "Reading target segmentation /home/haehn/Dropbox/RESEARCH/MITOCHONDRIA/xp1/test/12_target_seg.png\n",
      "Reading source image /home/haehn/Dropbox/RESEARCH/MITOCHONDRIA/xp1/test/13_source.png\n",
      "Reading target image /home/haehn/Dropbox/RESEARCH/MITOCHONDRIA/xp1/test/13_target.png\n",
      "Reading source segmentation /home/haehn/Dropbox/RESEARCH/MITOCHONDRIA/xp1/test/13_source_seg.png\n",
      "Reading target segmentation /home/haehn/Dropbox/RESEARCH/MITOCHONDRIA/xp1/test/13_target_seg.png\n",
      "Reading source image /home/haehn/Dropbox/RESEARCH/MITOCHONDRIA/xp1/test/14_source.png\n",
      "Reading target image /home/haehn/Dropbox/RESEARCH/MITOCHONDRIA/xp1/test/14_target.png\n",
      "Reading source segmentation /home/haehn/Dropbox/RESEARCH/MITOCHONDRIA/xp1/test/14_source_seg.png\n",
      "Reading target segmentation /home/haehn/Dropbox/RESEARCH/MITOCHONDRIA/xp1/test/14_target_seg.png\n",
      "Reading source image /home/haehn/Dropbox/RESEARCH/MITOCHONDRIA/xp1/test/15_source.png\n",
      "Reading target image /home/haehn/Dropbox/RESEARCH/MITOCHONDRIA/xp1/test/15_target.png\n",
      "Reading source segmentation /home/haehn/Dropbox/RESEARCH/MITOCHONDRIA/xp1/test/15_source_seg.png\n",
      "Reading target segmentation /home/haehn/Dropbox/RESEARCH/MITOCHONDRIA/xp1/test/15_target_seg.png\n",
      "Reading source image /home/haehn/Dropbox/RESEARCH/MITOCHONDRIA/xp1/test/16_source.png\n",
      "Reading target image /home/haehn/Dropbox/RESEARCH/MITOCHONDRIA/xp1/test/16_target.png\n",
      "Reading source segmentation /home/haehn/Dropbox/RESEARCH/MITOCHONDRIA/xp1/test/16_source_seg.png\n",
      "Reading target segmentation /home/haehn/Dropbox/RESEARCH/MITOCHONDRIA/xp1/test/16_target_seg.png\n",
      "Reading source image /home/haehn/Dropbox/RESEARCH/MITOCHONDRIA/xp1/test/17_source.png\n",
      "Reading target image /home/haehn/Dropbox/RESEARCH/MITOCHONDRIA/xp1/test/17_target.png\n",
      "Reading source segmentation /home/haehn/Dropbox/RESEARCH/MITOCHONDRIA/xp1/test/17_source_seg.png\n",
      "Reading target segmentation /home/haehn/Dropbox/RESEARCH/MITOCHONDRIA/xp1/test/17_target_seg.png\n",
      "Reading source image /home/haehn/Dropbox/RESEARCH/MITOCHONDRIA/xp1/test/18_source.png\n",
      "Reading target image /home/haehn/Dropbox/RESEARCH/MITOCHONDRIA/xp1/test/18_target.png\n",
      "Reading source segmentation /home/haehn/Dropbox/RESEARCH/MITOCHONDRIA/xp1/test/18_source_seg.png\n",
      "Reading target segmentation /home/haehn/Dropbox/RESEARCH/MITOCHONDRIA/xp1/test/18_target_seg.png\n",
      "Reading source image /home/haehn/Dropbox/RESEARCH/MITOCHONDRIA/xp1/test/19_source.png\n",
      "Reading target image /home/haehn/Dropbox/RESEARCH/MITOCHONDRIA/xp1/test/19_target.png\n",
      "Reading source segmentation /home/haehn/Dropbox/RESEARCH/MITOCHONDRIA/xp1/test/19_source_seg.png\n",
      "Reading target segmentation /home/haehn/Dropbox/RESEARCH/MITOCHONDRIA/xp1/test/19_target_seg.png\n",
      "Reading source image /home/haehn/Dropbox/RESEARCH/MITOCHONDRIA/xp1/test/1_source.png\n",
      "Reading target image /home/haehn/Dropbox/RESEARCH/MITOCHONDRIA/xp1/test/1_target.png\n",
      "Reading source segmentation /home/haehn/Dropbox/RESEARCH/MITOCHONDRIA/xp1/test/1_source_seg.png\n",
      "Reading target segmentation /home/haehn/Dropbox/RESEARCH/MITOCHONDRIA/xp1/test/1_target_seg.png\n",
      "Reading source image /home/haehn/Dropbox/RESEARCH/MITOCHONDRIA/xp1/test/20_source.png\n",
      "Reading target image /home/haehn/Dropbox/RESEARCH/MITOCHONDRIA/xp1/test/20_target.png\n",
      "Reading source segmentation /home/haehn/Dropbox/RESEARCH/MITOCHONDRIA/xp1/test/20_source_seg.png\n",
      "Reading target segmentation /home/haehn/Dropbox/RESEARCH/MITOCHONDRIA/xp1/test/20_target_seg.png\n",
      "Reading source image /home/haehn/Dropbox/RESEARCH/MITOCHONDRIA/xp1/test/21_source.png\n",
      "Reading target image /home/haehn/Dropbox/RESEARCH/MITOCHONDRIA/xp1/test/21_target.png\n",
      "Reading source segmentation /home/haehn/Dropbox/RESEARCH/MITOCHONDRIA/xp1/test/21_source_seg.png\n",
      "Reading target segmentation /home/haehn/Dropbox/RESEARCH/MITOCHONDRIA/xp1/test/21_target_seg.png\n",
      "Reading source image /home/haehn/Dropbox/RESEARCH/MITOCHONDRIA/xp1/test/22_source.png\n",
      "Reading target image /home/haehn/Dropbox/RESEARCH/MITOCHONDRIA/xp1/test/22_target.png\n",
      "Reading source segmentation /home/haehn/Dropbox/RESEARCH/MITOCHONDRIA/xp1/test/22_source_seg.png\n",
      "Reading target segmentation /home/haehn/Dropbox/RESEARCH/MITOCHONDRIA/xp1/test/22_target_seg.png\n",
      "Reading source image /home/haehn/Dropbox/RESEARCH/MITOCHONDRIA/xp1/test/23_source.png\n",
      "Reading target image /home/haehn/Dropbox/RESEARCH/MITOCHONDRIA/xp1/test/23_target.png\n",
      "Reading source segmentation /home/haehn/Dropbox/RESEARCH/MITOCHONDRIA/xp1/test/23_source_seg.png\n",
      "Reading target segmentation /home/haehn/Dropbox/RESEARCH/MITOCHONDRIA/xp1/test/23_target_seg.png\n",
      "Reading source image /home/haehn/Dropbox/RESEARCH/MITOCHONDRIA/xp1/test/24_source.png\n",
      "Reading target image /home/haehn/Dropbox/RESEARCH/MITOCHONDRIA/xp1/test/24_target.png\n",
      "Reading source segmentation /home/haehn/Dropbox/RESEARCH/MITOCHONDRIA/xp1/test/24_source_seg.png\n",
      "Reading target segmentation /home/haehn/Dropbox/RESEARCH/MITOCHONDRIA/xp1/test/24_target_seg.png\n",
      "Reading source image /home/haehn/Dropbox/RESEARCH/MITOCHONDRIA/xp1/test/25_source.png\n",
      "Reading target image /home/haehn/Dropbox/RESEARCH/MITOCHONDRIA/xp1/test/25_target.png\n",
      "Reading source segmentation /home/haehn/Dropbox/RESEARCH/MITOCHONDRIA/xp1/test/25_source_seg.png\n",
      "Reading target segmentation /home/haehn/Dropbox/RESEARCH/MITOCHONDRIA/xp1/test/25_target_seg.png\n",
      "Reading source image /home/haehn/Dropbox/RESEARCH/MITOCHONDRIA/xp1/test/26_source.png\n",
      "Reading target image /home/haehn/Dropbox/RESEARCH/MITOCHONDRIA/xp1/test/26_target.png\n",
      "Reading source segmentation /home/haehn/Dropbox/RESEARCH/MITOCHONDRIA/xp1/test/26_source_seg.png\n",
      "Reading target segmentation /home/haehn/Dropbox/RESEARCH/MITOCHONDRIA/xp1/test/26_target_seg.png\n",
      "Reading source image /home/haehn/Dropbox/RESEARCH/MITOCHONDRIA/xp1/test/27_source.png\n",
      "Reading target image /home/haehn/Dropbox/RESEARCH/MITOCHONDRIA/xp1/test/27_target.png\n",
      "Reading source segmentation /home/haehn/Dropbox/RESEARCH/MITOCHONDRIA/xp1/test/27_source_seg.png\n",
      "Reading target segmentation /home/haehn/Dropbox/RESEARCH/MITOCHONDRIA/xp1/test/27_target_seg.png\n",
      "Reading source image /home/haehn/Dropbox/RESEARCH/MITOCHONDRIA/xp1/test/28_source.png\n",
      "Reading target image /home/haehn/Dropbox/RESEARCH/MITOCHONDRIA/xp1/test/28_target.png\n",
      "Reading source segmentation /home/haehn/Dropbox/RESEARCH/MITOCHONDRIA/xp1/test/28_source_seg.png\n",
      "Reading target segmentation /home/haehn/Dropbox/RESEARCH/MITOCHONDRIA/xp1/test/28_target_seg.png\n",
      "Reading source image /home/haehn/Dropbox/RESEARCH/MITOCHONDRIA/xp1/test/29_source.png\n",
      "Reading target image /home/haehn/Dropbox/RESEARCH/MITOCHONDRIA/xp1/test/29_target.png\n",
      "Reading source segmentation /home/haehn/Dropbox/RESEARCH/MITOCHONDRIA/xp1/test/29_source_seg.png\n",
      "Reading target segmentation /home/haehn/Dropbox/RESEARCH/MITOCHONDRIA/xp1/test/29_target_seg.png\n",
      "Reading source image /home/haehn/Dropbox/RESEARCH/MITOCHONDRIA/xp1/test/2_source.png\n",
      "Reading target image /home/haehn/Dropbox/RESEARCH/MITOCHONDRIA/xp1/test/2_target.png\n",
      "Reading source segmentation /home/haehn/Dropbox/RESEARCH/MITOCHONDRIA/xp1/test/2_source_seg.png\n",
      "Reading target segmentation /home/haehn/Dropbox/RESEARCH/MITOCHONDRIA/xp1/test/2_target_seg.png\n",
      "Reading source image /home/haehn/Dropbox/RESEARCH/MITOCHONDRIA/xp1/test/30_source.png\n",
      "Reading target image /home/haehn/Dropbox/RESEARCH/MITOCHONDRIA/xp1/test/30_target.png\n",
      "Reading source segmentation /home/haehn/Dropbox/RESEARCH/MITOCHONDRIA/xp1/test/30_source_seg.png\n",
      "Reading target segmentation /home/haehn/Dropbox/RESEARCH/MITOCHONDRIA/xp1/test/30_target_seg.png\n",
      "Reading source image /home/haehn/Dropbox/RESEARCH/MITOCHONDRIA/xp1/test/31_source.png\n",
      "Reading target image /home/haehn/Dropbox/RESEARCH/MITOCHONDRIA/xp1/test/31_target.png\n",
      "Reading source segmentation /home/haehn/Dropbox/RESEARCH/MITOCHONDRIA/xp1/test/31_source_seg.png\n",
      "Reading target segmentation /home/haehn/Dropbox/RESEARCH/MITOCHONDRIA/xp1/test/31_target_seg.png\n",
      "Reading source image /home/haehn/Dropbox/RESEARCH/MITOCHONDRIA/xp1/test/32_source.png\n",
      "Reading target image /home/haehn/Dropbox/RESEARCH/MITOCHONDRIA/xp1/test/32_target.png\n",
      "Reading source segmentation /home/haehn/Dropbox/RESEARCH/MITOCHONDRIA/xp1/test/32_source_seg.png\n",
      "Reading target segmentation /home/haehn/Dropbox/RESEARCH/MITOCHONDRIA/xp1/test/32_target_seg.png\n",
      "Reading source image /home/haehn/Dropbox/RESEARCH/MITOCHONDRIA/xp1/test/33_source.png\n",
      "Reading target image /home/haehn/Dropbox/RESEARCH/MITOCHONDRIA/xp1/test/33_target.png\n",
      "Reading source segmentation /home/haehn/Dropbox/RESEARCH/MITOCHONDRIA/xp1/test/33_source_seg.png\n",
      "Reading target segmentation /home/haehn/Dropbox/RESEARCH/MITOCHONDRIA/xp1/test/33_target_seg.png\n",
      "Reading source image /home/haehn/Dropbox/RESEARCH/MITOCHONDRIA/xp1/test/34_source.png\n",
      "Reading target image /home/haehn/Dropbox/RESEARCH/MITOCHONDRIA/xp1/test/34_target.png\n",
      "Reading source segmentation /home/haehn/Dropbox/RESEARCH/MITOCHONDRIA/xp1/test/34_source_seg.png\n",
      "Reading target segmentation /home/haehn/Dropbox/RESEARCH/MITOCHONDRIA/xp1/test/34_target_seg.png\n",
      "Reading source image /home/haehn/Dropbox/RESEARCH/MITOCHONDRIA/xp1/test/35_source.png\n",
      "Reading target image /home/haehn/Dropbox/RESEARCH/MITOCHONDRIA/xp1/test/35_target.png\n",
      "Reading source segmentation /home/haehn/Dropbox/RESEARCH/MITOCHONDRIA/xp1/test/35_source_seg.png\n",
      "Reading target segmentation /home/haehn/Dropbox/RESEARCH/MITOCHONDRIA/xp1/test/35_target_seg.png\n",
      "Reading source image /home/haehn/Dropbox/RESEARCH/MITOCHONDRIA/xp1/test/36_source.png\n",
      "Reading target image /home/haehn/Dropbox/RESEARCH/MITOCHONDRIA/xp1/test/36_target.png\n",
      "Reading source segmentation /home/haehn/Dropbox/RESEARCH/MITOCHONDRIA/xp1/test/36_source_seg.png\n",
      "Reading target segmentation /home/haehn/Dropbox/RESEARCH/MITOCHONDRIA/xp1/test/36_target_seg.png\n",
      "Reading source image /home/haehn/Dropbox/RESEARCH/MITOCHONDRIA/xp1/test/37_source.png\n",
      "Reading target image /home/haehn/Dropbox/RESEARCH/MITOCHONDRIA/xp1/test/37_target.png\n",
      "Reading source segmentation /home/haehn/Dropbox/RESEARCH/MITOCHONDRIA/xp1/test/37_source_seg.png\n",
      "Reading target segmentation /home/haehn/Dropbox/RESEARCH/MITOCHONDRIA/xp1/test/37_target_seg.png\n",
      "Reading source image /home/haehn/Dropbox/RESEARCH/MITOCHONDRIA/xp1/test/38_source.png\n",
      "Reading target image /home/haehn/Dropbox/RESEARCH/MITOCHONDRIA/xp1/test/38_target.png\n",
      "Reading source segmentation /home/haehn/Dropbox/RESEARCH/MITOCHONDRIA/xp1/test/38_source_seg.png\n",
      "Reading target segmentation /home/haehn/Dropbox/RESEARCH/MITOCHONDRIA/xp1/test/38_target_seg.png\n",
      "Reading source image /home/haehn/Dropbox/RESEARCH/MITOCHONDRIA/xp1/test/39_source.png\n",
      "Reading target image /home/haehn/Dropbox/RESEARCH/MITOCHONDRIA/xp1/test/39_target.png\n",
      "Reading source segmentation /home/haehn/Dropbox/RESEARCH/MITOCHONDRIA/xp1/test/39_source_seg.png\n",
      "Reading target segmentation /home/haehn/Dropbox/RESEARCH/MITOCHONDRIA/xp1/test/39_target_seg.png\n",
      "Reading source image /home/haehn/Dropbox/RESEARCH/MITOCHONDRIA/xp1/test/3_source.png\n",
      "Reading target image /home/haehn/Dropbox/RESEARCH/MITOCHONDRIA/xp1/test/3_target.png\n",
      "Reading source segmentation /home/haehn/Dropbox/RESEARCH/MITOCHONDRIA/xp1/test/3_source_seg.png\n",
      "Reading target segmentation /home/haehn/Dropbox/RESEARCH/MITOCHONDRIA/xp1/test/3_target_seg.png\n",
      "Reading source image /home/haehn/Dropbox/RESEARCH/MITOCHONDRIA/xp1/test/40_source.png\n",
      "Reading target image /home/haehn/Dropbox/RESEARCH/MITOCHONDRIA/xp1/test/40_target.png\n",
      "Reading source segmentation /home/haehn/Dropbox/RESEARCH/MITOCHONDRIA/xp1/test/40_source_seg.png\n",
      "Reading target segmentation /home/haehn/Dropbox/RESEARCH/MITOCHONDRIA/xp1/test/40_target_seg.png\n",
      "Reading source image /home/haehn/Dropbox/RESEARCH/MITOCHONDRIA/xp1/test/41_source.png\n",
      "Reading target image /home/haehn/Dropbox/RESEARCH/MITOCHONDRIA/xp1/test/41_target.png\n",
      "Reading source segmentation /home/haehn/Dropbox/RESEARCH/MITOCHONDRIA/xp1/test/41_source_seg.png\n",
      "Reading target segmentation /home/haehn/Dropbox/RESEARCH/MITOCHONDRIA/xp1/test/41_target_seg.png\n",
      "Reading source image /home/haehn/Dropbox/RESEARCH/MITOCHONDRIA/xp1/test/42_source.png\n",
      "Reading target image /home/haehn/Dropbox/RESEARCH/MITOCHONDRIA/xp1/test/42_target.png\n"
     ]
    },
    {
     "name": "stdout",
     "output_type": "stream",
     "text": [
      "Reading source segmentation /home/haehn/Dropbox/RESEARCH/MITOCHONDRIA/xp1/test/42_source_seg.png\n",
      "Reading target segmentation /home/haehn/Dropbox/RESEARCH/MITOCHONDRIA/xp1/test/42_target_seg.png\n",
      "Reading source image /home/haehn/Dropbox/RESEARCH/MITOCHONDRIA/xp1/test/43_source.png\n",
      "Reading target image /home/haehn/Dropbox/RESEARCH/MITOCHONDRIA/xp1/test/43_target.png\n",
      "Reading source segmentation /home/haehn/Dropbox/RESEARCH/MITOCHONDRIA/xp1/test/43_source_seg.png\n",
      "Reading target segmentation /home/haehn/Dropbox/RESEARCH/MITOCHONDRIA/xp1/test/43_target_seg.png\n",
      "Reading source image /home/haehn/Dropbox/RESEARCH/MITOCHONDRIA/xp1/test/44_source.png\n",
      "Reading target image /home/haehn/Dropbox/RESEARCH/MITOCHONDRIA/xp1/test/44_target.png\n",
      "Reading source segmentation /home/haehn/Dropbox/RESEARCH/MITOCHONDRIA/xp1/test/44_source_seg.png\n",
      "Reading target segmentation /home/haehn/Dropbox/RESEARCH/MITOCHONDRIA/xp1/test/44_target_seg.png\n",
      "Reading source image /home/haehn/Dropbox/RESEARCH/MITOCHONDRIA/xp1/test/45_source.png\n",
      "Reading target image /home/haehn/Dropbox/RESEARCH/MITOCHONDRIA/xp1/test/45_target.png\n",
      "Reading source segmentation /home/haehn/Dropbox/RESEARCH/MITOCHONDRIA/xp1/test/45_source_seg.png\n",
      "Reading target segmentation /home/haehn/Dropbox/RESEARCH/MITOCHONDRIA/xp1/test/45_target_seg.png\n",
      "Reading source image /home/haehn/Dropbox/RESEARCH/MITOCHONDRIA/xp1/test/46_source.png\n",
      "Reading target image /home/haehn/Dropbox/RESEARCH/MITOCHONDRIA/xp1/test/46_target.png\n",
      "Reading source segmentation /home/haehn/Dropbox/RESEARCH/MITOCHONDRIA/xp1/test/46_source_seg.png\n",
      "Reading target segmentation /home/haehn/Dropbox/RESEARCH/MITOCHONDRIA/xp1/test/46_target_seg.png\n",
      "Reading source image /home/haehn/Dropbox/RESEARCH/MITOCHONDRIA/xp1/test/47_source.png\n",
      "Reading target image /home/haehn/Dropbox/RESEARCH/MITOCHONDRIA/xp1/test/47_target.png\n",
      "Reading source segmentation /home/haehn/Dropbox/RESEARCH/MITOCHONDRIA/xp1/test/47_source_seg.png\n",
      "Reading target segmentation /home/haehn/Dropbox/RESEARCH/MITOCHONDRIA/xp1/test/47_target_seg.png\n",
      "Reading source image /home/haehn/Dropbox/RESEARCH/MITOCHONDRIA/xp1/test/48_source.png\n",
      "Reading target image /home/haehn/Dropbox/RESEARCH/MITOCHONDRIA/xp1/test/48_target.png\n",
      "Reading source segmentation /home/haehn/Dropbox/RESEARCH/MITOCHONDRIA/xp1/test/48_source_seg.png\n",
      "Reading target segmentation /home/haehn/Dropbox/RESEARCH/MITOCHONDRIA/xp1/test/48_target_seg.png\n",
      "Reading source image /home/haehn/Dropbox/RESEARCH/MITOCHONDRIA/xp1/test/49_source.png\n",
      "Reading target image /home/haehn/Dropbox/RESEARCH/MITOCHONDRIA/xp1/test/49_target.png\n",
      "Reading source segmentation /home/haehn/Dropbox/RESEARCH/MITOCHONDRIA/xp1/test/49_source_seg.png\n",
      "Reading target segmentation /home/haehn/Dropbox/RESEARCH/MITOCHONDRIA/xp1/test/49_target_seg.png\n",
      "Reading source image /home/haehn/Dropbox/RESEARCH/MITOCHONDRIA/xp1/test/4_source.png\n",
      "Reading target image /home/haehn/Dropbox/RESEARCH/MITOCHONDRIA/xp1/test/4_target.png\n",
      "Reading source segmentation /home/haehn/Dropbox/RESEARCH/MITOCHONDRIA/xp1/test/4_source_seg.png\n",
      "Reading target segmentation /home/haehn/Dropbox/RESEARCH/MITOCHONDRIA/xp1/test/4_target_seg.png\n",
      "Reading source image /home/haehn/Dropbox/RESEARCH/MITOCHONDRIA/xp1/test/50_source.png\n",
      "Reading target image /home/haehn/Dropbox/RESEARCH/MITOCHONDRIA/xp1/test/50_target.png\n",
      "Reading source segmentation /home/haehn/Dropbox/RESEARCH/MITOCHONDRIA/xp1/test/50_source_seg.png\n",
      "Reading target segmentation /home/haehn/Dropbox/RESEARCH/MITOCHONDRIA/xp1/test/50_target_seg.png\n",
      "Reading source image /home/haehn/Dropbox/RESEARCH/MITOCHONDRIA/xp1/test/51_source.png\n",
      "Reading target image /home/haehn/Dropbox/RESEARCH/MITOCHONDRIA/xp1/test/51_target.png\n",
      "Reading source segmentation /home/haehn/Dropbox/RESEARCH/MITOCHONDRIA/xp1/test/51_source_seg.png\n",
      "Reading target segmentation /home/haehn/Dropbox/RESEARCH/MITOCHONDRIA/xp1/test/51_target_seg.png\n",
      "Reading source image /home/haehn/Dropbox/RESEARCH/MITOCHONDRIA/xp1/test/52_source.png\n",
      "Reading target image /home/haehn/Dropbox/RESEARCH/MITOCHONDRIA/xp1/test/52_target.png\n",
      "Reading source segmentation /home/haehn/Dropbox/RESEARCH/MITOCHONDRIA/xp1/test/52_source_seg.png\n",
      "Reading target segmentation /home/haehn/Dropbox/RESEARCH/MITOCHONDRIA/xp1/test/52_target_seg.png\n",
      "Reading source image /home/haehn/Dropbox/RESEARCH/MITOCHONDRIA/xp1/test/53_source.png\n",
      "Reading target image /home/haehn/Dropbox/RESEARCH/MITOCHONDRIA/xp1/test/53_target.png\n",
      "Reading source segmentation /home/haehn/Dropbox/RESEARCH/MITOCHONDRIA/xp1/test/53_source_seg.png\n",
      "Reading target segmentation /home/haehn/Dropbox/RESEARCH/MITOCHONDRIA/xp1/test/53_target_seg.png\n",
      "Reading source image /home/haehn/Dropbox/RESEARCH/MITOCHONDRIA/xp1/test/54_source.png\n",
      "Reading target image /home/haehn/Dropbox/RESEARCH/MITOCHONDRIA/xp1/test/54_target.png\n",
      "Reading source segmentation /home/haehn/Dropbox/RESEARCH/MITOCHONDRIA/xp1/test/54_source_seg.png\n",
      "Reading target segmentation /home/haehn/Dropbox/RESEARCH/MITOCHONDRIA/xp1/test/54_target_seg.png\n",
      "Reading source image /home/haehn/Dropbox/RESEARCH/MITOCHONDRIA/xp1/test/55_source.png\n",
      "Reading target image /home/haehn/Dropbox/RESEARCH/MITOCHONDRIA/xp1/test/55_target.png\n",
      "Reading source segmentation /home/haehn/Dropbox/RESEARCH/MITOCHONDRIA/xp1/test/55_source_seg.png\n",
      "Reading target segmentation /home/haehn/Dropbox/RESEARCH/MITOCHONDRIA/xp1/test/55_target_seg.png\n",
      "Reading source image /home/haehn/Dropbox/RESEARCH/MITOCHONDRIA/xp1/test/56_source.png\n",
      "Reading target image /home/haehn/Dropbox/RESEARCH/MITOCHONDRIA/xp1/test/56_target.png\n",
      "Reading source segmentation /home/haehn/Dropbox/RESEARCH/MITOCHONDRIA/xp1/test/56_source_seg.png\n",
      "Reading target segmentation /home/haehn/Dropbox/RESEARCH/MITOCHONDRIA/xp1/test/56_target_seg.png\n",
      "Reading source image /home/haehn/Dropbox/RESEARCH/MITOCHONDRIA/xp1/test/57_source.png\n",
      "Reading target image /home/haehn/Dropbox/RESEARCH/MITOCHONDRIA/xp1/test/57_target.png\n",
      "Reading source segmentation /home/haehn/Dropbox/RESEARCH/MITOCHONDRIA/xp1/test/57_source_seg.png\n",
      "Reading target segmentation /home/haehn/Dropbox/RESEARCH/MITOCHONDRIA/xp1/test/57_target_seg.png\n",
      "Reading source image /home/haehn/Dropbox/RESEARCH/MITOCHONDRIA/xp1/test/58_source.png\n",
      "Reading target image /home/haehn/Dropbox/RESEARCH/MITOCHONDRIA/xp1/test/58_target.png\n",
      "Reading source segmentation /home/haehn/Dropbox/RESEARCH/MITOCHONDRIA/xp1/test/58_source_seg.png\n",
      "Reading target segmentation /home/haehn/Dropbox/RESEARCH/MITOCHONDRIA/xp1/test/58_target_seg.png\n",
      "Reading source image /home/haehn/Dropbox/RESEARCH/MITOCHONDRIA/xp1/test/59_source.png\n",
      "Reading target image /home/haehn/Dropbox/RESEARCH/MITOCHONDRIA/xp1/test/59_target.png\n"
     ]
    },
    {
     "name": "stderr",
     "output_type": "stream",
     "text": [
      "\r",
      "Epoch 1:   0%|          | 0/11 [00:00<?, ?it/s]"
     ]
    },
    {
     "name": "stdout",
     "output_type": "stream",
     "text": [
      "Reading source segmentation /home/haehn/Dropbox/RESEARCH/MITOCHONDRIA/xp1/test/59_source_seg.png\n",
      "Reading target segmentation /home/haehn/Dropbox/RESEARCH/MITOCHONDRIA/xp1/test/59_target_seg.png\n",
      "Reading source image /home/haehn/Dropbox/RESEARCH/MITOCHONDRIA/xp1/test/5_source.png\n",
      "Reading target image /home/haehn/Dropbox/RESEARCH/MITOCHONDRIA/xp1/test/5_target.png\n",
      "Reading source segmentation /home/haehn/Dropbox/RESEARCH/MITOCHONDRIA/xp1/test/5_source_seg.png\n",
      "Reading target segmentation /home/haehn/Dropbox/RESEARCH/MITOCHONDRIA/xp1/test/5_target_seg.png\n",
      "Reading source image /home/haehn/Dropbox/RESEARCH/MITOCHONDRIA/xp1/test/6_source.png\n",
      "Reading target image /home/haehn/Dropbox/RESEARCH/MITOCHONDRIA/xp1/test/6_target.png\n",
      "Reading source segmentation /home/haehn/Dropbox/RESEARCH/MITOCHONDRIA/xp1/test/6_source_seg.png\n",
      "Reading target segmentation /home/haehn/Dropbox/RESEARCH/MITOCHONDRIA/xp1/test/6_target_seg.png\n",
      "Reading source image /home/haehn/Dropbox/RESEARCH/MITOCHONDRIA/xp1/test/7_source.png\n",
      "Reading target image /home/haehn/Dropbox/RESEARCH/MITOCHONDRIA/xp1/test/7_target.png\n",
      "Reading source segmentation /home/haehn/Dropbox/RESEARCH/MITOCHONDRIA/xp1/test/7_source_seg.png\n",
      "Reading target segmentation /home/haehn/Dropbox/RESEARCH/MITOCHONDRIA/xp1/test/7_target_seg.png\n",
      "Reading source image /home/haehn/Dropbox/RESEARCH/MITOCHONDRIA/xp1/test/8_source.png\n",
      "Reading target image /home/haehn/Dropbox/RESEARCH/MITOCHONDRIA/xp1/test/8_target.png\n",
      "Reading source segmentation /home/haehn/Dropbox/RESEARCH/MITOCHONDRIA/xp1/test/8_source_seg.png\n",
      "Reading target segmentation /home/haehn/Dropbox/RESEARCH/MITOCHONDRIA/xp1/test/8_target_seg.png\n",
      "Reading source image /home/haehn/Dropbox/RESEARCH/MITOCHONDRIA/xp1/test/9_source.png\n",
      "Reading target image /home/haehn/Dropbox/RESEARCH/MITOCHONDRIA/xp1/test/9_target.png\n",
      "Reading source segmentation /home/haehn/Dropbox/RESEARCH/MITOCHONDRIA/xp1/test/9_source_seg.png\n",
      "Reading target segmentation /home/haehn/Dropbox/RESEARCH/MITOCHONDRIA/xp1/test/9_target_seg.png\n",
      "----------------------------------------\n"
     ]
    },
    {
     "name": "stderr",
     "output_type": "stream",
     "text": [
      "Epoch 1: 100%|██████████| 11/11 [00:08<00:00,  1.59it/s]\n",
      "Epoch 2:   0%|          | 0/11 [00:00<?, ?it/s]"
     ]
    },
    {
     "name": "stdout",
     "output_type": "stream",
     "text": [
      "----------------------------------------\n",
      "TRAIN\tEpoch: 1\tloss_itn: 18662.352628\tloss_stn_u: 2667.343728\tloss_stn_s: 3306.314719\tloss_stn_i: 17936.090376\tloss_stn_r: 2667.343728\tloss: 3306.314719\tmetric_dice: 0.259925\tmetric_hd: 20.619196\tmetric_asd: 4.583575\tmetric_precision: 0.202554\tmetric_recall: 0.363806\t\n",
      "VALID\tEpoch: 1\tloss_itn: 19892.049805\tloss_stn_u: 3059.594385\tloss_stn_s: 2068.444027\tloss_stn_i: 18358.154850\tloss_stn_r: 3059.594385\tloss: 2068.444027\tmetric_dice: 0.241587\tmetric_hd: 21.589224\tmetric_asd: 4.282688\tmetric_precision: 0.186595\tmetric_recall: 0.343137\t\n",
      "----------------------------------------\n"
     ]
    },
    {
     "name": "stderr",
     "output_type": "stream",
     "text": [
      "Epoch 2: 100%|██████████| 11/11 [00:08<00:00,  1.60it/s]\n",
      "Epoch 3: 100%|██████████| 11/11 [00:08<00:00,  1.63it/s]\n",
      "Epoch 4: 100%|██████████| 11/11 [00:08<00:00,  1.61it/s]\n",
      "Epoch 5: 100%|██████████| 11/11 [00:08<00:00,  1.58it/s]\n",
      "Epoch 6: 100%|██████████| 11/11 [00:08<00:00,  1.64it/s]\n",
      "Epoch 7: 100%|██████████| 11/11 [00:08<00:00,  1.61it/s]\n",
      "Epoch 8: 100%|██████████| 11/11 [00:07<00:00,  1.62it/s]\n",
      "Epoch 9: 100%|██████████| 11/11 [00:08<00:00,  1.60it/s]\n",
      "Epoch 10: 100%|██████████| 11/11 [00:08<00:00,  1.65it/s]\n",
      "Epoch 11:   0%|          | 0/11 [00:00<?, ?it/s]"
     ]
    },
    {
     "name": "stdout",
     "output_type": "stream",
     "text": [
      "----------------------------------------\n",
      "TRAIN\tEpoch: 10\tloss_itn: 18682.721236\tloss_stn_u: 3848.475497\tloss_stn_s: 3062.270930\tloss_stn_i: 15536.421520\tloss_stn_r: 3848.475497\tloss: 3062.270930\tmetric_dice: 0.229738\tmetric_hd: 21.372330\tmetric_asd: 4.622067\tmetric_precision: 0.202461\tmetric_recall: 0.265529\t\n",
      "VALID\tEpoch: 10\tloss_itn: 19892.049805\tloss_stn_u: 4162.874984\tloss_stn_s: 2094.389073\tloss_stn_i: 16407.685872\tloss_stn_r: 4162.874984\tloss: 2094.389073\tmetric_dice: 0.129710\tmetric_hd: 20.648125\tmetric_asd: 6.141738\tmetric_precision: 0.113251\tmetric_recall: 0.151998\t\n",
      "----------------------------------------\n"
     ]
    },
    {
     "name": "stderr",
     "output_type": "stream",
     "text": [
      "Epoch 11: 100%|██████████| 11/11 [00:08<00:00,  1.61it/s]\n",
      "Epoch 12: 100%|██████████| 11/11 [00:08<00:00,  1.61it/s]\n",
      "Epoch 13: 100%|██████████| 11/11 [00:08<00:00,  1.59it/s]\n",
      "Epoch 14: 100%|██████████| 11/11 [00:08<00:00,  1.59it/s]\n",
      "Epoch 15: 100%|██████████| 11/11 [00:08<00:00,  1.62it/s]\n",
      "Epoch 16: 100%|██████████| 11/11 [00:08<00:00,  1.61it/s]\n",
      "Epoch 17: 100%|██████████| 11/11 [00:08<00:00,  1.64it/s]\n",
      "Epoch 18: 100%|██████████| 11/11 [00:08<00:00,  1.62it/s]\n",
      "Epoch 19: 100%|██████████| 11/11 [00:08<00:00,  1.60it/s]\n",
      "Epoch 20: 100%|██████████| 11/11 [00:08<00:00,  1.63it/s]\n",
      "Epoch 21:   0%|          | 0/11 [00:00<?, ?it/s]"
     ]
    },
    {
     "name": "stdout",
     "output_type": "stream",
     "text": [
      "----------------------------------------\n",
      "TRAIN\tEpoch: 20\tloss_itn: 18772.952060\tloss_stn_u: 3906.727273\tloss_stn_s: 2916.979792\tloss_stn_i: 15608.726740\tloss_stn_r: 3906.727273\tloss: 2916.979792\tmetric_dice: 0.210766\tmetric_hd: 22.158580\tmetric_asd: 4.916632\tmetric_precision: 0.185456\tmetric_recall: 0.244112\t\n",
      "VALID\tEpoch: 20\tloss_itn: 19892.049805\tloss_stn_u: 4162.874870\tloss_stn_s: 2094.389079\tloss_stn_i: 16407.685791\tloss_stn_r: 4162.874870\tloss: 2094.389079\tmetric_dice: 0.129710\tmetric_hd: 20.648125\tmetric_asd: 6.141738\tmetric_precision: 0.113251\tmetric_recall: 0.151998\t\n",
      "----------------------------------------\n"
     ]
    },
    {
     "name": "stderr",
     "output_type": "stream",
     "text": [
      "Epoch 21: 100%|██████████| 11/11 [00:07<00:00,  1.63it/s]\n",
      "Epoch 22: 100%|██████████| 11/11 [00:08<00:00,  1.59it/s]\n",
      "Epoch 23: 100%|██████████| 11/11 [00:08<00:00,  1.60it/s]\n",
      "Epoch 24: 100%|██████████| 11/11 [00:08<00:00,  1.62it/s]\n",
      "Epoch 25: 100%|██████████| 11/11 [00:08<00:00,  1.60it/s]\n",
      "Epoch 26: 100%|██████████| 11/11 [00:08<00:00,  1.61it/s]\n",
      "Epoch 27: 100%|██████████| 11/11 [00:08<00:00,  1.62it/s]\n",
      "Epoch 28: 100%|██████████| 11/11 [00:08<00:00,  1.64it/s]\n",
      "Epoch 29: 100%|██████████| 11/11 [00:08<00:00,  1.60it/s]\n",
      "Epoch 30: 100%|██████████| 11/11 [00:08<00:00,  1.63it/s]\n",
      "Epoch 31:   0%|          | 0/11 [00:00<?, ?it/s]"
     ]
    },
    {
     "name": "stdout",
     "output_type": "stream",
     "text": [
      "----------------------------------------\n",
      "TRAIN\tEpoch: 30\tloss_itn: 18772.952237\tloss_stn_u: 3906.726984\tloss_stn_s: 2916.979392\tloss_stn_i: 15608.726829\tloss_stn_r: 3906.726984\tloss: 2916.979392\tmetric_dice: 0.211300\tmetric_hd: 22.158580\tmetric_asd: 4.916632\tmetric_precision: 0.185917\tmetric_recall: 0.244751\t\n",
      "VALID\tEpoch: 30\tloss_itn: 19892.049805\tloss_stn_u: 4162.874699\tloss_stn_s: 2094.389036\tloss_stn_i: 16407.685758\tloss_stn_r: 4162.874699\tloss: 2094.389036\tmetric_dice: 0.129710\tmetric_hd: 20.648125\tmetric_asd: 6.141738\tmetric_precision: 0.113251\tmetric_recall: 0.151998\t\n",
      "----------------------------------------\n"
     ]
    },
    {
     "name": "stderr",
     "output_type": "stream",
     "text": [
      "Epoch 31: 100%|██████████| 11/11 [00:08<00:00,  1.64it/s]\n",
      "Epoch 32: 100%|██████████| 11/11 [00:08<00:00,  1.61it/s]\n",
      "Epoch 33: 100%|██████████| 11/11 [00:08<00:00,  1.63it/s]\n",
      "Epoch 34: 100%|██████████| 11/11 [00:08<00:00,  1.64it/s]\n",
      "Epoch 35: 100%|██████████| 11/11 [00:08<00:00,  1.62it/s]\n",
      "Epoch 36: 100%|██████████| 11/11 [00:07<00:00,  1.65it/s]\n",
      "Epoch 37: 100%|██████████| 11/11 [00:08<00:00,  1.59it/s]\n",
      "Epoch 38: 100%|██████████| 11/11 [00:08<00:00,  1.62it/s]\n",
      "Epoch 39: 100%|██████████| 11/11 [00:08<00:00,  1.58it/s]\n",
      "Epoch 40: 100%|██████████| 11/11 [00:08<00:00,  1.61it/s]\n",
      "Epoch 41:   0%|          | 0/11 [00:00<?, ?it/s]"
     ]
    },
    {
     "name": "stdout",
     "output_type": "stream",
     "text": [
      "----------------------------------------\n",
      "TRAIN\tEpoch: 40\tloss_itn: 18781.570490\tloss_stn_u: 3858.329878\tloss_stn_s: 2899.915339\tloss_stn_i: 15599.444336\tloss_stn_r: 3858.329878\tloss: 2899.915339\tmetric_dice: 0.218239\tmetric_hd: 21.237096\tmetric_asd: 4.735261\tmetric_precision: 0.191598\tmetric_recall: 0.253632\t\n",
      "VALID\tEpoch: 40\tloss_itn: 19892.049805\tloss_stn_u: 4162.874219\tloss_stn_s: 2094.389142\tloss_stn_i: 16407.685579\tloss_stn_r: 4162.874219\tloss: 2094.389142\tmetric_dice: 0.129710\tmetric_hd: 20.648125\tmetric_asd: 6.141738\tmetric_precision: 0.113251\tmetric_recall: 0.151998\t\n",
      "----------------------------------------\n"
     ]
    },
    {
     "name": "stderr",
     "output_type": "stream",
     "text": [
      "Epoch 41: 100%|██████████| 11/11 [00:07<00:00,  1.63it/s]\n",
      "Epoch 42: 100%|██████████| 11/11 [00:08<00:00,  1.62it/s]\n",
      "Epoch 43: 100%|██████████| 11/11 [00:08<00:00,  1.64it/s]\n",
      "Epoch 44: 100%|██████████| 11/11 [00:08<00:00,  1.57it/s]\n",
      "Epoch 45: 100%|██████████| 11/11 [00:08<00:00,  1.62it/s]\n",
      "Epoch 46: 100%|██████████| 11/11 [00:08<00:00,  1.62it/s]\n",
      "Epoch 47: 100%|██████████| 11/11 [00:08<00:00,  1.62it/s]\n",
      "Epoch 48: 100%|██████████| 11/11 [00:08<00:00,  1.62it/s]\n",
      "Epoch 49: 100%|██████████| 11/11 [00:08<00:00,  1.61it/s]\n",
      "Epoch 50: 100%|██████████| 11/11 [00:08<00:00,  1.64it/s]\n",
      "Epoch 51:   0%|          | 0/11 [00:00<?, ?it/s]"
     ]
    },
    {
     "name": "stdout",
     "output_type": "stream",
     "text": [
      "----------------------------------------\n",
      "TRAIN\tEpoch: 50\tloss_itn: 18680.489879\tloss_stn_u: 3812.890492\tloss_stn_s: 3056.918435\tloss_stn_i: 15526.261630\tloss_stn_r: 3812.890492\tloss: 3056.918435\tmetric_dice: 0.224282\tmetric_hd: 21.275341\tmetric_asd: 4.673643\tmetric_precision: 0.197594\tmetric_recall: 0.259322\t\n",
      "VALID\tEpoch: 50\tloss_itn: 19892.049805\tloss_stn_u: 4162.866618\tloss_stn_s: 2094.390090\tloss_stn_i: 16407.684587\tloss_stn_r: 4162.866618\tloss: 2094.390090\tmetric_dice: 0.129716\tmetric_hd: 20.648125\tmetric_asd: 6.141573\tmetric_precision: 0.113260\tmetric_recall: 0.151998\t\n",
      "----------------------------------------\n"
     ]
    },
    {
     "name": "stderr",
     "output_type": "stream",
     "text": [
      "Epoch 51: 100%|██████████| 11/11 [00:07<00:00,  1.63it/s]\n",
      "Epoch 52: 100%|██████████| 11/11 [00:08<00:00,  1.64it/s]\n",
      "Epoch 53: 100%|██████████| 11/11 [00:08<00:00,  1.61it/s]\n",
      "Epoch 54: 100%|██████████| 11/11 [00:08<00:00,  1.63it/s]\n",
      "Epoch 55: 100%|██████████| 11/11 [00:07<00:00,  1.63it/s]\n",
      "Epoch 56: 100%|██████████| 11/11 [00:08<00:00,  1.61it/s]\n",
      "Epoch 57: 100%|██████████| 11/11 [00:08<00:00,  1.63it/s]\n",
      "Epoch 58: 100%|██████████| 11/11 [00:08<00:00,  1.64it/s]\n",
      "Epoch 59: 100%|██████████| 11/11 [00:08<00:00,  1.62it/s]\n",
      "Epoch 60: 100%|██████████| 11/11 [00:08<00:00,  1.60it/s]\n",
      "Epoch 61:   0%|          | 0/11 [00:00<?, ?it/s]"
     ]
    },
    {
     "name": "stdout",
     "output_type": "stream",
     "text": [
      "----------------------------------------\n",
      "TRAIN\tEpoch: 60\tloss_itn: 18790.980291\tloss_stn_u: 3718.848699\tloss_stn_s: 3053.767689\tloss_stn_i: 15831.945845\tloss_stn_r: 3718.848699\tloss: 3053.767689\tmetric_dice: 0.172573\tmetric_hd: 24.382407\tmetric_asd: 5.596296\tmetric_precision: 0.151284\tmetric_recall: 0.200976\t\n",
      "VALID\tEpoch: 60\tloss_itn: 19892.049805\tloss_stn_u: 3953.364026\tloss_stn_s: 1939.682125\tloss_stn_i: 16205.990072\tloss_stn_r: 3953.364026\tloss: 1939.682125\tmetric_dice: 0.200220\tmetric_hd: 23.548701\tmetric_asd: 5.367242\tmetric_precision: 0.174437\tmetric_recall: 0.235281\t\n",
      "----------------------------------------\n"
     ]
    },
    {
     "name": "stderr",
     "output_type": "stream",
     "text": [
      "Epoch 61: 100%|██████████| 11/11 [00:08<00:00,  1.62it/s]\n",
      "Epoch 62: 100%|██████████| 11/11 [00:08<00:00,  1.65it/s]\n",
      "Epoch 63: 100%|██████████| 11/11 [00:08<00:00,  1.58it/s]\n",
      "Epoch 64: 100%|██████████| 11/11 [00:08<00:00,  1.61it/s]\n",
      "Epoch 65: 100%|██████████| 11/11 [00:08<00:00,  1.63it/s]\n",
      "Epoch 66: 100%|██████████| 11/11 [00:08<00:00,  1.61it/s]\n",
      "Epoch 67: 100%|██████████| 11/11 [00:08<00:00,  1.61it/s]\n",
      "Epoch 68: 100%|██████████| 11/11 [00:08<00:00,  1.59it/s]\n",
      "Epoch 69: 100%|██████████| 11/11 [00:08<00:00,  1.60it/s]\n",
      "Epoch 70: 100%|██████████| 11/11 [00:08<00:00,  1.62it/s]\n",
      "Epoch 71:   0%|          | 0/11 [00:00<?, ?it/s]"
     ]
    },
    {
     "name": "stdout",
     "output_type": "stream",
     "text": [
      "----------------------------------------\n",
      "TRAIN\tEpoch: 70\tloss_itn: 18660.672940\tloss_stn_u: 3616.172807\tloss_stn_s: 3254.348633\tloss_stn_i: 15767.062678\tloss_stn_r: 3616.172807\tloss: 3254.348633\tmetric_dice: 0.174324\tmetric_hd: 23.668374\tmetric_asd: 5.473012\tmetric_precision: 0.153413\tmetric_recall: 0.201843\t\n",
      "VALID\tEpoch: 70\tloss_itn: 19892.049805\tloss_stn_u: 3953.364026\tloss_stn_s: 1939.682123\tloss_stn_i: 16205.990055\tloss_stn_r: 3953.364026\tloss: 1939.682123\tmetric_dice: 0.200220\tmetric_hd: 23.548701\tmetric_asd: 5.367242\tmetric_precision: 0.174437\tmetric_recall: 0.235281\t\n",
      "----------------------------------------\n"
     ]
    },
    {
     "name": "stderr",
     "output_type": "stream",
     "text": [
      "Epoch 71: 100%|██████████| 11/11 [00:08<00:00,  1.57it/s]\n",
      "Epoch 72: 100%|██████████| 11/11 [00:08<00:00,  1.61it/s]\n",
      "Epoch 73: 100%|██████████| 11/11 [00:08<00:00,  1.64it/s]\n",
      "Epoch 74: 100%|██████████| 11/11 [00:08<00:00,  1.61it/s]\n",
      "Epoch 75: 100%|██████████| 11/11 [00:08<00:00,  1.62it/s]\n",
      "Epoch 76: 100%|██████████| 11/11 [00:08<00:00,  1.60it/s]\n",
      "Epoch 77: 100%|██████████| 11/11 [00:08<00:00,  1.62it/s]\n",
      "Epoch 78: 100%|██████████| 11/11 [00:08<00:00,  1.59it/s]\n",
      "Epoch 79: 100%|██████████| 11/11 [00:08<00:00,  1.59it/s]\n",
      "Epoch 80: 100%|██████████| 11/11 [00:08<00:00,  1.61it/s]\n",
      "Epoch 81:   0%|          | 0/11 [00:00<?, ?it/s]"
     ]
    },
    {
     "name": "stdout",
     "output_type": "stream",
     "text": [
      "----------------------------------------\n",
      "TRAIN\tEpoch: 80\tloss_itn: 18697.262607\tloss_stn_u: 3627.801824\tloss_stn_s: 3171.617920\tloss_stn_i: 15800.593484\tloss_stn_r: 3627.801824\tloss: 3171.617920\tmetric_dice: 0.180085\tmetric_hd: 23.634720\tmetric_asd: 5.434840\tmetric_precision: 0.158529\tmetric_recall: 0.208439\t\n",
      "VALID\tEpoch: 80\tloss_itn: 19892.049805\tloss_stn_u: 3953.364022\tloss_stn_s: 1939.682121\tloss_stn_i: 16205.990055\tloss_stn_r: 3953.364022\tloss: 1939.682121\tmetric_dice: 0.200220\tmetric_hd: 23.548701\tmetric_asd: 5.367242\tmetric_precision: 0.174437\tmetric_recall: 0.235281\t\n",
      "----------------------------------------\n"
     ]
    },
    {
     "name": "stderr",
     "output_type": "stream",
     "text": [
      "Epoch 81: 100%|██████████| 11/11 [00:07<00:00,  1.66it/s]\n",
      "Epoch 82: 100%|██████████| 11/11 [00:08<00:00,  1.61it/s]\n",
      "Epoch 83: 100%|██████████| 11/11 [00:08<00:00,  1.63it/s]\n",
      "Epoch 84: 100%|██████████| 11/11 [00:08<00:00,  1.59it/s]\n",
      "Epoch 85: 100%|██████████| 11/11 [00:08<00:00,  1.63it/s]\n",
      "Epoch 86: 100%|██████████| 11/11 [00:08<00:00,  1.64it/s]\n",
      "Epoch 87: 100%|██████████| 11/11 [00:08<00:00,  1.59it/s]\n",
      "Epoch 88: 100%|██████████| 11/11 [00:08<00:00,  1.59it/s]\n",
      "Epoch 89: 100%|██████████| 11/11 [00:08<00:00,  1.64it/s]\n",
      "Epoch 90: 100%|██████████| 11/11 [00:08<00:00,  1.57it/s]\n",
      "Epoch 91:   0%|          | 0/11 [00:00<?, ?it/s]"
     ]
    },
    {
     "name": "stdout",
     "output_type": "stream",
     "text": [
      "----------------------------------------\n",
      "TRAIN\tEpoch: 90\tloss_itn: 18675.994496\tloss_stn_u: 3689.363991\tloss_stn_s: 3254.487682\tloss_stn_i: 15788.677113\tloss_stn_r: 3689.363991\tloss: 3254.487682\tmetric_dice: 0.172039\tmetric_hd: 24.952347\tmetric_asd: 5.632024\tmetric_precision: 0.151378\tmetric_recall: 0.199243\t\n",
      "VALID\tEpoch: 90\tloss_itn: 19892.049805\tloss_stn_u: 3953.364022\tloss_stn_s: 1939.682121\tloss_stn_i: 16205.990055\tloss_stn_r: 3953.364022\tloss: 1939.682121\tmetric_dice: 0.200220\tmetric_hd: 23.548701\tmetric_asd: 5.367242\tmetric_precision: 0.174437\tmetric_recall: 0.235281\t\n",
      "----------------------------------------\n"
     ]
    },
    {
     "name": "stderr",
     "output_type": "stream",
     "text": [
      "Epoch 91: 100%|██████████| 11/11 [00:07<00:00,  1.62it/s]\n",
      "Epoch 92: 100%|██████████| 11/11 [00:08<00:00,  1.61it/s]\n",
      "Epoch 93: 100%|██████████| 11/11 [00:08<00:00,  1.60it/s]\n",
      "Epoch 94: 100%|██████████| 11/11 [00:08<00:00,  1.64it/s]\n",
      "Epoch 95: 100%|██████████| 11/11 [00:08<00:00,  1.64it/s]\n",
      "Epoch 96: 100%|██████████| 11/11 [00:08<00:00,  1.63it/s]\n",
      "Epoch 97: 100%|██████████| 11/11 [00:08<00:00,  1.64it/s]\n",
      "Epoch 98: 100%|██████████| 11/11 [00:08<00:00,  1.64it/s]\n",
      "Epoch 99: 100%|██████████| 11/11 [00:08<00:00,  1.64it/s]\n",
      "Epoch 100: 100%|██████████| 11/11 [00:08<00:00,  1.62it/s]\n"
     ]
    },
    {
     "name": "stdout",
     "output_type": "stream",
     "text": [
      "----------------------------------------\n",
      "TRAIN\tEpoch: 100\tloss_itn: 18689.769176\tloss_stn_u: 3654.809348\tloss_stn_s: 3223.586870\tloss_stn_i: 15798.921697\tloss_stn_r: 3654.809348\tloss: 3223.586870\tmetric_dice: 0.175394\tmetric_hd: 23.925933\tmetric_asd: 5.482692\tmetric_precision: 0.154478\tmetric_recall: 0.202890\t\n",
      "VALID\tEpoch: 100\tloss_itn: 19892.049805\tloss_stn_u: 3953.364006\tloss_stn_s: 1939.682113\tloss_stn_i: 16205.990039\tloss_stn_r: 3953.364006\tloss: 1939.682113\tmetric_dice: 0.200220\tmetric_hd: 23.548701\tmetric_asd: 5.367242\tmetric_precision: 0.174437\tmetric_recall: 0.235281\t\n",
      "----------------------------------------\n",
      "----------------------------------------\n",
      "Finished TRAINING... Plotting Graphs\n",
      "\n",
      "\n"
     ]
    },
    {
     "data": {
      "image/png": "[encoded data removed]",
      "text/plain": [
       "<Figure size 432x288 with 1 Axes>"
      ]
     },
     "metadata": {
      "needs_background": "light"
     },
     "output_type": "display_data"
    }
   ],
   "source": [
    "train(args)"
   ]
  },
  {
   "cell_type": "code",
   "execution_count": 3,
   "metadata": {},
   "outputs": [],
   "source": [
    "#\n",
    "# train supervised with mask instead of seg\n",
    "#\n",
    "args = {\n",
    "    'config': XPFOLDER+'/config.json',\n",
    "    'save_temp': False,\n",
    "    'dev': '0',\n",
    "    'seed': 42,\n",
    "    'train': XPFOLDER+'/train.csv',\n",
    "    'train_seg': None, #XPFOLDER+'/train.seg.csv',\n",
    "    'train_msk': XPFOLDER+'/train.seg.csv',\n",
    "    'val': XPFOLDER+'/test.csv',\n",
    "    'val_seg': None, #XPFOLDER+'/test.seg.csv',\n",
    "    'val_msk': XPFOLDER+'/test.seg.csv',\n",
    "    'test': XPFOLDER+'/test.csv',\n",
    "    'test_seg': None, #XPFOLDER+'/test.seg.csv',\n",
    "    'test_msk': XPFOLDER+'/test.seg.csv',\n",
    "    'out': XPFOLDER+'/output',\n",
    "    'model': XPFOLDER+'/output/train/model',\n",
    "    'mode3d': False,\n",
    "    'loss': 's', # SUPERVISED \n",
    "    'transformation': 'affine',\n",
    "    'no_refine': False\n",
    "}\n",
    "args = AttrDict(args)"
   ]
  },
  {
   "cell_type": "code",
   "execution_count": 4,
   "metadata": {},
   "outputs": [
    {
     "name": "stdout",
     "output_type": "stream",
     "text": [
      "----------------------------------------\n",
      "Starting TRAINING...\n",
      "----------------------------------------\n",
      "Config from file: {'epochs': 100, 'refine': 50, 'learning_rate': 0.001, 'batch_size': 10, 'val_interval': 10, 'normalizer_img': 'none', 'normalizer_seg': 'none', 'size': [128, 128], 'spacing': [1, 1]}\n",
      "Device: cuda:0\n",
      "GPU: GeForce RTX 2080 Ti\n",
      "File config: {'config': {'epochs': 100, 'refine': 50, 'learning_rate': 0.001, 'batch_size': 10, 'val_interval': 10, 'normalizer_img': 'none', 'normalizer_seg': 'none', 'size': [128, 128], 'spacing': [1, 1]}, 'device': device(type='cuda', index=0), 'normalizer_img': None, 'normalizer_seg': None, 'resampler_img': <pymira.img.transforms.Resampler object at 0x7f3db028db50>, 'resampler_seg': <pymira.img.transforms.Resampler object at 0x7f3db0220610>, 'stn': STN2D(\n",
      "  (conv1): Conv2d(2, 8, kernel_size=(5, 5), stride=(1, 1))\n",
      "  (conv2): Conv2d(8, 16, kernel_size=(5, 5), stride=(1, 1))\n",
      "  (conv3): Conv2d(16, 32, kernel_size=(5, 5), stride=(1, 1))\n",
      "  (fc): Linear(in_features=4608, out_features=32, bias=True)\n",
      "  (translation): Linear(in_features=32, out_features=2, bias=True)\n",
      "  (rotation): Linear(in_features=32, out_features=1, bias=True)\n",
      "  (scaling): Linear(in_features=32, out_features=2, bias=True)\n",
      "  (shearing): Linear(in_features=32, out_features=1, bias=True)\n",
      "), 'itn': ITN2D(\n",
      "  (conv11): Conv2d(1, 2, kernel_size=(3, 3), stride=(1, 1), padding=(1, 1))\n",
      "  (conv12): Conv2d(2, 4, kernel_size=(3, 3), stride=(1, 1), padding=(1, 1))\n",
      "  (down1): Conv2d(4, 8, kernel_size=(2, 2), stride=(2, 2))\n",
      "  (conv21): Conv2d(8, 8, kernel_size=(3, 3), stride=(1, 1), padding=(1, 1))\n",
      "  (down2): Conv2d(8, 16, kernel_size=(2, 2), stride=(2, 2))\n",
      "  (conv31): Conv2d(16, 16, kernel_size=(3, 3), stride=(1, 1), padding=(1, 1))\n",
      "  (up2): ConvTranspose2d(16, 8, kernel_size=(2, 2), stride=(2, 2))\n",
      "  (conv22): Conv2d(8, 8, kernel_size=(3, 3), stride=(1, 1), padding=(1, 1))\n",
      "  (up1): ConvTranspose2d(8, 4, kernel_size=(2, 2), stride=(2, 2))\n",
      "  (conv13): Conv2d(4, 2, kernel_size=(3, 3), stride=(1, 1), padding=(1, 1))\n",
      "  (conv14): Conv2d(2, 2, kernel_size=(3, 3), stride=(1, 1), padding=(1, 1))\n",
      "  (conv15): Conv2d(2, 1, kernel_size=(3, 3), stride=(1, 1), padding=(1, 1))\n",
      "), 'optimizer': Adam (\n",
      "Parameter Group 0\n",
      "    amsgrad: False\n",
      "    betas: (0.9, 0.999)\n",
      "    eps: 1e-08\n",
      "    lr: 0.001\n",
      "    weight_decay: 0\n",
      "), 'loss': 'supervised'}\n",
      "----------------------------------------\n",
      "TRAINING data...\n",
      "----------------------------------------\n",
      "Reading source image /home/haehn/Dropbox/RESEARCH/MITOCHONDRIA/xp1/train/0_source.png\n",
      "Reading target image /home/haehn/Dropbox/RESEARCH/MITOCHONDRIA/xp1/train/0_target.png\n",
      "Reading source mask /home/haehn/Dropbox/RESEARCH/MITOCHONDRIA/xp1/train/0_source_seg.png\n",
      "Reading target mask /home/haehn/Dropbox/RESEARCH/MITOCHONDRIA/xp1/train/0_target_seg.png\n",
      "Reading source image /home/haehn/Dropbox/RESEARCH/MITOCHONDRIA/xp1/train/100_source.png\n",
      "Reading target image /home/haehn/Dropbox/RESEARCH/MITOCHONDRIA/xp1/train/100_target.png\n",
      "Reading source mask /home/haehn/Dropbox/RESEARCH/MITOCHONDRIA/xp1/train/100_source_seg.png\n",
      "Reading target mask /home/haehn/Dropbox/RESEARCH/MITOCHONDRIA/xp1/train/100_target_seg.png\n",
      "Reading source image /home/haehn/Dropbox/RESEARCH/MITOCHONDRIA/xp1/train/10_source.png\n",
      "Reading target image /home/haehn/Dropbox/RESEARCH/MITOCHONDRIA/xp1/train/10_target.png\n",
      "Reading source mask /home/haehn/Dropbox/RESEARCH/MITOCHONDRIA/xp1/train/10_source_seg.png\n",
      "Reading target mask /home/haehn/Dropbox/RESEARCH/MITOCHONDRIA/xp1/train/10_target_seg.png\n",
      "Reading source image /home/haehn/Dropbox/RESEARCH/MITOCHONDRIA/xp1/train/11_source.png\n",
      "Reading target image /home/haehn/Dropbox/RESEARCH/MITOCHONDRIA/xp1/train/11_target.png\n",
      "Reading source mask /home/haehn/Dropbox/RESEARCH/MITOCHONDRIA/xp1/train/11_source_seg.png\n",
      "Reading target mask /home/haehn/Dropbox/RESEARCH/MITOCHONDRIA/xp1/train/11_target_seg.png\n",
      "Reading source image /home/haehn/Dropbox/RESEARCH/MITOCHONDRIA/xp1/train/12_source.png\n",
      "Reading target image /home/haehn/Dropbox/RESEARCH/MITOCHONDRIA/xp1/train/12_target.png\n",
      "Reading source mask /home/haehn/Dropbox/RESEARCH/MITOCHONDRIA/xp1/train/12_source_seg.png\n",
      "Reading target mask /home/haehn/Dropbox/RESEARCH/MITOCHONDRIA/xp1/train/12_target_seg.png\n",
      "Reading source image /home/haehn/Dropbox/RESEARCH/MITOCHONDRIA/xp1/train/13_source.png\n",
      "Reading target image /home/haehn/Dropbox/RESEARCH/MITOCHONDRIA/xp1/train/13_target.png\n",
      "Reading source mask /home/haehn/Dropbox/RESEARCH/MITOCHONDRIA/xp1/train/13_source_seg.png\n",
      "Reading target mask /home/haehn/Dropbox/RESEARCH/MITOCHONDRIA/xp1/train/13_target_seg.png\n",
      "Reading source image /home/haehn/Dropbox/RESEARCH/MITOCHONDRIA/xp1/train/14_source.png\n",
      "Reading target image /home/haehn/Dropbox/RESEARCH/MITOCHONDRIA/xp1/train/14_target.png\n",
      "Reading source mask /home/haehn/Dropbox/RESEARCH/MITOCHONDRIA/xp1/train/14_source_seg.png\n",
      "Reading target mask /home/haehn/Dropbox/RESEARCH/MITOCHONDRIA/xp1/train/14_target_seg.png\n",
      "Reading source image /home/haehn/Dropbox/RESEARCH/MITOCHONDRIA/xp1/train/15_source.png\n",
      "Reading target image /home/haehn/Dropbox/RESEARCH/MITOCHONDRIA/xp1/train/15_target.png\n",
      "Reading source mask /home/haehn/Dropbox/RESEARCH/MITOCHONDRIA/xp1/train/15_source_seg.png\n",
      "Reading target mask /home/haehn/Dropbox/RESEARCH/MITOCHONDRIA/xp1/train/15_target_seg.png\n",
      "Reading source image /home/haehn/Dropbox/RESEARCH/MITOCHONDRIA/xp1/train/16_source.png\n",
      "Reading target image /home/haehn/Dropbox/RESEARCH/MITOCHONDRIA/xp1/train/16_target.png\n",
      "Reading source mask /home/haehn/Dropbox/RESEARCH/MITOCHONDRIA/xp1/train/16_source_seg.png\n",
      "Reading target mask /home/haehn/Dropbox/RESEARCH/MITOCHONDRIA/xp1/train/16_target_seg.png\n",
      "Reading source image /home/haehn/Dropbox/RESEARCH/MITOCHONDRIA/xp1/train/17_source.png\n",
      "Reading target image /home/haehn/Dropbox/RESEARCH/MITOCHONDRIA/xp1/train/17_target.png\n",
      "Reading source mask /home/haehn/Dropbox/RESEARCH/MITOCHONDRIA/xp1/train/17_source_seg.png\n",
      "Reading target mask /home/haehn/Dropbox/RESEARCH/MITOCHONDRIA/xp1/train/17_target_seg.png\n",
      "Reading source image /home/haehn/Dropbox/RESEARCH/MITOCHONDRIA/xp1/train/18_source.png\n",
      "Reading target image /home/haehn/Dropbox/RESEARCH/MITOCHONDRIA/xp1/train/18_target.png\n",
      "Reading source mask /home/haehn/Dropbox/RESEARCH/MITOCHONDRIA/xp1/train/18_source_seg.png\n",
      "Reading target mask /home/haehn/Dropbox/RESEARCH/MITOCHONDRIA/xp1/train/18_target_seg.png\n",
      "Reading source image /home/haehn/Dropbox/RESEARCH/MITOCHONDRIA/xp1/train/19_source.png\n",
      "Reading target image /home/haehn/Dropbox/RESEARCH/MITOCHONDRIA/xp1/train/19_target.png\n",
      "Reading source mask /home/haehn/Dropbox/RESEARCH/MITOCHONDRIA/xp1/train/19_source_seg.png\n",
      "Reading target mask /home/haehn/Dropbox/RESEARCH/MITOCHONDRIA/xp1/train/19_target_seg.png\n",
      "Reading source image /home/haehn/Dropbox/RESEARCH/MITOCHONDRIA/xp1/train/1_source.png\n",
      "Reading target image /home/haehn/Dropbox/RESEARCH/MITOCHONDRIA/xp1/train/1_target.png\n",
      "Reading source mask /home/haehn/Dropbox/RESEARCH/MITOCHONDRIA/xp1/train/1_source_seg.png\n",
      "Reading target mask /home/haehn/Dropbox/RESEARCH/MITOCHONDRIA/xp1/train/1_target_seg.png\n",
      "Reading source image /home/haehn/Dropbox/RESEARCH/MITOCHONDRIA/xp1/train/20_source.png\n",
      "Reading target image /home/haehn/Dropbox/RESEARCH/MITOCHONDRIA/xp1/train/20_target.png\n",
      "Reading source mask /home/haehn/Dropbox/RESEARCH/MITOCHONDRIA/xp1/train/20_source_seg.png\n",
      "Reading target mask /home/haehn/Dropbox/RESEARCH/MITOCHONDRIA/xp1/train/20_target_seg.png\n",
      "Reading source image /home/haehn/Dropbox/RESEARCH/MITOCHONDRIA/xp1/train/21_source.png\n",
      "Reading target image /home/haehn/Dropbox/RESEARCH/MITOCHONDRIA/xp1/train/21_target.png\n",
      "Reading source mask /home/haehn/Dropbox/RESEARCH/MITOCHONDRIA/xp1/train/21_source_seg.png\n",
      "Reading target mask /home/haehn/Dropbox/RESEARCH/MITOCHONDRIA/xp1/train/21_target_seg.png\n",
      "Reading source image /home/haehn/Dropbox/RESEARCH/MITOCHONDRIA/xp1/train/22_source.png\n",
      "Reading target image /home/haehn/Dropbox/RESEARCH/MITOCHONDRIA/xp1/train/22_target.png\n",
      "Reading source mask /home/haehn/Dropbox/RESEARCH/MITOCHONDRIA/xp1/train/22_source_seg.png\n",
      "Reading target mask /home/haehn/Dropbox/RESEARCH/MITOCHONDRIA/xp1/train/22_target_seg.png\n",
      "Reading source image /home/haehn/Dropbox/RESEARCH/MITOCHONDRIA/xp1/train/23_source.png\n",
      "Reading target image /home/haehn/Dropbox/RESEARCH/MITOCHONDRIA/xp1/train/23_target.png\n",
      "Reading source mask /home/haehn/Dropbox/RESEARCH/MITOCHONDRIA/xp1/train/23_source_seg.png\n",
      "Reading target mask /home/haehn/Dropbox/RESEARCH/MITOCHONDRIA/xp1/train/23_target_seg.png\n",
      "Reading source image /home/haehn/Dropbox/RESEARCH/MITOCHONDRIA/xp1/train/24_source.png\n",
      "Reading target image /home/haehn/Dropbox/RESEARCH/MITOCHONDRIA/xp1/train/24_target.png\n",
      "Reading source mask /home/haehn/Dropbox/RESEARCH/MITOCHONDRIA/xp1/train/24_source_seg.png\n",
      "Reading target mask /home/haehn/Dropbox/RESEARCH/MITOCHONDRIA/xp1/train/24_target_seg.png\n",
      "Reading source image /home/haehn/Dropbox/RESEARCH/MITOCHONDRIA/xp1/train/25_source.png\n",
      "Reading target image /home/haehn/Dropbox/RESEARCH/MITOCHONDRIA/xp1/train/25_target.png\n",
      "Reading source mask /home/haehn/Dropbox/RESEARCH/MITOCHONDRIA/xp1/train/25_source_seg.png\n",
      "Reading target mask /home/haehn/Dropbox/RESEARCH/MITOCHONDRIA/xp1/train/25_target_seg.png\n",
      "Reading source image /home/haehn/Dropbox/RESEARCH/MITOCHONDRIA/xp1/train/26_source.png\n",
      "Reading target image /home/haehn/Dropbox/RESEARCH/MITOCHONDRIA/xp1/train/26_target.png\n",
      "Reading source mask /home/haehn/Dropbox/RESEARCH/MITOCHONDRIA/xp1/train/26_source_seg.png\n",
      "Reading target mask /home/haehn/Dropbox/RESEARCH/MITOCHONDRIA/xp1/train/26_target_seg.png\n",
      "Reading source image /home/haehn/Dropbox/RESEARCH/MITOCHONDRIA/xp1/train/27_source.png\n",
      "Reading target image /home/haehn/Dropbox/RESEARCH/MITOCHONDRIA/xp1/train/27_target.png\n",
      "Reading source mask /home/haehn/Dropbox/RESEARCH/MITOCHONDRIA/xp1/train/27_source_seg.png\n",
      "Reading target mask /home/haehn/Dropbox/RESEARCH/MITOCHONDRIA/xp1/train/27_target_seg.png\n",
      "Reading source image /home/haehn/Dropbox/RESEARCH/MITOCHONDRIA/xp1/train/28_source.png\n",
      "Reading target image /home/haehn/Dropbox/RESEARCH/MITOCHONDRIA/xp1/train/28_target.png\n",
      "Reading source mask /home/haehn/Dropbox/RESEARCH/MITOCHONDRIA/xp1/train/28_source_seg.png\n",
      "Reading target mask /home/haehn/Dropbox/RESEARCH/MITOCHONDRIA/xp1/train/28_target_seg.png\n",
      "Reading source image /home/haehn/Dropbox/RESEARCH/MITOCHONDRIA/xp1/train/29_source.png\n",
      "Reading target image /home/haehn/Dropbox/RESEARCH/MITOCHONDRIA/xp1/train/29_target.png\n",
      "Reading source mask /home/haehn/Dropbox/RESEARCH/MITOCHONDRIA/xp1/train/29_source_seg.png\n",
      "Reading target mask /home/haehn/Dropbox/RESEARCH/MITOCHONDRIA/xp1/train/29_target_seg.png\n",
      "Reading source image /home/haehn/Dropbox/RESEARCH/MITOCHONDRIA/xp1/train/2_source.png\n",
      "Reading target image /home/haehn/Dropbox/RESEARCH/MITOCHONDRIA/xp1/train/2_target.png\n",
      "Reading source mask /home/haehn/Dropbox/RESEARCH/MITOCHONDRIA/xp1/train/2_source_seg.png\n",
      "Reading target mask /home/haehn/Dropbox/RESEARCH/MITOCHONDRIA/xp1/train/2_target_seg.png\n",
      "Reading source image /home/haehn/Dropbox/RESEARCH/MITOCHONDRIA/xp1/train/30_source.png\n",
      "Reading target image /home/haehn/Dropbox/RESEARCH/MITOCHONDRIA/xp1/train/30_target.png\n",
      "Reading source mask /home/haehn/Dropbox/RESEARCH/MITOCHONDRIA/xp1/train/30_source_seg.png\n",
      "Reading target mask /home/haehn/Dropbox/RESEARCH/MITOCHONDRIA/xp1/train/30_target_seg.png\n",
      "Reading source image /home/haehn/Dropbox/RESEARCH/MITOCHONDRIA/xp1/train/31_source.png\n",
      "Reading target image /home/haehn/Dropbox/RESEARCH/MITOCHONDRIA/xp1/train/31_target.png\n",
      "Reading source mask /home/haehn/Dropbox/RESEARCH/MITOCHONDRIA/xp1/train/31_source_seg.png\n",
      "Reading target mask /home/haehn/Dropbox/RESEARCH/MITOCHONDRIA/xp1/train/31_target_seg.png\n",
      "Reading source image /home/haehn/Dropbox/RESEARCH/MITOCHONDRIA/xp1/train/32_source.png\n",
      "Reading target image /home/haehn/Dropbox/RESEARCH/MITOCHONDRIA/xp1/train/32_target.png\n",
      "Reading source mask /home/haehn/Dropbox/RESEARCH/MITOCHONDRIA/xp1/train/32_source_seg.png\n",
      "Reading target mask /home/haehn/Dropbox/RESEARCH/MITOCHONDRIA/xp1/train/32_target_seg.png\n",
      "Reading source image /home/haehn/Dropbox/RESEARCH/MITOCHONDRIA/xp1/train/33_source.png\n",
      "Reading target image /home/haehn/Dropbox/RESEARCH/MITOCHONDRIA/xp1/train/33_target.png\n",
      "Reading source mask /home/haehn/Dropbox/RESEARCH/MITOCHONDRIA/xp1/train/33_source_seg.png\n",
      "Reading target mask /home/haehn/Dropbox/RESEARCH/MITOCHONDRIA/xp1/train/33_target_seg.png\n",
      "Reading source image /home/haehn/Dropbox/RESEARCH/MITOCHONDRIA/xp1/train/34_source.png\n",
      "Reading target image /home/haehn/Dropbox/RESEARCH/MITOCHONDRIA/xp1/train/34_target.png\n",
      "Reading source mask /home/haehn/Dropbox/RESEARCH/MITOCHONDRIA/xp1/train/34_source_seg.png\n",
      "Reading target mask /home/haehn/Dropbox/RESEARCH/MITOCHONDRIA/xp1/train/34_target_seg.png\n",
      "Reading source image /home/haehn/Dropbox/RESEARCH/MITOCHONDRIA/xp1/train/35_source.png\n",
      "Reading target image /home/haehn/Dropbox/RESEARCH/MITOCHONDRIA/xp1/train/35_target.png\n",
      "Reading source mask /home/haehn/Dropbox/RESEARCH/MITOCHONDRIA/xp1/train/35_source_seg.png\n",
      "Reading target mask /home/haehn/Dropbox/RESEARCH/MITOCHONDRIA/xp1/train/35_target_seg.png\n",
      "Reading source image /home/haehn/Dropbox/RESEARCH/MITOCHONDRIA/xp1/train/36_source.png\n",
      "Reading target image /home/haehn/Dropbox/RESEARCH/MITOCHONDRIA/xp1/train/36_target.png\n",
      "Reading source mask /home/haehn/Dropbox/RESEARCH/MITOCHONDRIA/xp1/train/36_source_seg.png\n",
      "Reading target mask /home/haehn/Dropbox/RESEARCH/MITOCHONDRIA/xp1/train/36_target_seg.png\n"
     ]
    },
    {
     "name": "stdout",
     "output_type": "stream",
     "text": [
      "Reading source image /home/haehn/Dropbox/RESEARCH/MITOCHONDRIA/xp1/train/37_source.png\n",
      "Reading target image /home/haehn/Dropbox/RESEARCH/MITOCHONDRIA/xp1/train/37_target.png\n",
      "Reading source mask /home/haehn/Dropbox/RESEARCH/MITOCHONDRIA/xp1/train/37_source_seg.png\n",
      "Reading target mask /home/haehn/Dropbox/RESEARCH/MITOCHONDRIA/xp1/train/37_target_seg.png\n",
      "Reading source image /home/haehn/Dropbox/RESEARCH/MITOCHONDRIA/xp1/train/38_source.png\n",
      "Reading target image /home/haehn/Dropbox/RESEARCH/MITOCHONDRIA/xp1/train/38_target.png\n",
      "Reading source mask /home/haehn/Dropbox/RESEARCH/MITOCHONDRIA/xp1/train/38_source_seg.png\n",
      "Reading target mask /home/haehn/Dropbox/RESEARCH/MITOCHONDRIA/xp1/train/38_target_seg.png\n",
      "Reading source image /home/haehn/Dropbox/RESEARCH/MITOCHONDRIA/xp1/train/39_source.png\n",
      "Reading target image /home/haehn/Dropbox/RESEARCH/MITOCHONDRIA/xp1/train/39_target.png\n",
      "Reading source mask /home/haehn/Dropbox/RESEARCH/MITOCHONDRIA/xp1/train/39_source_seg.png\n",
      "Reading target mask /home/haehn/Dropbox/RESEARCH/MITOCHONDRIA/xp1/train/39_target_seg.png\n",
      "Reading source image /home/haehn/Dropbox/RESEARCH/MITOCHONDRIA/xp1/train/3_source.png\n",
      "Reading target image /home/haehn/Dropbox/RESEARCH/MITOCHONDRIA/xp1/train/3_target.png\n",
      "Reading source mask /home/haehn/Dropbox/RESEARCH/MITOCHONDRIA/xp1/train/3_source_seg.png\n",
      "Reading target mask /home/haehn/Dropbox/RESEARCH/MITOCHONDRIA/xp1/train/3_target_seg.png\n",
      "Reading source image /home/haehn/Dropbox/RESEARCH/MITOCHONDRIA/xp1/train/40_source.png\n",
      "Reading target image /home/haehn/Dropbox/RESEARCH/MITOCHONDRIA/xp1/train/40_target.png\n",
      "Reading source mask /home/haehn/Dropbox/RESEARCH/MITOCHONDRIA/xp1/train/40_source_seg.png\n",
      "Reading target mask /home/haehn/Dropbox/RESEARCH/MITOCHONDRIA/xp1/train/40_target_seg.png\n",
      "Reading source image /home/haehn/Dropbox/RESEARCH/MITOCHONDRIA/xp1/train/41_source.png\n",
      "Reading target image /home/haehn/Dropbox/RESEARCH/MITOCHONDRIA/xp1/train/41_target.png\n",
      "Reading source mask /home/haehn/Dropbox/RESEARCH/MITOCHONDRIA/xp1/train/41_source_seg.png\n",
      "Reading target mask /home/haehn/Dropbox/RESEARCH/MITOCHONDRIA/xp1/train/41_target_seg.png\n",
      "Reading source image /home/haehn/Dropbox/RESEARCH/MITOCHONDRIA/xp1/train/42_source.png\n",
      "Reading target image /home/haehn/Dropbox/RESEARCH/MITOCHONDRIA/xp1/train/42_target.png\n",
      "Reading source mask /home/haehn/Dropbox/RESEARCH/MITOCHONDRIA/xp1/train/42_source_seg.png\n",
      "Reading target mask /home/haehn/Dropbox/RESEARCH/MITOCHONDRIA/xp1/train/42_target_seg.png\n",
      "Reading source image /home/haehn/Dropbox/RESEARCH/MITOCHONDRIA/xp1/train/43_source.png\n",
      "Reading target image /home/haehn/Dropbox/RESEARCH/MITOCHONDRIA/xp1/train/43_target.png\n",
      "Reading source mask /home/haehn/Dropbox/RESEARCH/MITOCHONDRIA/xp1/train/43_source_seg.png\n",
      "Reading target mask /home/haehn/Dropbox/RESEARCH/MITOCHONDRIA/xp1/train/43_target_seg.png\n",
      "Reading source image /home/haehn/Dropbox/RESEARCH/MITOCHONDRIA/xp1/train/44_source.png\n",
      "Reading target image /home/haehn/Dropbox/RESEARCH/MITOCHONDRIA/xp1/train/44_target.png\n",
      "Reading source mask /home/haehn/Dropbox/RESEARCH/MITOCHONDRIA/xp1/train/44_source_seg.png\n",
      "Reading target mask /home/haehn/Dropbox/RESEARCH/MITOCHONDRIA/xp1/train/44_target_seg.png\n",
      "Reading source image /home/haehn/Dropbox/RESEARCH/MITOCHONDRIA/xp1/train/45_source.png\n",
      "Reading target image /home/haehn/Dropbox/RESEARCH/MITOCHONDRIA/xp1/train/45_target.png\n",
      "Reading source mask /home/haehn/Dropbox/RESEARCH/MITOCHONDRIA/xp1/train/45_source_seg.png\n",
      "Reading target mask /home/haehn/Dropbox/RESEARCH/MITOCHONDRIA/xp1/train/45_target_seg.png\n",
      "Reading source image /home/haehn/Dropbox/RESEARCH/MITOCHONDRIA/xp1/train/46_source.png\n",
      "Reading target image /home/haehn/Dropbox/RESEARCH/MITOCHONDRIA/xp1/train/46_target.png\n",
      "Reading source mask /home/haehn/Dropbox/RESEARCH/MITOCHONDRIA/xp1/train/46_source_seg.png\n",
      "Reading target mask /home/haehn/Dropbox/RESEARCH/MITOCHONDRIA/xp1/train/46_target_seg.png\n",
      "Reading source image /home/haehn/Dropbox/RESEARCH/MITOCHONDRIA/xp1/train/47_source.png\n",
      "Reading target image /home/haehn/Dropbox/RESEARCH/MITOCHONDRIA/xp1/train/47_target.png\n",
      "Reading source mask /home/haehn/Dropbox/RESEARCH/MITOCHONDRIA/xp1/train/47_source_seg.png\n",
      "Reading target mask /home/haehn/Dropbox/RESEARCH/MITOCHONDRIA/xp1/train/47_target_seg.png\n",
      "Reading source image /home/haehn/Dropbox/RESEARCH/MITOCHONDRIA/xp1/train/48_source.png\n",
      "Reading target image /home/haehn/Dropbox/RESEARCH/MITOCHONDRIA/xp1/train/48_target.png\n",
      "Reading source mask /home/haehn/Dropbox/RESEARCH/MITOCHONDRIA/xp1/train/48_source_seg.png\n",
      "Reading target mask /home/haehn/Dropbox/RESEARCH/MITOCHONDRIA/xp1/train/48_target_seg.png\n",
      "Reading source image /home/haehn/Dropbox/RESEARCH/MITOCHONDRIA/xp1/train/49_source.png\n",
      "Reading target image /home/haehn/Dropbox/RESEARCH/MITOCHONDRIA/xp1/train/49_target.png\n",
      "Reading source mask /home/haehn/Dropbox/RESEARCH/MITOCHONDRIA/xp1/train/49_source_seg.png\n",
      "Reading target mask /home/haehn/Dropbox/RESEARCH/MITOCHONDRIA/xp1/train/49_target_seg.png\n",
      "Reading source image /home/haehn/Dropbox/RESEARCH/MITOCHONDRIA/xp1/train/4_source.png\n",
      "Reading target image /home/haehn/Dropbox/RESEARCH/MITOCHONDRIA/xp1/train/4_target.png\n",
      "Reading source mask /home/haehn/Dropbox/RESEARCH/MITOCHONDRIA/xp1/train/4_source_seg.png\n",
      "Reading target mask /home/haehn/Dropbox/RESEARCH/MITOCHONDRIA/xp1/train/4_target_seg.png\n",
      "Reading source image /home/haehn/Dropbox/RESEARCH/MITOCHONDRIA/xp1/train/50_source.png\n",
      "Reading target image /home/haehn/Dropbox/RESEARCH/MITOCHONDRIA/xp1/train/50_target.png\n",
      "Reading source mask /home/haehn/Dropbox/RESEARCH/MITOCHONDRIA/xp1/train/50_source_seg.png\n",
      "Reading target mask /home/haehn/Dropbox/RESEARCH/MITOCHONDRIA/xp1/train/50_target_seg.png\n",
      "Reading source image /home/haehn/Dropbox/RESEARCH/MITOCHONDRIA/xp1/train/51_source.png\n",
      "Reading target image /home/haehn/Dropbox/RESEARCH/MITOCHONDRIA/xp1/train/51_target.png\n",
      "Reading source mask /home/haehn/Dropbox/RESEARCH/MITOCHONDRIA/xp1/train/51_source_seg.png\n",
      "Reading target mask /home/haehn/Dropbox/RESEARCH/MITOCHONDRIA/xp1/train/51_target_seg.png\n",
      "Reading source image /home/haehn/Dropbox/RESEARCH/MITOCHONDRIA/xp1/train/52_source.png\n",
      "Reading target image /home/haehn/Dropbox/RESEARCH/MITOCHONDRIA/xp1/train/52_target.png\n",
      "Reading source mask /home/haehn/Dropbox/RESEARCH/MITOCHONDRIA/xp1/train/52_source_seg.png\n",
      "Reading target mask /home/haehn/Dropbox/RESEARCH/MITOCHONDRIA/xp1/train/52_target_seg.png\n",
      "Reading source image /home/haehn/Dropbox/RESEARCH/MITOCHONDRIA/xp1/train/53_source.png\n",
      "Reading target image /home/haehn/Dropbox/RESEARCH/MITOCHONDRIA/xp1/train/53_target.png\n",
      "Reading source mask /home/haehn/Dropbox/RESEARCH/MITOCHONDRIA/xp1/train/53_source_seg.png\n",
      "Reading target mask /home/haehn/Dropbox/RESEARCH/MITOCHONDRIA/xp1/train/53_target_seg.png\n",
      "Reading source image /home/haehn/Dropbox/RESEARCH/MITOCHONDRIA/xp1/train/54_source.png\n",
      "Reading target image /home/haehn/Dropbox/RESEARCH/MITOCHONDRIA/xp1/train/54_target.png\n",
      "Reading source mask /home/haehn/Dropbox/RESEARCH/MITOCHONDRIA/xp1/train/54_source_seg.png\n",
      "Reading target mask /home/haehn/Dropbox/RESEARCH/MITOCHONDRIA/xp1/train/54_target_seg.png\n",
      "Reading source image /home/haehn/Dropbox/RESEARCH/MITOCHONDRIA/xp1/train/55_source.png\n",
      "Reading target image /home/haehn/Dropbox/RESEARCH/MITOCHONDRIA/xp1/train/55_target.png\n",
      "Reading source mask /home/haehn/Dropbox/RESEARCH/MITOCHONDRIA/xp1/train/55_source_seg.png\n",
      "Reading target mask /home/haehn/Dropbox/RESEARCH/MITOCHONDRIA/xp1/train/55_target_seg.png\n",
      "Reading source image /home/haehn/Dropbox/RESEARCH/MITOCHONDRIA/xp1/train/56_source.png\n",
      "Reading target image /home/haehn/Dropbox/RESEARCH/MITOCHONDRIA/xp1/train/56_target.png\n",
      "Reading source mask /home/haehn/Dropbox/RESEARCH/MITOCHONDRIA/xp1/train/56_source_seg.png\n",
      "Reading target mask /home/haehn/Dropbox/RESEARCH/MITOCHONDRIA/xp1/train/56_target_seg.png\n",
      "Reading source image /home/haehn/Dropbox/RESEARCH/MITOCHONDRIA/xp1/train/57_source.png\n",
      "Reading target image /home/haehn/Dropbox/RESEARCH/MITOCHONDRIA/xp1/train/57_target.png\n",
      "Reading source mask /home/haehn/Dropbox/RESEARCH/MITOCHONDRIA/xp1/train/57_source_seg.png\n",
      "Reading target mask /home/haehn/Dropbox/RESEARCH/MITOCHONDRIA/xp1/train/57_target_seg.png\n",
      "Reading source image /home/haehn/Dropbox/RESEARCH/MITOCHONDRIA/xp1/train/58_source.png\n",
      "Reading target image /home/haehn/Dropbox/RESEARCH/MITOCHONDRIA/xp1/train/58_target.png\n",
      "Reading source mask /home/haehn/Dropbox/RESEARCH/MITOCHONDRIA/xp1/train/58_source_seg.png\n",
      "Reading target mask /home/haehn/Dropbox/RESEARCH/MITOCHONDRIA/xp1/train/58_target_seg.png\n",
      "Reading source image /home/haehn/Dropbox/RESEARCH/MITOCHONDRIA/xp1/train/59_source.png\n",
      "Reading target image /home/haehn/Dropbox/RESEARCH/MITOCHONDRIA/xp1/train/59_target.png\n",
      "Reading source mask /home/haehn/Dropbox/RESEARCH/MITOCHONDRIA/xp1/train/59_source_seg.png\n",
      "Reading target mask /home/haehn/Dropbox/RESEARCH/MITOCHONDRIA/xp1/train/59_target_seg.png\n",
      "Reading source image /home/haehn/Dropbox/RESEARCH/MITOCHONDRIA/xp1/train/5_source.png\n",
      "Reading target image /home/haehn/Dropbox/RESEARCH/MITOCHONDRIA/xp1/train/5_target.png\n",
      "Reading source mask /home/haehn/Dropbox/RESEARCH/MITOCHONDRIA/xp1/train/5_source_seg.png\n",
      "Reading target mask /home/haehn/Dropbox/RESEARCH/MITOCHONDRIA/xp1/train/5_target_seg.png\n",
      "Reading source image /home/haehn/Dropbox/RESEARCH/MITOCHONDRIA/xp1/train/60_source.png\n",
      "Reading target image /home/haehn/Dropbox/RESEARCH/MITOCHONDRIA/xp1/train/60_target.png\n",
      "Reading source mask /home/haehn/Dropbox/RESEARCH/MITOCHONDRIA/xp1/train/60_source_seg.png\n",
      "Reading target mask /home/haehn/Dropbox/RESEARCH/MITOCHONDRIA/xp1/train/60_target_seg.png\n",
      "Reading source image /home/haehn/Dropbox/RESEARCH/MITOCHONDRIA/xp1/train/61_source.png\n",
      "Reading target image /home/haehn/Dropbox/RESEARCH/MITOCHONDRIA/xp1/train/61_target.png\n",
      "Reading source mask /home/haehn/Dropbox/RESEARCH/MITOCHONDRIA/xp1/train/61_source_seg.png\n",
      "Reading target mask /home/haehn/Dropbox/RESEARCH/MITOCHONDRIA/xp1/train/61_target_seg.png\n",
      "Reading source image /home/haehn/Dropbox/RESEARCH/MITOCHONDRIA/xp1/train/62_source.png\n",
      "Reading target image /home/haehn/Dropbox/RESEARCH/MITOCHONDRIA/xp1/train/62_target.png\n",
      "Reading source mask /home/haehn/Dropbox/RESEARCH/MITOCHONDRIA/xp1/train/62_source_seg.png\n",
      "Reading target mask /home/haehn/Dropbox/RESEARCH/MITOCHONDRIA/xp1/train/62_target_seg.png\n",
      "Reading source image /home/haehn/Dropbox/RESEARCH/MITOCHONDRIA/xp1/train/63_source.png\n",
      "Reading target image /home/haehn/Dropbox/RESEARCH/MITOCHONDRIA/xp1/train/63_target.png\n",
      "Reading source mask /home/haehn/Dropbox/RESEARCH/MITOCHONDRIA/xp1/train/63_source_seg.png\n",
      "Reading target mask /home/haehn/Dropbox/RESEARCH/MITOCHONDRIA/xp1/train/63_target_seg.png\n",
      "Reading source image /home/haehn/Dropbox/RESEARCH/MITOCHONDRIA/xp1/train/64_source.png\n",
      "Reading target image /home/haehn/Dropbox/RESEARCH/MITOCHONDRIA/xp1/train/64_target.png\n",
      "Reading source mask /home/haehn/Dropbox/RESEARCH/MITOCHONDRIA/xp1/train/64_source_seg.png\n",
      "Reading target mask /home/haehn/Dropbox/RESEARCH/MITOCHONDRIA/xp1/train/64_target_seg.png\n",
      "Reading source image /home/haehn/Dropbox/RESEARCH/MITOCHONDRIA/xp1/train/65_source.png\n",
      "Reading target image /home/haehn/Dropbox/RESEARCH/MITOCHONDRIA/xp1/train/65_target.png\n",
      "Reading source mask /home/haehn/Dropbox/RESEARCH/MITOCHONDRIA/xp1/train/65_source_seg.png\n",
      "Reading target mask /home/haehn/Dropbox/RESEARCH/MITOCHONDRIA/xp1/train/65_target_seg.png\n",
      "Reading source image /home/haehn/Dropbox/RESEARCH/MITOCHONDRIA/xp1/train/66_source.png\n",
      "Reading target image /home/haehn/Dropbox/RESEARCH/MITOCHONDRIA/xp1/train/66_target.png\n",
      "Reading source mask /home/haehn/Dropbox/RESEARCH/MITOCHONDRIA/xp1/train/66_source_seg.png\n",
      "Reading target mask /home/haehn/Dropbox/RESEARCH/MITOCHONDRIA/xp1/train/66_target_seg.png\n",
      "Reading source image /home/haehn/Dropbox/RESEARCH/MITOCHONDRIA/xp1/train/67_source.png\n",
      "Reading target image /home/haehn/Dropbox/RESEARCH/MITOCHONDRIA/xp1/train/67_target.png\n",
      "Reading source mask /home/haehn/Dropbox/RESEARCH/MITOCHONDRIA/xp1/train/67_source_seg.png\n",
      "Reading target mask /home/haehn/Dropbox/RESEARCH/MITOCHONDRIA/xp1/train/67_target_seg.png\n"
     ]
    },
    {
     "name": "stdout",
     "output_type": "stream",
     "text": [
      "Reading source image /home/haehn/Dropbox/RESEARCH/MITOCHONDRIA/xp1/train/68_source.png\n",
      "Reading target image /home/haehn/Dropbox/RESEARCH/MITOCHONDRIA/xp1/train/68_target.png\n",
      "Reading source mask /home/haehn/Dropbox/RESEARCH/MITOCHONDRIA/xp1/train/68_source_seg.png\n",
      "Reading target mask /home/haehn/Dropbox/RESEARCH/MITOCHONDRIA/xp1/train/68_target_seg.png\n",
      "Reading source image /home/haehn/Dropbox/RESEARCH/MITOCHONDRIA/xp1/train/69_source.png\n",
      "Reading target image /home/haehn/Dropbox/RESEARCH/MITOCHONDRIA/xp1/train/69_target.png\n",
      "Reading source mask /home/haehn/Dropbox/RESEARCH/MITOCHONDRIA/xp1/train/69_source_seg.png\n",
      "Reading target mask /home/haehn/Dropbox/RESEARCH/MITOCHONDRIA/xp1/train/69_target_seg.png\n",
      "Reading source image /home/haehn/Dropbox/RESEARCH/MITOCHONDRIA/xp1/train/6_source.png\n",
      "Reading target image /home/haehn/Dropbox/RESEARCH/MITOCHONDRIA/xp1/train/6_target.png\n",
      "Reading source mask /home/haehn/Dropbox/RESEARCH/MITOCHONDRIA/xp1/train/6_source_seg.png\n",
      "Reading target mask /home/haehn/Dropbox/RESEARCH/MITOCHONDRIA/xp1/train/6_target_seg.png\n",
      "Reading source image /home/haehn/Dropbox/RESEARCH/MITOCHONDRIA/xp1/train/70_source.png\n",
      "Reading target image /home/haehn/Dropbox/RESEARCH/MITOCHONDRIA/xp1/train/70_target.png\n",
      "Reading source mask /home/haehn/Dropbox/RESEARCH/MITOCHONDRIA/xp1/train/70_source_seg.png\n",
      "Reading target mask /home/haehn/Dropbox/RESEARCH/MITOCHONDRIA/xp1/train/70_target_seg.png\n",
      "Reading source image /home/haehn/Dropbox/RESEARCH/MITOCHONDRIA/xp1/train/71_source.png\n",
      "Reading target image /home/haehn/Dropbox/RESEARCH/MITOCHONDRIA/xp1/train/71_target.png\n",
      "Reading source mask /home/haehn/Dropbox/RESEARCH/MITOCHONDRIA/xp1/train/71_source_seg.png\n",
      "Reading target mask /home/haehn/Dropbox/RESEARCH/MITOCHONDRIA/xp1/train/71_target_seg.png\n",
      "Reading source image /home/haehn/Dropbox/RESEARCH/MITOCHONDRIA/xp1/train/72_source.png\n",
      "Reading target image /home/haehn/Dropbox/RESEARCH/MITOCHONDRIA/xp1/train/72_target.png\n",
      "Reading source mask /home/haehn/Dropbox/RESEARCH/MITOCHONDRIA/xp1/train/72_source_seg.png\n",
      "Reading target mask /home/haehn/Dropbox/RESEARCH/MITOCHONDRIA/xp1/train/72_target_seg.png\n",
      "Reading source image /home/haehn/Dropbox/RESEARCH/MITOCHONDRIA/xp1/train/73_source.png\n",
      "Reading target image /home/haehn/Dropbox/RESEARCH/MITOCHONDRIA/xp1/train/73_target.png\n",
      "Reading source mask /home/haehn/Dropbox/RESEARCH/MITOCHONDRIA/xp1/train/73_source_seg.png\n",
      "Reading target mask /home/haehn/Dropbox/RESEARCH/MITOCHONDRIA/xp1/train/73_target_seg.png\n",
      "Reading source image /home/haehn/Dropbox/RESEARCH/MITOCHONDRIA/xp1/train/74_source.png\n",
      "Reading target image /home/haehn/Dropbox/RESEARCH/MITOCHONDRIA/xp1/train/74_target.png\n",
      "Reading source mask /home/haehn/Dropbox/RESEARCH/MITOCHONDRIA/xp1/train/74_source_seg.png\n",
      "Reading target mask /home/haehn/Dropbox/RESEARCH/MITOCHONDRIA/xp1/train/74_target_seg.png\n",
      "Reading source image /home/haehn/Dropbox/RESEARCH/MITOCHONDRIA/xp1/train/75_source.png\n",
      "Reading target image /home/haehn/Dropbox/RESEARCH/MITOCHONDRIA/xp1/train/75_target.png\n",
      "Reading source mask /home/haehn/Dropbox/RESEARCH/MITOCHONDRIA/xp1/train/75_source_seg.png\n",
      "Reading target mask /home/haehn/Dropbox/RESEARCH/MITOCHONDRIA/xp1/train/75_target_seg.png\n",
      "Reading source image /home/haehn/Dropbox/RESEARCH/MITOCHONDRIA/xp1/train/76_source.png\n",
      "Reading target image /home/haehn/Dropbox/RESEARCH/MITOCHONDRIA/xp1/train/76_target.png\n",
      "Reading source mask /home/haehn/Dropbox/RESEARCH/MITOCHONDRIA/xp1/train/76_source_seg.png\n",
      "Reading target mask /home/haehn/Dropbox/RESEARCH/MITOCHONDRIA/xp1/train/76_target_seg.png\n",
      "Reading source image /home/haehn/Dropbox/RESEARCH/MITOCHONDRIA/xp1/train/77_source.png\n",
      "Reading target image /home/haehn/Dropbox/RESEARCH/MITOCHONDRIA/xp1/train/77_target.png\n",
      "Reading source mask /home/haehn/Dropbox/RESEARCH/MITOCHONDRIA/xp1/train/77_source_seg.png\n",
      "Reading target mask /home/haehn/Dropbox/RESEARCH/MITOCHONDRIA/xp1/train/77_target_seg.png\n",
      "Reading source image /home/haehn/Dropbox/RESEARCH/MITOCHONDRIA/xp1/train/78_source.png\n",
      "Reading target image /home/haehn/Dropbox/RESEARCH/MITOCHONDRIA/xp1/train/78_target.png\n",
      "Reading source mask /home/haehn/Dropbox/RESEARCH/MITOCHONDRIA/xp1/train/78_source_seg.png\n",
      "Reading target mask /home/haehn/Dropbox/RESEARCH/MITOCHONDRIA/xp1/train/78_target_seg.png\n",
      "Reading source image /home/haehn/Dropbox/RESEARCH/MITOCHONDRIA/xp1/train/79_source.png\n",
      "Reading target image /home/haehn/Dropbox/RESEARCH/MITOCHONDRIA/xp1/train/79_target.png\n",
      "Reading source mask /home/haehn/Dropbox/RESEARCH/MITOCHONDRIA/xp1/train/79_source_seg.png\n",
      "Reading target mask /home/haehn/Dropbox/RESEARCH/MITOCHONDRIA/xp1/train/79_target_seg.png\n",
      "Reading source image /home/haehn/Dropbox/RESEARCH/MITOCHONDRIA/xp1/train/7_source.png\n",
      "Reading target image /home/haehn/Dropbox/RESEARCH/MITOCHONDRIA/xp1/train/7_target.png\n",
      "Reading source mask /home/haehn/Dropbox/RESEARCH/MITOCHONDRIA/xp1/train/7_source_seg.png\n",
      "Reading target mask /home/haehn/Dropbox/RESEARCH/MITOCHONDRIA/xp1/train/7_target_seg.png\n",
      "Reading source image /home/haehn/Dropbox/RESEARCH/MITOCHONDRIA/xp1/train/80_source.png\n",
      "Reading target image /home/haehn/Dropbox/RESEARCH/MITOCHONDRIA/xp1/train/80_target.png\n",
      "Reading source mask /home/haehn/Dropbox/RESEARCH/MITOCHONDRIA/xp1/train/80_source_seg.png\n",
      "Reading target mask /home/haehn/Dropbox/RESEARCH/MITOCHONDRIA/xp1/train/80_target_seg.png\n",
      "Reading source image /home/haehn/Dropbox/RESEARCH/MITOCHONDRIA/xp1/train/81_source.png\n",
      "Reading target image /home/haehn/Dropbox/RESEARCH/MITOCHONDRIA/xp1/train/81_target.png\n",
      "Reading source mask /home/haehn/Dropbox/RESEARCH/MITOCHONDRIA/xp1/train/81_source_seg.png\n",
      "Reading target mask /home/haehn/Dropbox/RESEARCH/MITOCHONDRIA/xp1/train/81_target_seg.png\n",
      "Reading source image /home/haehn/Dropbox/RESEARCH/MITOCHONDRIA/xp1/train/82_source.png\n",
      "Reading target image /home/haehn/Dropbox/RESEARCH/MITOCHONDRIA/xp1/train/82_target.png\n",
      "Reading source mask /home/haehn/Dropbox/RESEARCH/MITOCHONDRIA/xp1/train/82_source_seg.png\n",
      "Reading target mask /home/haehn/Dropbox/RESEARCH/MITOCHONDRIA/xp1/train/82_target_seg.png\n",
      "Reading source image /home/haehn/Dropbox/RESEARCH/MITOCHONDRIA/xp1/train/83_source.png\n",
      "Reading target image /home/haehn/Dropbox/RESEARCH/MITOCHONDRIA/xp1/train/83_target.png\n",
      "Reading source mask /home/haehn/Dropbox/RESEARCH/MITOCHONDRIA/xp1/train/83_source_seg.png\n",
      "Reading target mask /home/haehn/Dropbox/RESEARCH/MITOCHONDRIA/xp1/train/83_target_seg.png\n",
      "Reading source image /home/haehn/Dropbox/RESEARCH/MITOCHONDRIA/xp1/train/84_source.png\n",
      "Reading target image /home/haehn/Dropbox/RESEARCH/MITOCHONDRIA/xp1/train/84_target.png\n",
      "Reading source mask /home/haehn/Dropbox/RESEARCH/MITOCHONDRIA/xp1/train/84_source_seg.png\n",
      "Reading target mask /home/haehn/Dropbox/RESEARCH/MITOCHONDRIA/xp1/train/84_target_seg.png\n",
      "Reading source image /home/haehn/Dropbox/RESEARCH/MITOCHONDRIA/xp1/train/85_source.png\n",
      "Reading target image /home/haehn/Dropbox/RESEARCH/MITOCHONDRIA/xp1/train/85_target.png\n",
      "Reading source mask /home/haehn/Dropbox/RESEARCH/MITOCHONDRIA/xp1/train/85_source_seg.png\n",
      "Reading target mask /home/haehn/Dropbox/RESEARCH/MITOCHONDRIA/xp1/train/85_target_seg.png\n",
      "Reading source image /home/haehn/Dropbox/RESEARCH/MITOCHONDRIA/xp1/train/86_source.png\n",
      "Reading target image /home/haehn/Dropbox/RESEARCH/MITOCHONDRIA/xp1/train/86_target.png\n",
      "Reading source mask /home/haehn/Dropbox/RESEARCH/MITOCHONDRIA/xp1/train/86_source_seg.png\n",
      "Reading target mask /home/haehn/Dropbox/RESEARCH/MITOCHONDRIA/xp1/train/86_target_seg.png\n",
      "Reading source image /home/haehn/Dropbox/RESEARCH/MITOCHONDRIA/xp1/train/87_source.png\n",
      "Reading target image /home/haehn/Dropbox/RESEARCH/MITOCHONDRIA/xp1/train/87_target.png\n",
      "Reading source mask /home/haehn/Dropbox/RESEARCH/MITOCHONDRIA/xp1/train/87_source_seg.png\n",
      "Reading target mask /home/haehn/Dropbox/RESEARCH/MITOCHONDRIA/xp1/train/87_target_seg.png\n",
      "Reading source image /home/haehn/Dropbox/RESEARCH/MITOCHONDRIA/xp1/train/88_source.png\n",
      "Reading target image /home/haehn/Dropbox/RESEARCH/MITOCHONDRIA/xp1/train/88_target.png\n",
      "Reading source mask /home/haehn/Dropbox/RESEARCH/MITOCHONDRIA/xp1/train/88_source_seg.png\n",
      "Reading target mask /home/haehn/Dropbox/RESEARCH/MITOCHONDRIA/xp1/train/88_target_seg.png\n",
      "Reading source image /home/haehn/Dropbox/RESEARCH/MITOCHONDRIA/xp1/train/89_source.png\n",
      "Reading target image /home/haehn/Dropbox/RESEARCH/MITOCHONDRIA/xp1/train/89_target.png\n",
      "Reading source mask /home/haehn/Dropbox/RESEARCH/MITOCHONDRIA/xp1/train/89_source_seg.png\n",
      "Reading target mask /home/haehn/Dropbox/RESEARCH/MITOCHONDRIA/xp1/train/89_target_seg.png\n",
      "Reading source image /home/haehn/Dropbox/RESEARCH/MITOCHONDRIA/xp1/train/8_source.png\n",
      "Reading target image /home/haehn/Dropbox/RESEARCH/MITOCHONDRIA/xp1/train/8_target.png\n",
      "Reading source mask /home/haehn/Dropbox/RESEARCH/MITOCHONDRIA/xp1/train/8_source_seg.png\n",
      "Reading target mask /home/haehn/Dropbox/RESEARCH/MITOCHONDRIA/xp1/train/8_target_seg.png\n",
      "Reading source image /home/haehn/Dropbox/RESEARCH/MITOCHONDRIA/xp1/train/90_source.png\n",
      "Reading target image /home/haehn/Dropbox/RESEARCH/MITOCHONDRIA/xp1/train/90_target.png\n",
      "Reading source mask /home/haehn/Dropbox/RESEARCH/MITOCHONDRIA/xp1/train/90_source_seg.png\n",
      "Reading target mask /home/haehn/Dropbox/RESEARCH/MITOCHONDRIA/xp1/train/90_target_seg.png\n",
      "Reading source image /home/haehn/Dropbox/RESEARCH/MITOCHONDRIA/xp1/train/91_source.png\n",
      "Reading target image /home/haehn/Dropbox/RESEARCH/MITOCHONDRIA/xp1/train/91_target.png\n",
      "Reading source mask /home/haehn/Dropbox/RESEARCH/MITOCHONDRIA/xp1/train/91_source_seg.png\n",
      "Reading target mask /home/haehn/Dropbox/RESEARCH/MITOCHONDRIA/xp1/train/91_target_seg.png\n",
      "Reading source image /home/haehn/Dropbox/RESEARCH/MITOCHONDRIA/xp1/train/92_source.png\n",
      "Reading target image /home/haehn/Dropbox/RESEARCH/MITOCHONDRIA/xp1/train/92_target.png\n",
      "Reading source mask /home/haehn/Dropbox/RESEARCH/MITOCHONDRIA/xp1/train/92_source_seg.png\n",
      "Reading target mask /home/haehn/Dropbox/RESEARCH/MITOCHONDRIA/xp1/train/92_target_seg.png\n",
      "Reading source image /home/haehn/Dropbox/RESEARCH/MITOCHONDRIA/xp1/train/93_source.png\n",
      "Reading target image /home/haehn/Dropbox/RESEARCH/MITOCHONDRIA/xp1/train/93_target.png\n",
      "Reading source mask /home/haehn/Dropbox/RESEARCH/MITOCHONDRIA/xp1/train/93_source_seg.png\n",
      "Reading target mask /home/haehn/Dropbox/RESEARCH/MITOCHONDRIA/xp1/train/93_target_seg.png\n",
      "Reading source image /home/haehn/Dropbox/RESEARCH/MITOCHONDRIA/xp1/train/94_source.png\n",
      "Reading target image /home/haehn/Dropbox/RESEARCH/MITOCHONDRIA/xp1/train/94_target.png\n",
      "Reading source mask /home/haehn/Dropbox/RESEARCH/MITOCHONDRIA/xp1/train/94_source_seg.png\n",
      "Reading target mask /home/haehn/Dropbox/RESEARCH/MITOCHONDRIA/xp1/train/94_target_seg.png\n",
      "Reading source image /home/haehn/Dropbox/RESEARCH/MITOCHONDRIA/xp1/train/95_source.png\n",
      "Reading target image /home/haehn/Dropbox/RESEARCH/MITOCHONDRIA/xp1/train/95_target.png\n",
      "Reading source mask /home/haehn/Dropbox/RESEARCH/MITOCHONDRIA/xp1/train/95_source_seg.png\n",
      "Reading target mask /home/haehn/Dropbox/RESEARCH/MITOCHONDRIA/xp1/train/95_target_seg.png\n",
      "Reading source image /home/haehn/Dropbox/RESEARCH/MITOCHONDRIA/xp1/train/96_source.png\n",
      "Reading target image /home/haehn/Dropbox/RESEARCH/MITOCHONDRIA/xp1/train/96_target.png\n",
      "Reading source mask /home/haehn/Dropbox/RESEARCH/MITOCHONDRIA/xp1/train/96_source_seg.png\n",
      "Reading target mask /home/haehn/Dropbox/RESEARCH/MITOCHONDRIA/xp1/train/96_target_seg.png\n",
      "Reading source image /home/haehn/Dropbox/RESEARCH/MITOCHONDRIA/xp1/train/97_source.png\n",
      "Reading target image /home/haehn/Dropbox/RESEARCH/MITOCHONDRIA/xp1/train/97_target.png\n",
      "Reading source mask /home/haehn/Dropbox/RESEARCH/MITOCHONDRIA/xp1/train/97_source_seg.png\n",
      "Reading target mask /home/haehn/Dropbox/RESEARCH/MITOCHONDRIA/xp1/train/97_target_seg.png\n",
      "Reading source image /home/haehn/Dropbox/RESEARCH/MITOCHONDRIA/xp1/train/98_source.png\n",
      "Reading target image /home/haehn/Dropbox/RESEARCH/MITOCHONDRIA/xp1/train/98_target.png\n",
      "Reading source mask /home/haehn/Dropbox/RESEARCH/MITOCHONDRIA/xp1/train/98_source_seg.png\n",
      "Reading target mask /home/haehn/Dropbox/RESEARCH/MITOCHONDRIA/xp1/train/98_target_seg.png\n",
      "Reading source image /home/haehn/Dropbox/RESEARCH/MITOCHONDRIA/xp1/train/99_source.png\n",
      "Reading target image /home/haehn/Dropbox/RESEARCH/MITOCHONDRIA/xp1/train/99_target.png\n",
      "Reading source mask /home/haehn/Dropbox/RESEARCH/MITOCHONDRIA/xp1/train/99_source_seg.png\n",
      "Reading target mask /home/haehn/Dropbox/RESEARCH/MITOCHONDRIA/xp1/train/99_target_seg.png\n",
      "Reading source image /home/haehn/Dropbox/RESEARCH/MITOCHONDRIA/xp1/train/9_source.png\n",
      "Reading target image /home/haehn/Dropbox/RESEARCH/MITOCHONDRIA/xp1/train/9_target.png\n",
      "Reading source mask /home/haehn/Dropbox/RESEARCH/MITOCHONDRIA/xp1/train/9_source_seg.png\n",
      "Reading target mask /home/haehn/Dropbox/RESEARCH/MITOCHONDRIA/xp1/train/9_target_seg.png\n"
     ]
    },
    {
     "name": "stdout",
     "output_type": "stream",
     "text": [
      "----------------------------------------\n",
      "VALIDATION data...\n",
      "----------------------------------------\n",
      "Reading source image /home/haehn/Dropbox/RESEARCH/MITOCHONDRIA/xp1/test/0_source.png\n",
      "Reading target image /home/haehn/Dropbox/RESEARCH/MITOCHONDRIA/xp1/test/0_target.png\n",
      "Reading source mask /home/haehn/Dropbox/RESEARCH/MITOCHONDRIA/xp1/test/0_source_seg.png\n",
      "Reading target mask /home/haehn/Dropbox/RESEARCH/MITOCHONDRIA/xp1/test/0_target_seg.png\n",
      "Reading source image /home/haehn/Dropbox/RESEARCH/MITOCHONDRIA/xp1/test/10_source.png\n",
      "Reading target image /home/haehn/Dropbox/RESEARCH/MITOCHONDRIA/xp1/test/10_target.png\n",
      "Reading source mask /home/haehn/Dropbox/RESEARCH/MITOCHONDRIA/xp1/test/10_source_seg.png\n",
      "Reading target mask /home/haehn/Dropbox/RESEARCH/MITOCHONDRIA/xp1/test/10_target_seg.png\n",
      "Reading source image /home/haehn/Dropbox/RESEARCH/MITOCHONDRIA/xp1/test/11_source.png\n",
      "Reading target image /home/haehn/Dropbox/RESEARCH/MITOCHONDRIA/xp1/test/11_target.png\n",
      "Reading source mask /home/haehn/Dropbox/RESEARCH/MITOCHONDRIA/xp1/test/11_source_seg.png\n",
      "Reading target mask /home/haehn/Dropbox/RESEARCH/MITOCHONDRIA/xp1/test/11_target_seg.png\n",
      "Reading source image /home/haehn/Dropbox/RESEARCH/MITOCHONDRIA/xp1/test/12_source.png\n",
      "Reading target image /home/haehn/Dropbox/RESEARCH/MITOCHONDRIA/xp1/test/12_target.png\n",
      "Reading source mask /home/haehn/Dropbox/RESEARCH/MITOCHONDRIA/xp1/test/12_source_seg.png\n",
      "Reading target mask /home/haehn/Dropbox/RESEARCH/MITOCHONDRIA/xp1/test/12_target_seg.png\n",
      "Reading source image /home/haehn/Dropbox/RESEARCH/MITOCHONDRIA/xp1/test/13_source.png\n",
      "Reading target image /home/haehn/Dropbox/RESEARCH/MITOCHONDRIA/xp1/test/13_target.png\n",
      "Reading source mask /home/haehn/Dropbox/RESEARCH/MITOCHONDRIA/xp1/test/13_source_seg.png\n",
      "Reading target mask /home/haehn/Dropbox/RESEARCH/MITOCHONDRIA/xp1/test/13_target_seg.png\n",
      "Reading source image /home/haehn/Dropbox/RESEARCH/MITOCHONDRIA/xp1/test/14_source.png\n",
      "Reading target image /home/haehn/Dropbox/RESEARCH/MITOCHONDRIA/xp1/test/14_target.png\n",
      "Reading source mask /home/haehn/Dropbox/RESEARCH/MITOCHONDRIA/xp1/test/14_source_seg.png\n",
      "Reading target mask /home/haehn/Dropbox/RESEARCH/MITOCHONDRIA/xp1/test/14_target_seg.png\n",
      "Reading source image /home/haehn/Dropbox/RESEARCH/MITOCHONDRIA/xp1/test/15_source.png\n",
      "Reading target image /home/haehn/Dropbox/RESEARCH/MITOCHONDRIA/xp1/test/15_target.png\n",
      "Reading source mask /home/haehn/Dropbox/RESEARCH/MITOCHONDRIA/xp1/test/15_source_seg.png\n",
      "Reading target mask /home/haehn/Dropbox/RESEARCH/MITOCHONDRIA/xp1/test/15_target_seg.png\n",
      "Reading source image /home/haehn/Dropbox/RESEARCH/MITOCHONDRIA/xp1/test/16_source.png\n",
      "Reading target image /home/haehn/Dropbox/RESEARCH/MITOCHONDRIA/xp1/test/16_target.png\n",
      "Reading source mask /home/haehn/Dropbox/RESEARCH/MITOCHONDRIA/xp1/test/16_source_seg.png\n",
      "Reading target mask /home/haehn/Dropbox/RESEARCH/MITOCHONDRIA/xp1/test/16_target_seg.png\n",
      "Reading source image /home/haehn/Dropbox/RESEARCH/MITOCHONDRIA/xp1/test/17_source.png\n",
      "Reading target image /home/haehn/Dropbox/RESEARCH/MITOCHONDRIA/xp1/test/17_target.png\n",
      "Reading source mask /home/haehn/Dropbox/RESEARCH/MITOCHONDRIA/xp1/test/17_source_seg.png\n",
      "Reading target mask /home/haehn/Dropbox/RESEARCH/MITOCHONDRIA/xp1/test/17_target_seg.png\n",
      "Reading source image /home/haehn/Dropbox/RESEARCH/MITOCHONDRIA/xp1/test/18_source.png\n",
      "Reading target image /home/haehn/Dropbox/RESEARCH/MITOCHONDRIA/xp1/test/18_target.png\n",
      "Reading source mask /home/haehn/Dropbox/RESEARCH/MITOCHONDRIA/xp1/test/18_source_seg.png\n",
      "Reading target mask /home/haehn/Dropbox/RESEARCH/MITOCHONDRIA/xp1/test/18_target_seg.png\n",
      "Reading source image /home/haehn/Dropbox/RESEARCH/MITOCHONDRIA/xp1/test/19_source.png\n",
      "Reading target image /home/haehn/Dropbox/RESEARCH/MITOCHONDRIA/xp1/test/19_target.png\n",
      "Reading source mask /home/haehn/Dropbox/RESEARCH/MITOCHONDRIA/xp1/test/19_source_seg.png\n",
      "Reading target mask /home/haehn/Dropbox/RESEARCH/MITOCHONDRIA/xp1/test/19_target_seg.png\n",
      "Reading source image /home/haehn/Dropbox/RESEARCH/MITOCHONDRIA/xp1/test/1_source.png\n",
      "Reading target image /home/haehn/Dropbox/RESEARCH/MITOCHONDRIA/xp1/test/1_target.png\n",
      "Reading source mask /home/haehn/Dropbox/RESEARCH/MITOCHONDRIA/xp1/test/1_source_seg.png\n",
      "Reading target mask /home/haehn/Dropbox/RESEARCH/MITOCHONDRIA/xp1/test/1_target_seg.png\n",
      "Reading source image /home/haehn/Dropbox/RESEARCH/MITOCHONDRIA/xp1/test/20_source.png\n",
      "Reading target image /home/haehn/Dropbox/RESEARCH/MITOCHONDRIA/xp1/test/20_target.png\n",
      "Reading source mask /home/haehn/Dropbox/RESEARCH/MITOCHONDRIA/xp1/test/20_source_seg.png\n",
      "Reading target mask /home/haehn/Dropbox/RESEARCH/MITOCHONDRIA/xp1/test/20_target_seg.png\n",
      "Reading source image /home/haehn/Dropbox/RESEARCH/MITOCHONDRIA/xp1/test/21_source.png\n",
      "Reading target image /home/haehn/Dropbox/RESEARCH/MITOCHONDRIA/xp1/test/21_target.png\n",
      "Reading source mask /home/haehn/Dropbox/RESEARCH/MITOCHONDRIA/xp1/test/21_source_seg.png\n",
      "Reading target mask /home/haehn/Dropbox/RESEARCH/MITOCHONDRIA/xp1/test/21_target_seg.png\n",
      "Reading source image /home/haehn/Dropbox/RESEARCH/MITOCHONDRIA/xp1/test/22_source.png\n",
      "Reading target image /home/haehn/Dropbox/RESEARCH/MITOCHONDRIA/xp1/test/22_target.png\n",
      "Reading source mask /home/haehn/Dropbox/RESEARCH/MITOCHONDRIA/xp1/test/22_source_seg.png\n",
      "Reading target mask /home/haehn/Dropbox/RESEARCH/MITOCHONDRIA/xp1/test/22_target_seg.png\n",
      "Reading source image /home/haehn/Dropbox/RESEARCH/MITOCHONDRIA/xp1/test/23_source.png\n",
      "Reading target image /home/haehn/Dropbox/RESEARCH/MITOCHONDRIA/xp1/test/23_target.png\n",
      "Reading source mask /home/haehn/Dropbox/RESEARCH/MITOCHONDRIA/xp1/test/23_source_seg.png\n",
      "Reading target mask /home/haehn/Dropbox/RESEARCH/MITOCHONDRIA/xp1/test/23_target_seg.png\n",
      "Reading source image /home/haehn/Dropbox/RESEARCH/MITOCHONDRIA/xp1/test/24_source.png\n",
      "Reading target image /home/haehn/Dropbox/RESEARCH/MITOCHONDRIA/xp1/test/24_target.png\n",
      "Reading source mask /home/haehn/Dropbox/RESEARCH/MITOCHONDRIA/xp1/test/24_source_seg.png\n",
      "Reading target mask /home/haehn/Dropbox/RESEARCH/MITOCHONDRIA/xp1/test/24_target_seg.png\n",
      "Reading source image /home/haehn/Dropbox/RESEARCH/MITOCHONDRIA/xp1/test/25_source.png\n",
      "Reading target image /home/haehn/Dropbox/RESEARCH/MITOCHONDRIA/xp1/test/25_target.png\n",
      "Reading source mask /home/haehn/Dropbox/RESEARCH/MITOCHONDRIA/xp1/test/25_source_seg.png\n",
      "Reading target mask /home/haehn/Dropbox/RESEARCH/MITOCHONDRIA/xp1/test/25_target_seg.png\n",
      "Reading source image /home/haehn/Dropbox/RESEARCH/MITOCHONDRIA/xp1/test/26_source.png\n",
      "Reading target image /home/haehn/Dropbox/RESEARCH/MITOCHONDRIA/xp1/test/26_target.png\n",
      "Reading source mask /home/haehn/Dropbox/RESEARCH/MITOCHONDRIA/xp1/test/26_source_seg.png\n",
      "Reading target mask /home/haehn/Dropbox/RESEARCH/MITOCHONDRIA/xp1/test/26_target_seg.png\n",
      "Reading source image /home/haehn/Dropbox/RESEARCH/MITOCHONDRIA/xp1/test/27_source.png\n",
      "Reading target image /home/haehn/Dropbox/RESEARCH/MITOCHONDRIA/xp1/test/27_target.png\n",
      "Reading source mask /home/haehn/Dropbox/RESEARCH/MITOCHONDRIA/xp1/test/27_source_seg.png\n",
      "Reading target mask /home/haehn/Dropbox/RESEARCH/MITOCHONDRIA/xp1/test/27_target_seg.png\n",
      "Reading source image /home/haehn/Dropbox/RESEARCH/MITOCHONDRIA/xp1/test/28_source.png\n",
      "Reading target image /home/haehn/Dropbox/RESEARCH/MITOCHONDRIA/xp1/test/28_target.png\n",
      "Reading source mask /home/haehn/Dropbox/RESEARCH/MITOCHONDRIA/xp1/test/28_source_seg.png\n",
      "Reading target mask /home/haehn/Dropbox/RESEARCH/MITOCHONDRIA/xp1/test/28_target_seg.png\n",
      "Reading source image /home/haehn/Dropbox/RESEARCH/MITOCHONDRIA/xp1/test/29_source.png\n",
      "Reading target image /home/haehn/Dropbox/RESEARCH/MITOCHONDRIA/xp1/test/29_target.png\n",
      "Reading source mask /home/haehn/Dropbox/RESEARCH/MITOCHONDRIA/xp1/test/29_source_seg.png\n",
      "Reading target mask /home/haehn/Dropbox/RESEARCH/MITOCHONDRIA/xp1/test/29_target_seg.png\n",
      "Reading source image /home/haehn/Dropbox/RESEARCH/MITOCHONDRIA/xp1/test/2_source.png\n",
      "Reading target image /home/haehn/Dropbox/RESEARCH/MITOCHONDRIA/xp1/test/2_target.png\n",
      "Reading source mask /home/haehn/Dropbox/RESEARCH/MITOCHONDRIA/xp1/test/2_source_seg.png\n",
      "Reading target mask /home/haehn/Dropbox/RESEARCH/MITOCHONDRIA/xp1/test/2_target_seg.png\n",
      "Reading source image /home/haehn/Dropbox/RESEARCH/MITOCHONDRIA/xp1/test/30_source.png\n",
      "Reading target image /home/haehn/Dropbox/RESEARCH/MITOCHONDRIA/xp1/test/30_target.png\n",
      "Reading source mask /home/haehn/Dropbox/RESEARCH/MITOCHONDRIA/xp1/test/30_source_seg.png\n",
      "Reading target mask /home/haehn/Dropbox/RESEARCH/MITOCHONDRIA/xp1/test/30_target_seg.png\n",
      "Reading source image /home/haehn/Dropbox/RESEARCH/MITOCHONDRIA/xp1/test/31_source.png\n",
      "Reading target image /home/haehn/Dropbox/RESEARCH/MITOCHONDRIA/xp1/test/31_target.png\n",
      "Reading source mask /home/haehn/Dropbox/RESEARCH/MITOCHONDRIA/xp1/test/31_source_seg.png\n",
      "Reading target mask /home/haehn/Dropbox/RESEARCH/MITOCHONDRIA/xp1/test/31_target_seg.png\n",
      "Reading source image /home/haehn/Dropbox/RESEARCH/MITOCHONDRIA/xp1/test/32_source.png\n",
      "Reading target image /home/haehn/Dropbox/RESEARCH/MITOCHONDRIA/xp1/test/32_target.png\n",
      "Reading source mask /home/haehn/Dropbox/RESEARCH/MITOCHONDRIA/xp1/test/32_source_seg.png\n",
      "Reading target mask /home/haehn/Dropbox/RESEARCH/MITOCHONDRIA/xp1/test/32_target_seg.png\n",
      "Reading source image /home/haehn/Dropbox/RESEARCH/MITOCHONDRIA/xp1/test/33_source.png\n",
      "Reading target image /home/haehn/Dropbox/RESEARCH/MITOCHONDRIA/xp1/test/33_target.png\n",
      "Reading source mask /home/haehn/Dropbox/RESEARCH/MITOCHONDRIA/xp1/test/33_source_seg.png\n",
      "Reading target mask /home/haehn/Dropbox/RESEARCH/MITOCHONDRIA/xp1/test/33_target_seg.png\n",
      "Reading source image /home/haehn/Dropbox/RESEARCH/MITOCHONDRIA/xp1/test/34_source.png\n",
      "Reading target image /home/haehn/Dropbox/RESEARCH/MITOCHONDRIA/xp1/test/34_target.png\n",
      "Reading source mask /home/haehn/Dropbox/RESEARCH/MITOCHONDRIA/xp1/test/34_source_seg.png\n",
      "Reading target mask /home/haehn/Dropbox/RESEARCH/MITOCHONDRIA/xp1/test/34_target_seg.png\n",
      "Reading source image /home/haehn/Dropbox/RESEARCH/MITOCHONDRIA/xp1/test/35_source.png\n",
      "Reading target image /home/haehn/Dropbox/RESEARCH/MITOCHONDRIA/xp1/test/35_target.png\n",
      "Reading source mask /home/haehn/Dropbox/RESEARCH/MITOCHONDRIA/xp1/test/35_source_seg.png\n",
      "Reading target mask /home/haehn/Dropbox/RESEARCH/MITOCHONDRIA/xp1/test/35_target_seg.png\n",
      "Reading source image /home/haehn/Dropbox/RESEARCH/MITOCHONDRIA/xp1/test/36_source.png\n",
      "Reading target image /home/haehn/Dropbox/RESEARCH/MITOCHONDRIA/xp1/test/36_target.png\n",
      "Reading source mask /home/haehn/Dropbox/RESEARCH/MITOCHONDRIA/xp1/test/36_source_seg.png\n",
      "Reading target mask /home/haehn/Dropbox/RESEARCH/MITOCHONDRIA/xp1/test/36_target_seg.png\n",
      "Reading source image /home/haehn/Dropbox/RESEARCH/MITOCHONDRIA/xp1/test/37_source.png\n",
      "Reading target image /home/haehn/Dropbox/RESEARCH/MITOCHONDRIA/xp1/test/37_target.png\n",
      "Reading source mask /home/haehn/Dropbox/RESEARCH/MITOCHONDRIA/xp1/test/37_source_seg.png\n",
      "Reading target mask /home/haehn/Dropbox/RESEARCH/MITOCHONDRIA/xp1/test/37_target_seg.png\n",
      "Reading source image /home/haehn/Dropbox/RESEARCH/MITOCHONDRIA/xp1/test/38_source.png\n",
      "Reading target image /home/haehn/Dropbox/RESEARCH/MITOCHONDRIA/xp1/test/38_target.png\n",
      "Reading source mask /home/haehn/Dropbox/RESEARCH/MITOCHONDRIA/xp1/test/38_source_seg.png\n",
      "Reading target mask /home/haehn/Dropbox/RESEARCH/MITOCHONDRIA/xp1/test/38_target_seg.png\n",
      "Reading source image /home/haehn/Dropbox/RESEARCH/MITOCHONDRIA/xp1/test/39_source.png\n",
      "Reading target image /home/haehn/Dropbox/RESEARCH/MITOCHONDRIA/xp1/test/39_target.png\n",
      "Reading source mask /home/haehn/Dropbox/RESEARCH/MITOCHONDRIA/xp1/test/39_source_seg.png\n",
      "Reading target mask /home/haehn/Dropbox/RESEARCH/MITOCHONDRIA/xp1/test/39_target_seg.png\n",
      "Reading source image /home/haehn/Dropbox/RESEARCH/MITOCHONDRIA/xp1/test/3_source.png\n",
      "Reading target image /home/haehn/Dropbox/RESEARCH/MITOCHONDRIA/xp1/test/3_target.png\n",
      "Reading source mask /home/haehn/Dropbox/RESEARCH/MITOCHONDRIA/xp1/test/3_source_seg.png\n",
      "Reading target mask /home/haehn/Dropbox/RESEARCH/MITOCHONDRIA/xp1/test/3_target_seg.png\n",
      "Reading source image /home/haehn/Dropbox/RESEARCH/MITOCHONDRIA/xp1/test/40_source.png\n",
      "Reading target image /home/haehn/Dropbox/RESEARCH/MITOCHONDRIA/xp1/test/40_target.png\n",
      "Reading source mask /home/haehn/Dropbox/RESEARCH/MITOCHONDRIA/xp1/test/40_source_seg.png\n",
      "Reading target mask /home/haehn/Dropbox/RESEARCH/MITOCHONDRIA/xp1/test/40_target_seg.png\n",
      "Reading source image /home/haehn/Dropbox/RESEARCH/MITOCHONDRIA/xp1/test/41_source.png\n",
      "Reading target image /home/haehn/Dropbox/RESEARCH/MITOCHONDRIA/xp1/test/41_target.png\n",
      "Reading source mask /home/haehn/Dropbox/RESEARCH/MITOCHONDRIA/xp1/test/41_source_seg.png\n",
      "Reading target mask /home/haehn/Dropbox/RESEARCH/MITOCHONDRIA/xp1/test/41_target_seg.png\n",
      "Reading source image /home/haehn/Dropbox/RESEARCH/MITOCHONDRIA/xp1/test/42_source.png\n",
      "Reading target image /home/haehn/Dropbox/RESEARCH/MITOCHONDRIA/xp1/test/42_target.png\n",
      "Reading source mask /home/haehn/Dropbox/RESEARCH/MITOCHONDRIA/xp1/test/42_source_seg.png\n",
      "Reading target mask /home/haehn/Dropbox/RESEARCH/MITOCHONDRIA/xp1/test/42_target_seg.png\n"
     ]
    },
    {
     "name": "stdout",
     "output_type": "stream",
     "text": [
      "Reading source image /home/haehn/Dropbox/RESEARCH/MITOCHONDRIA/xp1/test/43_source.png\n",
      "Reading target image /home/haehn/Dropbox/RESEARCH/MITOCHONDRIA/xp1/test/43_target.png\n",
      "Reading source mask /home/haehn/Dropbox/RESEARCH/MITOCHONDRIA/xp1/test/43_source_seg.png\n",
      "Reading target mask /home/haehn/Dropbox/RESEARCH/MITOCHONDRIA/xp1/test/43_target_seg.png\n",
      "Reading source image /home/haehn/Dropbox/RESEARCH/MITOCHONDRIA/xp1/test/44_source.png\n",
      "Reading target image /home/haehn/Dropbox/RESEARCH/MITOCHONDRIA/xp1/test/44_target.png\n",
      "Reading source mask /home/haehn/Dropbox/RESEARCH/MITOCHONDRIA/xp1/test/44_source_seg.png\n",
      "Reading target mask /home/haehn/Dropbox/RESEARCH/MITOCHONDRIA/xp1/test/44_target_seg.png\n",
      "Reading source image /home/haehn/Dropbox/RESEARCH/MITOCHONDRIA/xp1/test/45_source.png\n",
      "Reading target image /home/haehn/Dropbox/RESEARCH/MITOCHONDRIA/xp1/test/45_target.png\n",
      "Reading source mask /home/haehn/Dropbox/RESEARCH/MITOCHONDRIA/xp1/test/45_source_seg.png\n",
      "Reading target mask /home/haehn/Dropbox/RESEARCH/MITOCHONDRIA/xp1/test/45_target_seg.png\n",
      "Reading source image /home/haehn/Dropbox/RESEARCH/MITOCHONDRIA/xp1/test/46_source.png\n",
      "Reading target image /home/haehn/Dropbox/RESEARCH/MITOCHONDRIA/xp1/test/46_target.png\n",
      "Reading source mask /home/haehn/Dropbox/RESEARCH/MITOCHONDRIA/xp1/test/46_source_seg.png\n",
      "Reading target mask /home/haehn/Dropbox/RESEARCH/MITOCHONDRIA/xp1/test/46_target_seg.png\n",
      "Reading source image /home/haehn/Dropbox/RESEARCH/MITOCHONDRIA/xp1/test/47_source.png\n",
      "Reading target image /home/haehn/Dropbox/RESEARCH/MITOCHONDRIA/xp1/test/47_target.png\n",
      "Reading source mask /home/haehn/Dropbox/RESEARCH/MITOCHONDRIA/xp1/test/47_source_seg.png\n",
      "Reading target mask /home/haehn/Dropbox/RESEARCH/MITOCHONDRIA/xp1/test/47_target_seg.png\n",
      "Reading source image /home/haehn/Dropbox/RESEARCH/MITOCHONDRIA/xp1/test/48_source.png\n",
      "Reading target image /home/haehn/Dropbox/RESEARCH/MITOCHONDRIA/xp1/test/48_target.png\n",
      "Reading source mask /home/haehn/Dropbox/RESEARCH/MITOCHONDRIA/xp1/test/48_source_seg.png\n",
      "Reading target mask /home/haehn/Dropbox/RESEARCH/MITOCHONDRIA/xp1/test/48_target_seg.png\n",
      "Reading source image /home/haehn/Dropbox/RESEARCH/MITOCHONDRIA/xp1/test/49_source.png\n",
      "Reading target image /home/haehn/Dropbox/RESEARCH/MITOCHONDRIA/xp1/test/49_target.png\n",
      "Reading source mask /home/haehn/Dropbox/RESEARCH/MITOCHONDRIA/xp1/test/49_source_seg.png\n",
      "Reading target mask /home/haehn/Dropbox/RESEARCH/MITOCHONDRIA/xp1/test/49_target_seg.png\n",
      "Reading source image /home/haehn/Dropbox/RESEARCH/MITOCHONDRIA/xp1/test/4_source.png\n",
      "Reading target image /home/haehn/Dropbox/RESEARCH/MITOCHONDRIA/xp1/test/4_target.png\n",
      "Reading source mask /home/haehn/Dropbox/RESEARCH/MITOCHONDRIA/xp1/test/4_source_seg.png\n",
      "Reading target mask /home/haehn/Dropbox/RESEARCH/MITOCHONDRIA/xp1/test/4_target_seg.png\n",
      "Reading source image /home/haehn/Dropbox/RESEARCH/MITOCHONDRIA/xp1/test/50_source.png\n",
      "Reading target image /home/haehn/Dropbox/RESEARCH/MITOCHONDRIA/xp1/test/50_target.png\n",
      "Reading source mask /home/haehn/Dropbox/RESEARCH/MITOCHONDRIA/xp1/test/50_source_seg.png\n",
      "Reading target mask /home/haehn/Dropbox/RESEARCH/MITOCHONDRIA/xp1/test/50_target_seg.png\n",
      "Reading source image /home/haehn/Dropbox/RESEARCH/MITOCHONDRIA/xp1/test/51_source.png\n",
      "Reading target image /home/haehn/Dropbox/RESEARCH/MITOCHONDRIA/xp1/test/51_target.png\n",
      "Reading source mask /home/haehn/Dropbox/RESEARCH/MITOCHONDRIA/xp1/test/51_source_seg.png\n",
      "Reading target mask /home/haehn/Dropbox/RESEARCH/MITOCHONDRIA/xp1/test/51_target_seg.png\n",
      "Reading source image /home/haehn/Dropbox/RESEARCH/MITOCHONDRIA/xp1/test/52_source.png\n",
      "Reading target image /home/haehn/Dropbox/RESEARCH/MITOCHONDRIA/xp1/test/52_target.png\n",
      "Reading source mask /home/haehn/Dropbox/RESEARCH/MITOCHONDRIA/xp1/test/52_source_seg.png\n",
      "Reading target mask /home/haehn/Dropbox/RESEARCH/MITOCHONDRIA/xp1/test/52_target_seg.png\n",
      "Reading source image /home/haehn/Dropbox/RESEARCH/MITOCHONDRIA/xp1/test/53_source.png\n",
      "Reading target image /home/haehn/Dropbox/RESEARCH/MITOCHONDRIA/xp1/test/53_target.png\n",
      "Reading source mask /home/haehn/Dropbox/RESEARCH/MITOCHONDRIA/xp1/test/53_source_seg.png\n",
      "Reading target mask /home/haehn/Dropbox/RESEARCH/MITOCHONDRIA/xp1/test/53_target_seg.png\n",
      "Reading source image /home/haehn/Dropbox/RESEARCH/MITOCHONDRIA/xp1/test/54_source.png\n",
      "Reading target image /home/haehn/Dropbox/RESEARCH/MITOCHONDRIA/xp1/test/54_target.png\n",
      "Reading source mask /home/haehn/Dropbox/RESEARCH/MITOCHONDRIA/xp1/test/54_source_seg.png\n",
      "Reading target mask /home/haehn/Dropbox/RESEARCH/MITOCHONDRIA/xp1/test/54_target_seg.png\n",
      "Reading source image /home/haehn/Dropbox/RESEARCH/MITOCHONDRIA/xp1/test/55_source.png\n",
      "Reading target image /home/haehn/Dropbox/RESEARCH/MITOCHONDRIA/xp1/test/55_target.png\n",
      "Reading source mask /home/haehn/Dropbox/RESEARCH/MITOCHONDRIA/xp1/test/55_source_seg.png\n",
      "Reading target mask /home/haehn/Dropbox/RESEARCH/MITOCHONDRIA/xp1/test/55_target_seg.png\n",
      "Reading source image /home/haehn/Dropbox/RESEARCH/MITOCHONDRIA/xp1/test/56_source.png\n",
      "Reading target image /home/haehn/Dropbox/RESEARCH/MITOCHONDRIA/xp1/test/56_target.png\n",
      "Reading source mask /home/haehn/Dropbox/RESEARCH/MITOCHONDRIA/xp1/test/56_source_seg.png\n",
      "Reading target mask /home/haehn/Dropbox/RESEARCH/MITOCHONDRIA/xp1/test/56_target_seg.png\n",
      "Reading source image /home/haehn/Dropbox/RESEARCH/MITOCHONDRIA/xp1/test/57_source.png\n",
      "Reading target image /home/haehn/Dropbox/RESEARCH/MITOCHONDRIA/xp1/test/57_target.png\n",
      "Reading source mask /home/haehn/Dropbox/RESEARCH/MITOCHONDRIA/xp1/test/57_source_seg.png\n",
      "Reading target mask /home/haehn/Dropbox/RESEARCH/MITOCHONDRIA/xp1/test/57_target_seg.png\n",
      "Reading source image /home/haehn/Dropbox/RESEARCH/MITOCHONDRIA/xp1/test/58_source.png\n",
      "Reading target image /home/haehn/Dropbox/RESEARCH/MITOCHONDRIA/xp1/test/58_target.png\n",
      "Reading source mask /home/haehn/Dropbox/RESEARCH/MITOCHONDRIA/xp1/test/58_source_seg.png\n",
      "Reading target mask /home/haehn/Dropbox/RESEARCH/MITOCHONDRIA/xp1/test/58_target_seg.png\n",
      "Reading source image /home/haehn/Dropbox/RESEARCH/MITOCHONDRIA/xp1/test/59_source.png\n",
      "Reading target image /home/haehn/Dropbox/RESEARCH/MITOCHONDRIA/xp1/test/59_target.png\n",
      "Reading source mask /home/haehn/Dropbox/RESEARCH/MITOCHONDRIA/xp1/test/59_source_seg.png\n",
      "Reading target mask /home/haehn/Dropbox/RESEARCH/MITOCHONDRIA/xp1/test/59_target_seg.png\n",
      "Reading source image /home/haehn/Dropbox/RESEARCH/MITOCHONDRIA/xp1/test/5_source.png\n",
      "Reading target image /home/haehn/Dropbox/RESEARCH/MITOCHONDRIA/xp1/test/5_target.png\n",
      "Reading source mask /home/haehn/Dropbox/RESEARCH/MITOCHONDRIA/xp1/test/5_source_seg.png\n",
      "Reading target mask /home/haehn/Dropbox/RESEARCH/MITOCHONDRIA/xp1/test/5_target_seg.png\n"
     ]
    },
    {
     "name": "stderr",
     "output_type": "stream",
     "text": [
      "\r",
      "Epoch 1:   0%|          | 0/11 [00:00<?, ?it/s]"
     ]
    },
    {
     "name": "stdout",
     "output_type": "stream",
     "text": [
      "Reading source image /home/haehn/Dropbox/RESEARCH/MITOCHONDRIA/xp1/test/6_source.png\n",
      "Reading target image /home/haehn/Dropbox/RESEARCH/MITOCHONDRIA/xp1/test/6_target.png\n",
      "Reading source mask /home/haehn/Dropbox/RESEARCH/MITOCHONDRIA/xp1/test/6_source_seg.png\n",
      "Reading target mask /home/haehn/Dropbox/RESEARCH/MITOCHONDRIA/xp1/test/6_target_seg.png\n",
      "Reading source image /home/haehn/Dropbox/RESEARCH/MITOCHONDRIA/xp1/test/7_source.png\n",
      "Reading target image /home/haehn/Dropbox/RESEARCH/MITOCHONDRIA/xp1/test/7_target.png\n",
      "Reading source mask /home/haehn/Dropbox/RESEARCH/MITOCHONDRIA/xp1/test/7_source_seg.png\n",
      "Reading target mask /home/haehn/Dropbox/RESEARCH/MITOCHONDRIA/xp1/test/7_target_seg.png\n",
      "Reading source image /home/haehn/Dropbox/RESEARCH/MITOCHONDRIA/xp1/test/8_source.png\n",
      "Reading target image /home/haehn/Dropbox/RESEARCH/MITOCHONDRIA/xp1/test/8_target.png\n",
      "Reading source mask /home/haehn/Dropbox/RESEARCH/MITOCHONDRIA/xp1/test/8_source_seg.png\n",
      "Reading target mask /home/haehn/Dropbox/RESEARCH/MITOCHONDRIA/xp1/test/8_target_seg.png\n",
      "Reading source image /home/haehn/Dropbox/RESEARCH/MITOCHONDRIA/xp1/test/9_source.png\n",
      "Reading target image /home/haehn/Dropbox/RESEARCH/MITOCHONDRIA/xp1/test/9_target.png\n",
      "Reading source mask /home/haehn/Dropbox/RESEARCH/MITOCHONDRIA/xp1/test/9_source_seg.png\n",
      "Reading target mask /home/haehn/Dropbox/RESEARCH/MITOCHONDRIA/xp1/test/9_target_seg.png\n",
      "----------------------------------------\n"
     ]
    },
    {
     "name": "stderr",
     "output_type": "stream",
     "text": [
      "Epoch 1:  55%|█████▍    | 6/11 [00:00<00:00,  6.63it/s]"
     ]
    },
    {
     "name": "stdout",
     "output_type": "stream",
     "text": [
      "using mask!!!\n",
      "using mask!!!\n",
      "using mask!!!\n",
      "using mask!!!\n",
      "using mask!!!\n",
      "using mask!!!\n",
      "using mask!!!\n",
      "using mask!!!\n",
      "using mask!!!\n",
      "using mask!!!\n"
     ]
    },
    {
     "name": "stderr",
     "output_type": "stream",
     "text": [
      "Epoch 1: 100%|██████████| 11/11 [00:00<00:00, 26.92it/s]\n"
     ]
    },
    {
     "name": "stdout",
     "output_type": "stream",
     "text": [
      "using mask!!!\n",
      "Warning: NaN or Inf found in input tensor.\n",
      "Warning: NaN or Inf found in input tensor.\n",
      "using mask!!!\n",
      "using mask!!!\n",
      "using mask!!!\n",
      "using mask!!!\n",
      "using mask!!!\n",
      "using mask!!!\n",
      "using mask!!!\n",
      "using mask!!!\n",
      "using mask!!!\n",
      "using mask!!!\n",
      "using mask!!!\n",
      "using mask!!!\n",
      "using mask!!!\n",
      "using mask!!!\n",
      "using mask!!!\n",
      "using mask!!!\n",
      "using mask!!!\n",
      "using mask!!!\n",
      "using mask!!!\n",
      "using mask!!!\n",
      "using mask!!!\n",
      "using mask!!!\n",
      "using mask!!!\n",
      "using mask!!!\n",
      "using mask!!!\n",
      "using mask!!!\n",
      "using mask!!!\n",
      "using mask!!!\n",
      "using mask!!!\n",
      "using mask!!!\n",
      "using mask!!!\n",
      "using mask!!!\n",
      "using mask!!!\n",
      "using mask!!!\n",
      "using mask!!!\n",
      "using mask!!!\n",
      "using mask!!!\n",
      "using mask!!!\n",
      "using mask!!!\n",
      "using mask!!!\n",
      "using mask!!!\n",
      "using mask!!!\n",
      "using mask!!!\n",
      "using mask!!!\n",
      "using mask!!!\n",
      "using mask!!!\n",
      "using mask!!!\n",
      "using mask!!!\n",
      "using mask!!!\n",
      "using mask!!!\n",
      "using mask!!!\n",
      "using mask!!!\n",
      "using mask!!!\n",
      "using mask!!!\n",
      "using mask!!!\n",
      "using mask!!!\n",
      "using mask!!!\n",
      "using mask!!!\n",
      "using mask!!!\n",
      "using mask!!!\n",
      "Warning: NaN or Inf found in input tensor.\n"
     ]
    },
    {
     "name": "stderr",
     "output_type": "stream",
     "text": [
      "Epoch 2:  55%|█████▍    | 6/11 [00:00<00:00, 51.82it/s]"
     ]
    },
    {
     "name": "stdout",
     "output_type": "stream",
     "text": [
      "Warning: NaN or Inf found in input tensor.\n",
      "----------------------------------------\n",
      "TRAIN\tEpoch: 1\tloss_itn: 18374.920810\tloss_stn_u: 3177.876665\tloss_stn_s: 1742.942938\tloss_stn_i: 16656.672585\tloss_stn_r: 3177.876665\tloss: 1742.942938\tmetric_dice: 0.158217\tmetric_hd: 0.158217\tmetric_asd: 0.158217\tmetric_precision: 1.000000\tmetric_recall: 0.086149\t\n",
      "VALID\tEpoch: 1\tloss_itn: 19665.461361\tloss_stn_u: 3965.155180\tloss_stn_s: 846.215563\tloss_stn_i: 16166.620898\tloss_stn_r: 3965.155180\tloss: 846.215563\tmetric_dice: 0.089774\tmetric_hd: 0.089774\tmetric_asd: 0.089774\tmetric_precision: 1.000000\tmetric_recall: 0.047007\t\n",
      "----------------------------------------\n",
      "using mask!!!\n",
      "using mask!!!\n",
      "using mask!!!\n",
      "using mask!!!\n",
      "using mask!!!\n",
      "using mask!!!\n",
      "using mask!!!\n",
      "using mask!!!\n",
      "using mask!!!\n"
     ]
    },
    {
     "name": "stderr",
     "output_type": "stream",
     "text": [
      "Epoch 2: 100%|██████████| 11/11 [00:00<00:00, 51.26it/s]\n",
      "Epoch 3:   0%|          | 0/11 [00:00<?, ?it/s]"
     ]
    },
    {
     "name": "stdout",
     "output_type": "stream",
     "text": [
      "using mask!!!\n",
      "using mask!!!\n",
      "Warning: NaN or Inf found in input tensor.\n",
      "Warning: NaN or Inf found in input tensor.\n",
      "using mask!!!\n",
      "using mask!!!\n",
      "using mask!!!\n",
      "using mask!!!\n"
     ]
    },
    {
     "name": "stderr",
     "output_type": "stream",
     "text": [
      "Epoch 3: 100%|██████████| 11/11 [00:00<00:00, 50.25it/s]"
     ]
    },
    {
     "name": "stdout",
     "output_type": "stream",
     "text": [
      "using mask!!!\n",
      "using mask!!!\n",
      "using mask!!!\n",
      "using mask!!!\n",
      "using mask!!!\n",
      "using mask!!!\n",
      "using mask!!!\n",
      "Warning: NaN or Inf found in input tensor.\n",
      "Warning: NaN or Inf found in input tensor.\n"
     ]
    },
    {
     "name": "stderr",
     "output_type": "stream",
     "text": [
      "\n",
      "Epoch 4: 100%|██████████| 11/11 [00:00<00:00, 52.23it/s]"
     ]
    },
    {
     "name": "stdout",
     "output_type": "stream",
     "text": [
      "using mask!!!\n",
      "using mask!!!\n",
      "using mask!!!\n",
      "using mask!!!\n",
      "using mask!!!\n",
      "using mask!!!\n",
      "using mask!!!\n",
      "using mask!!!\n",
      "using mask!!!\n",
      "using mask!!!\n",
      "using mask!!!\n"
     ]
    },
    {
     "name": "stderr",
     "output_type": "stream",
     "text": [
      "\n",
      "Epoch 5:  55%|█████▍    | 6/11 [00:00<00:00, 52.96it/s]"
     ]
    },
    {
     "name": "stdout",
     "output_type": "stream",
     "text": [
      "Warning: NaN or Inf found in input tensor.\n",
      "Warning: NaN or Inf found in input tensor.\n",
      "using mask!!!\n",
      "using mask!!!\n",
      "using mask!!!\n",
      "using mask!!!\n",
      "using mask!!!\n",
      "using mask!!!\n",
      "using mask!!!\n"
     ]
    },
    {
     "name": "stderr",
     "output_type": "stream",
     "text": [
      "Epoch 5: 100%|██████████| 11/11 [00:00<00:00, 53.53it/s]\n",
      "Epoch 6:   0%|          | 0/11 [00:00<?, ?it/s]"
     ]
    },
    {
     "name": "stdout",
     "output_type": "stream",
     "text": [
      "using mask!!!\n",
      "using mask!!!\n",
      "using mask!!!\n",
      "using mask!!!\n",
      "Warning: NaN or Inf found in input tensor.\n",
      "Warning: NaN or Inf found in input tensor.\n",
      "using mask!!!\n",
      "using mask!!!\n",
      "using mask!!!\n"
     ]
    },
    {
     "name": "stderr",
     "output_type": "stream",
     "text": [
      "Epoch 6: 100%|██████████| 11/11 [00:00<00:00, 50.15it/s]"
     ]
    },
    {
     "name": "stdout",
     "output_type": "stream",
     "text": [
      "using mask!!!\n",
      "using mask!!!\n",
      "using mask!!!\n",
      "using mask!!!\n",
      "using mask!!!\n",
      "using mask!!!\n",
      "using mask!!!\n",
      "using mask!!!\n",
      "Warning: NaN or Inf found in input tensor.\n"
     ]
    },
    {
     "name": "stderr",
     "output_type": "stream",
     "text": [
      "\n",
      "Epoch 7:  45%|████▌     | 5/11 [00:00<00:00, 46.19it/s]"
     ]
    },
    {
     "name": "stdout",
     "output_type": "stream",
     "text": [
      "Warning: NaN or Inf found in input tensor.\n",
      "using mask!!!\n",
      "using mask!!!\n",
      "using mask!!!\n",
      "using mask!!!\n",
      "using mask!!!\n",
      "using mask!!!\n",
      "using mask!!!\n",
      "using mask!!!\n",
      "using mask!!!\n"
     ]
    },
    {
     "name": "stderr",
     "output_type": "stream",
     "text": [
      "Epoch 7: 100%|██████████| 11/11 [00:00<00:00, 48.41it/s]\n",
      "Epoch 8:   0%|          | 0/11 [00:00<?, ?it/s]"
     ]
    },
    {
     "name": "stdout",
     "output_type": "stream",
     "text": [
      "using mask!!!\n",
      "using mask!!!\n",
      "Warning: NaN or Inf found in input tensor.\n",
      "Warning: NaN or Inf found in input tensor.\n",
      "using mask!!!\n",
      "using mask!!!\n",
      "using mask!!!\n",
      "using mask!!!\n"
     ]
    },
    {
     "name": "stderr",
     "output_type": "stream",
     "text": [
      "Epoch 8: 100%|██████████| 11/11 [00:00<00:00, 48.12it/s]"
     ]
    },
    {
     "name": "stdout",
     "output_type": "stream",
     "text": [
      "using mask!!!\n",
      "using mask!!!\n",
      "using mask!!!\n",
      "using mask!!!\n",
      "using mask!!!\n",
      "using mask!!!\n",
      "using mask!!!\n",
      "Warning: NaN or Inf found in input tensor.\n",
      "Warning: NaN or Inf found in input tensor.\n"
     ]
    },
    {
     "name": "stderr",
     "output_type": "stream",
     "text": [
      "\n",
      "Epoch 9: 100%|██████████| 11/11 [00:00<00:00, 59.87it/s]\n"
     ]
    },
    {
     "name": "stdout",
     "output_type": "stream",
     "text": [
      "using mask!!!\n",
      "using mask!!!\n",
      "using mask!!!\n",
      "using mask!!!\n",
      "using mask!!!\n",
      "using mask!!!\n",
      "using mask!!!\n",
      "using mask!!!\n",
      "using mask!!!\n",
      "using mask!!!\n",
      "using mask!!!\n",
      "Warning: NaN or Inf found in input tensor.\n"
     ]
    },
    {
     "name": "stderr",
     "output_type": "stream",
     "text": [
      "Epoch 10:  55%|█████▍    | 6/11 [00:00<00:00, 52.08it/s]"
     ]
    },
    {
     "name": "stdout",
     "output_type": "stream",
     "text": [
      "Warning: NaN or Inf found in input tensor.\n",
      "using mask!!!\n",
      "using mask!!!\n",
      "using mask!!!\n",
      "using mask!!!\n",
      "using mask!!!\n",
      "using mask!!!\n",
      "using mask!!!\n",
      "using mask!!!\n",
      "using mask!!!\n"
     ]
    },
    {
     "name": "stderr",
     "output_type": "stream",
     "text": [
      "Epoch 10: 100%|██████████| 11/11 [00:00<00:00, 51.66it/s]\n"
     ]
    },
    {
     "name": "stdout",
     "output_type": "stream",
     "text": [
      "using mask!!!\n",
      "using mask!!!\n",
      "Warning: NaN or Inf found in input tensor.\n",
      "Warning: NaN or Inf found in input tensor.\n",
      "using mask!!!\n",
      "using mask!!!\n",
      "using mask!!!\n",
      "using mask!!!\n",
      "using mask!!!\n",
      "using mask!!!\n",
      "using mask!!!\n",
      "using mask!!!\n",
      "using mask!!!\n",
      "using mask!!!\n",
      "using mask!!!\n",
      "using mask!!!\n",
      "using mask!!!\n",
      "using mask!!!\n",
      "using mask!!!\n",
      "using mask!!!\n",
      "using mask!!!\n",
      "using mask!!!\n",
      "using mask!!!\n",
      "using mask!!!\n",
      "using mask!!!\n",
      "using mask!!!\n",
      "using mask!!!\n",
      "using mask!!!\n",
      "using mask!!!\n",
      "using mask!!!\n",
      "using mask!!!\n",
      "using mask!!!\n",
      "using mask!!!\n",
      "using mask!!!\n",
      "using mask!!!\n",
      "using mask!!!\n",
      "using mask!!!\n",
      "using mask!!!\n",
      "using mask!!!\n",
      "using mask!!!\n",
      "using mask!!!\n",
      "using mask!!!\n",
      "using mask!!!\n",
      "using mask!!!\n",
      "using mask!!!\n",
      "using mask!!!\n",
      "using mask!!!\n",
      "using mask!!!\n",
      "using mask!!!\n",
      "using mask!!!\n",
      "using mask!!!\n",
      "using mask!!!\n",
      "using mask!!!\n",
      "using mask!!!\n",
      "using mask!!!\n",
      "using mask!!!\n",
      "using mask!!!\n",
      "using mask!!!\n",
      "using mask!!!\n",
      "using mask!!!\n",
      "using mask!!!\n",
      "using mask!!!\n",
      "using mask!!!\n",
      "using mask!!!\n",
      "Warning: NaN or Inf found in input tensor.\n",
      "Warning: NaN or Inf found in input tensor.\n",
      "----------------------------------------\n",
      "TRAIN\tEpoch: 10\tloss_itn: 18394.179688\tloss_stn_u: 3686.978161\tloss_stn_s: 1364.129838\tloss_stn_i: 15013.924361\tloss_stn_r: 3686.978161\tloss: 1364.129838\tmetric_dice: 0.134067\tmetric_hd: 0.134067\tmetric_asd: 0.134067\tmetric_precision: 1.000000\tmetric_recall: 0.071881\t\n",
      "VALID\tEpoch: 10\tloss_itn: 19665.461361\tloss_stn_u: 3965.156405\tloss_stn_s: 846.215291\tloss_stn_i: 16166.619141\tloss_stn_r: 3965.156405\tloss: 846.215291\tmetric_dice: 0.089774\tmetric_hd: 0.089774\tmetric_asd: 0.089774\tmetric_precision: 1.000000\tmetric_recall: 0.047007\t\n",
      "----------------------------------------\n"
     ]
    },
    {
     "name": "stderr",
     "output_type": "stream",
     "text": [
      "Epoch 11:  55%|█████▍    | 6/11 [00:00<00:00, 50.49it/s]"
     ]
    },
    {
     "name": "stdout",
     "output_type": "stream",
     "text": [
      "using mask!!!\n",
      "using mask!!!\n",
      "using mask!!!\n",
      "using mask!!!\n",
      "using mask!!!\n",
      "using mask!!!\n",
      "using mask!!!\n",
      "using mask!!!\n",
      "using mask!!!\n",
      "using mask!!!\n",
      "using mask!!!\n"
     ]
    },
    {
     "name": "stderr",
     "output_type": "stream",
     "text": [
      "Epoch 11: 100%|██████████| 11/11 [00:00<00:00, 51.47it/s]\n",
      "Epoch 12:  55%|█████▍    | 6/11 [00:00<00:00, 52.75it/s]"
     ]
    },
    {
     "name": "stdout",
     "output_type": "stream",
     "text": [
      "Warning: NaN or Inf found in input tensor.\n",
      "Warning: NaN or Inf found in input tensor.\n",
      "using mask!!!\n",
      "using mask!!!\n",
      "using mask!!!\n",
      "using mask!!!\n",
      "using mask!!!\n",
      "using mask!!!\n",
      "using mask!!!\n",
      "using mask!!!\n"
     ]
    },
    {
     "name": "stderr",
     "output_type": "stream",
     "text": [
      "Epoch 12: 100%|██████████| 11/11 [00:00<00:00, 54.13it/s]\n",
      "Epoch 13:   0%|          | 0/11 [00:00<?, ?it/s]"
     ]
    },
    {
     "name": "stdout",
     "output_type": "stream",
     "text": [
      "using mask!!!\n",
      "using mask!!!\n",
      "using mask!!!\n",
      "Warning: NaN or Inf found in input tensor.\n",
      "Warning: NaN or Inf found in input tensor.\n",
      "using mask!!!\n",
      "using mask!!!\n",
      "using mask!!!\n",
      "using mask!!!\n",
      "using mask!!!\n"
     ]
    },
    {
     "name": "stderr",
     "output_type": "stream",
     "text": [
      "Epoch 13: 100%|██████████| 11/11 [00:00<00:00, 52.81it/s]\n",
      "Epoch 14:   0%|          | 0/11 [00:00<?, ?it/s]"
     ]
    },
    {
     "name": "stdout",
     "output_type": "stream",
     "text": [
      "using mask!!!\n",
      "using mask!!!\n",
      "using mask!!!\n",
      "using mask!!!\n",
      "using mask!!!\n",
      "using mask!!!\n",
      "Warning: NaN or Inf found in input tensor.\n",
      "Warning: NaN or Inf found in input tensor.\n"
     ]
    },
    {
     "name": "stderr",
     "output_type": "stream",
     "text": [
      "Epoch 14: 100%|██████████| 11/11 [00:00<00:00, 52.68it/s]"
     ]
    },
    {
     "name": "stdout",
     "output_type": "stream",
     "text": [
      "using mask!!!\n",
      "using mask!!!\n",
      "using mask!!!\n",
      "using mask!!!\n",
      "using mask!!!\n",
      "using mask!!!\n",
      "using mask!!!\n",
      "using mask!!!\n",
      "using mask!!!\n",
      "using mask!!!\n",
      "using mask!!!\n"
     ]
    },
    {
     "name": "stderr",
     "output_type": "stream",
     "text": [
      "\n",
      "Epoch 15:  45%|████▌     | 5/11 [00:00<00:00, 49.25it/s]"
     ]
    },
    {
     "name": "stdout",
     "output_type": "stream",
     "text": [
      "Warning: NaN or Inf found in input tensor.\n",
      "Warning: NaN or Inf found in input tensor.\n",
      "using mask!!!\n",
      "using mask!!!\n",
      "using mask!!!\n",
      "using mask!!!\n",
      "using mask!!!\n",
      "using mask!!!\n",
      "using mask!!!\n"
     ]
    },
    {
     "name": "stderr",
     "output_type": "stream",
     "text": [
      "Epoch 15: 100%|██████████| 11/11 [00:00<00:00, 50.82it/s]\n",
      "Epoch 16:   0%|          | 0/11 [00:00<?, ?it/s]"
     ]
    },
    {
     "name": "stdout",
     "output_type": "stream",
     "text": [
      "using mask!!!\n",
      "using mask!!!\n",
      "using mask!!!\n",
      "using mask!!!\n",
      "Warning: NaN or Inf found in input tensor.\n",
      "Warning: NaN or Inf found in input tensor.\n",
      "using mask!!!\n",
      "using mask!!!\n",
      "using mask!!!\n"
     ]
    },
    {
     "name": "stderr",
     "output_type": "stream",
     "text": [
      "Epoch 16: 100%|██████████| 11/11 [00:00<00:00, 49.54it/s]"
     ]
    },
    {
     "name": "stdout",
     "output_type": "stream",
     "text": [
      "using mask!!!\n",
      "using mask!!!\n",
      "using mask!!!\n",
      "using mask!!!\n",
      "using mask!!!\n",
      "using mask!!!\n",
      "using mask!!!\n",
      "using mask!!!\n",
      "Warning: NaN or Inf found in input tensor.\n",
      "Warning: NaN or Inf found in input tensor.\n"
     ]
    },
    {
     "name": "stderr",
     "output_type": "stream",
     "text": [
      "\n",
      "Epoch 17:  45%|████▌     | 5/11 [00:00<00:00, 41.81it/s]"
     ]
    },
    {
     "name": "stdout",
     "output_type": "stream",
     "text": [
      "using mask!!!\n",
      "using mask!!!\n",
      "using mask!!!\n",
      "using mask!!!\n",
      "using mask!!!\n",
      "using mask!!!\n",
      "using mask!!!\n",
      "using mask!!!\n",
      "using mask!!!\n",
      "using mask!!!\n"
     ]
    },
    {
     "name": "stderr",
     "output_type": "stream",
     "text": [
      "Epoch 17: 100%|██████████| 11/11 [00:00<00:00, 44.59it/s]\n",
      "Epoch 18:  45%|████▌     | 5/11 [00:00<00:00, 46.59it/s]"
     ]
    },
    {
     "name": "stdout",
     "output_type": "stream",
     "text": [
      "using mask!!!\n",
      "Warning: NaN or Inf found in input tensor.\n",
      "Warning: NaN or Inf found in input tensor.\n",
      "using mask!!!\n",
      "using mask!!!\n",
      "using mask!!!\n",
      "using mask!!!\n",
      "using mask!!!\n",
      "using mask!!!\n"
     ]
    },
    {
     "name": "stderr",
     "output_type": "stream",
     "text": [
      "Epoch 18: 100%|██████████| 11/11 [00:00<00:00, 48.49it/s]\n",
      "Epoch 19:   0%|          | 0/11 [00:00<?, ?it/s]"
     ]
    },
    {
     "name": "stdout",
     "output_type": "stream",
     "text": [
      "using mask!!!\n",
      "using mask!!!\n",
      "using mask!!!\n",
      "using mask!!!\n",
      "using mask!!!\n",
      "Warning: NaN or Inf found in input tensor.\n",
      "Warning: NaN or Inf found in input tensor.\n",
      "using mask!!!\n",
      "using mask!!!\n",
      "using mask!!!\n"
     ]
    },
    {
     "name": "stderr",
     "output_type": "stream",
     "text": [
      "Epoch 19: 100%|██████████| 11/11 [00:00<00:00, 50.14it/s]"
     ]
    },
    {
     "name": "stdout",
     "output_type": "stream",
     "text": [
      "using mask!!!\n",
      "using mask!!!\n",
      "using mask!!!\n",
      "using mask!!!\n",
      "using mask!!!\n",
      "using mask!!!\n",
      "using mask!!!\n",
      "using mask!!!\n",
      "Warning: NaN or Inf found in input tensor.\n",
      "Warning: NaN or Inf found in input tensor.\n"
     ]
    },
    {
     "name": "stderr",
     "output_type": "stream",
     "text": [
      "\n",
      "Epoch 20:  91%|█████████ | 10/11 [00:00<00:00, 46.01it/s]"
     ]
    },
    {
     "name": "stdout",
     "output_type": "stream",
     "text": [
      "using mask!!!\n",
      "using mask!!!\n",
      "using mask!!!\n",
      "using mask!!!\n",
      "using mask!!!\n",
      "using mask!!!\n",
      "using mask!!!\n",
      "using mask!!!\n",
      "using mask!!!\n",
      "using mask!!!\n"
     ]
    },
    {
     "name": "stderr",
     "output_type": "stream",
     "text": [
      "Epoch 20: 100%|██████████| 11/11 [00:00<00:00, 47.78it/s]\n"
     ]
    },
    {
     "name": "stdout",
     "output_type": "stream",
     "text": [
      "using mask!!!\n",
      "Warning: NaN or Inf found in input tensor.\n",
      "Warning: NaN or Inf found in input tensor.\n",
      "using mask!!!\n",
      "using mask!!!\n",
      "using mask!!!\n",
      "using mask!!!\n",
      "using mask!!!\n",
      "using mask!!!\n",
      "using mask!!!\n",
      "using mask!!!\n",
      "using mask!!!\n",
      "using mask!!!\n",
      "using mask!!!\n",
      "using mask!!!\n",
      "using mask!!!\n",
      "using mask!!!\n",
      "using mask!!!\n",
      "using mask!!!\n",
      "using mask!!!\n",
      "using mask!!!\n",
      "using mask!!!\n",
      "using mask!!!\n",
      "using mask!!!\n",
      "using mask!!!\n",
      "using mask!!!\n",
      "using mask!!!\n",
      "using mask!!!\n",
      "using mask!!!\n",
      "using mask!!!\n",
      "using mask!!!\n",
      "using mask!!!\n",
      "using mask!!!\n",
      "using mask!!!\n",
      "using mask!!!\n",
      "using mask!!!\n",
      "using mask!!!\n",
      "using mask!!!\n",
      "using mask!!!\n",
      "using mask!!!\n",
      "using mask!!!\n",
      "using mask!!!\n",
      "using mask!!!\n",
      "using mask!!!\n",
      "using mask!!!\n",
      "using mask!!!\n",
      "using mask!!!\n",
      "using mask!!!\n",
      "using mask!!!\n",
      "using mask!!!\n",
      "using mask!!!\n",
      "using mask!!!\n",
      "using mask!!!\n",
      "using mask!!!\n",
      "using mask!!!\n",
      "using mask!!!\n",
      "using mask!!!\n",
      "using mask!!!\n",
      "using mask!!!\n",
      "using mask!!!\n",
      "using mask!!!\n"
     ]
    },
    {
     "name": "stderr",
     "output_type": "stream",
     "text": [
      "Epoch 21:  55%|█████▍    | 6/11 [00:00<00:00, 52.34it/s]"
     ]
    },
    {
     "name": "stdout",
     "output_type": "stream",
     "text": [
      "using mask!!!\n",
      "using mask!!!\n",
      "Warning: NaN or Inf found in input tensor.\n",
      "Warning: NaN or Inf found in input tensor.\n",
      "----------------------------------------\n",
      "TRAIN\tEpoch: 20\tloss_itn: 18494.549538\tloss_stn_u: 3745.273193\tloss_stn_s: 1280.121826\tloss_stn_i: 15118.468572\tloss_stn_r: 3745.273193\tloss: 1280.121826\tmetric_dice: 0.127885\tmetric_hd: 0.127885\tmetric_asd: 0.127885\tmetric_precision: 1.000000\tmetric_recall: 0.068400\t\n",
      "VALID\tEpoch: 20\tloss_itn: 19665.461361\tloss_stn_u: 3965.156405\tloss_stn_s: 846.215291\tloss_stn_i: 16166.619141\tloss_stn_r: 3965.156405\tloss: 846.215291\tmetric_dice: 0.089774\tmetric_hd: 0.089774\tmetric_asd: 0.089774\tmetric_precision: 1.000000\tmetric_recall: 0.047007\t\n",
      "----------------------------------------\n",
      "using mask!!!\n",
      "using mask!!!\n",
      "using mask!!!\n",
      "using mask!!!\n",
      "using mask!!!\n",
      "using mask!!!\n",
      "using mask!!!\n",
      "using mask!!!\n"
     ]
    },
    {
     "name": "stderr",
     "output_type": "stream",
     "text": [
      "Epoch 21: 100%|██████████| 11/11 [00:00<00:00, 52.93it/s]\n",
      "Epoch 22:   0%|          | 0/11 [00:00<?, ?it/s]"
     ]
    },
    {
     "name": "stdout",
     "output_type": "stream",
     "text": [
      "using mask!!!\n",
      "using mask!!!\n",
      "using mask!!!\n",
      "Warning: NaN or Inf found in input tensor.\n",
      "Warning: NaN or Inf found in input tensor.\n",
      "using mask!!!\n",
      "using mask!!!\n",
      "using mask!!!\n",
      "using mask!!!\n",
      "using mask!!!\n"
     ]
    },
    {
     "name": "stderr",
     "output_type": "stream",
     "text": [
      "Epoch 22: 100%|██████████| 11/11 [00:00<00:00, 50.06it/s]\n",
      "Epoch 23:   0%|          | 0/11 [00:00<?, ?it/s]"
     ]
    },
    {
     "name": "stdout",
     "output_type": "stream",
     "text": [
      "using mask!!!\n",
      "using mask!!!\n",
      "using mask!!!\n",
      "using mask!!!\n",
      "using mask!!!\n",
      "using mask!!!\n",
      "Warning: NaN or Inf found in input tensor.\n",
      "Warning: NaN or Inf found in input tensor.\n",
      "using mask!!!\n"
     ]
    },
    {
     "name": "stderr",
     "output_type": "stream",
     "text": [
      "Epoch 23: 100%|██████████| 11/11 [00:00<00:00, 52.38it/s]"
     ]
    },
    {
     "name": "stdout",
     "output_type": "stream",
     "text": [
      "using mask!!!\n",
      "using mask!!!\n",
      "using mask!!!\n",
      "using mask!!!\n",
      "using mask!!!\n",
      "using mask!!!\n",
      "using mask!!!\n",
      "using mask!!!\n",
      "using mask!!!\n",
      "using mask!!!\n"
     ]
    },
    {
     "name": "stderr",
     "output_type": "stream",
     "text": [
      "\n",
      "Epoch 24:  45%|████▌     | 5/11 [00:00<00:00, 47.22it/s]"
     ]
    },
    {
     "name": "stdout",
     "output_type": "stream",
     "text": [
      "Warning: NaN or Inf found in input tensor.\n",
      "Warning: NaN or Inf found in input tensor.\n",
      "using mask!!!\n",
      "using mask!!!\n",
      "using mask!!!\n",
      "using mask!!!\n",
      "using mask!!!\n",
      "using mask!!!\n",
      "using mask!!!\n",
      "using mask!!!\n"
     ]
    },
    {
     "name": "stderr",
     "output_type": "stream",
     "text": [
      "Epoch 24: 100%|██████████| 11/11 [00:00<00:00, 49.30it/s]\n",
      "Epoch 25:   0%|          | 0/11 [00:00<?, ?it/s]"
     ]
    },
    {
     "name": "stdout",
     "output_type": "stream",
     "text": [
      "using mask!!!\n",
      "using mask!!!\n",
      "using mask!!!\n",
      "Warning: NaN or Inf found in input tensor.\n",
      "Warning: NaN or Inf found in input tensor.\n",
      "using mask!!!\n",
      "using mask!!!\n",
      "using mask!!!\n"
     ]
    },
    {
     "name": "stderr",
     "output_type": "stream",
     "text": [
      "Epoch 25: 100%|██████████| 11/11 [00:00<00:00, 46.43it/s]"
     ]
    },
    {
     "name": "stdout",
     "output_type": "stream",
     "text": [
      "using mask!!!\n",
      "using mask!!!\n",
      "using mask!!!\n",
      "using mask!!!\n",
      "using mask!!!\n",
      "using mask!!!\n",
      "using mask!!!\n",
      "using mask!!!\n",
      "Warning: NaN or Inf found in input tensor.\n"
     ]
    },
    {
     "name": "stderr",
     "output_type": "stream",
     "text": [
      "\n",
      "Epoch 26:  45%|████▌     | 5/11 [00:00<00:00, 45.92it/s]"
     ]
    },
    {
     "name": "stdout",
     "output_type": "stream",
     "text": [
      "Warning: NaN or Inf found in input tensor.\n",
      "using mask!!!\n",
      "using mask!!!\n",
      "using mask!!!\n",
      "using mask!!!\n",
      "using mask!!!\n",
      "using mask!!!\n",
      "using mask!!!\n",
      "using mask!!!\n"
     ]
    },
    {
     "name": "stderr",
     "output_type": "stream",
     "text": [
      "Epoch 26: 100%|██████████| 11/11 [00:00<00:00, 47.95it/s]\n",
      "Epoch 27:   0%|          | 0/11 [00:00<?, ?it/s]"
     ]
    },
    {
     "name": "stdout",
     "output_type": "stream",
     "text": [
      "using mask!!!\n",
      "using mask!!!\n",
      "using mask!!!\n",
      "Warning: NaN or Inf found in input tensor.\n",
      "Warning: NaN or Inf found in input tensor.\n",
      "using mask!!!\n",
      "using mask!!!\n",
      "using mask!!!\n",
      "using mask!!!\n"
     ]
    },
    {
     "name": "stderr",
     "output_type": "stream",
     "text": [
      "Epoch 27: 100%|██████████| 11/11 [00:00<00:00, 49.68it/s]\n",
      "Epoch 28:   0%|          | 0/11 [00:00<?, ?it/s]"
     ]
    },
    {
     "name": "stdout",
     "output_type": "stream",
     "text": [
      "using mask!!!\n",
      "using mask!!!\n",
      "using mask!!!\n",
      "using mask!!!\n",
      "using mask!!!\n",
      "using mask!!!\n",
      "using mask!!!\n",
      "Warning: NaN or Inf found in input tensor.\n",
      "Warning: NaN or Inf found in input tensor.\n"
     ]
    },
    {
     "name": "stderr",
     "output_type": "stream",
     "text": [
      "Epoch 28: 100%|██████████| 11/11 [00:00<00:00, 49.10it/s]"
     ]
    },
    {
     "name": "stdout",
     "output_type": "stream",
     "text": [
      "using mask!!!\n",
      "using mask!!!\n",
      "using mask!!!\n",
      "using mask!!!\n",
      "using mask!!!\n",
      "using mask!!!\n",
      "using mask!!!\n",
      "using mask!!!\n",
      "using mask!!!\n",
      "using mask!!!\n",
      "using mask!!!\n"
     ]
    },
    {
     "name": "stderr",
     "output_type": "stream",
     "text": [
      "\n",
      "Epoch 29:  45%|████▌     | 5/11 [00:00<00:00, 43.81it/s]"
     ]
    },
    {
     "name": "stdout",
     "output_type": "stream",
     "text": [
      "Warning: NaN or Inf found in input tensor.\n",
      "Warning: NaN or Inf found in input tensor.\n",
      "using mask!!!\n",
      "using mask!!!\n",
      "using mask!!!\n",
      "using mask!!!\n",
      "using mask!!!\n",
      "using mask!!!\n",
      "using mask!!!\n"
     ]
    },
    {
     "name": "stderr",
     "output_type": "stream",
     "text": [
      "Epoch 29: 100%|██████████| 11/11 [00:00<00:00, 47.83it/s]\n",
      "Epoch 30:   0%|          | 0/11 [00:00<?, ?it/s]"
     ]
    },
    {
     "name": "stdout",
     "output_type": "stream",
     "text": [
      "using mask!!!\n",
      "using mask!!!\n",
      "using mask!!!\n",
      "using mask!!!\n",
      "Warning: NaN or Inf found in input tensor.\n",
      "Warning: NaN or Inf found in input tensor.\n",
      "using mask!!!\n",
      "using mask!!!\n",
      "using mask!!!\n"
     ]
    },
    {
     "name": "stderr",
     "output_type": "stream",
     "text": [
      "Epoch 30: 100%|██████████| 11/11 [00:00<00:00, 52.34it/s]"
     ]
    },
    {
     "name": "stdout",
     "output_type": "stream",
     "text": [
      "using mask!!!\n",
      "using mask!!!\n",
      "using mask!!!\n",
      "using mask!!!\n",
      "using mask!!!\n",
      "using mask!!!\n",
      "using mask!!!\n",
      "using mask!!!\n",
      "Warning: NaN or Inf found in input tensor.\n",
      "Warning: NaN or Inf found in input tensor.\n"
     ]
    },
    {
     "name": "stderr",
     "output_type": "stream",
     "text": [
      "\n"
     ]
    },
    {
     "name": "stdout",
     "output_type": "stream",
     "text": [
      "using mask!!!\n",
      "using mask!!!\n",
      "using mask!!!\n",
      "using mask!!!\n",
      "using mask!!!\n",
      "using mask!!!\n",
      "using mask!!!\n",
      "using mask!!!\n",
      "using mask!!!\n",
      "using mask!!!\n",
      "using mask!!!\n",
      "using mask!!!\n",
      "using mask!!!\n",
      "using mask!!!\n",
      "using mask!!!\n",
      "using mask!!!\n",
      "using mask!!!\n",
      "using mask!!!\n",
      "using mask!!!\n",
      "using mask!!!\n",
      "using mask!!!\n",
      "using mask!!!\n",
      "using mask!!!\n",
      "using mask!!!\n",
      "using mask!!!\n",
      "using mask!!!\n",
      "using mask!!!\n",
      "using mask!!!\n",
      "using mask!!!\n",
      "using mask!!!\n",
      "using mask!!!\n",
      "using mask!!!\n",
      "using mask!!!\n",
      "using mask!!!\n"
     ]
    },
    {
     "name": "stderr",
     "output_type": "stream",
     "text": [
      "\r",
      "Epoch 31:   0%|          | 0/11 [00:00<?, ?it/s]"
     ]
    },
    {
     "name": "stdout",
     "output_type": "stream",
     "text": [
      "using mask!!!\n",
      "using mask!!!\n",
      "using mask!!!\n",
      "using mask!!!\n",
      "using mask!!!\n",
      "using mask!!!\n",
      "using mask!!!\n",
      "using mask!!!\n",
      "using mask!!!\n",
      "using mask!!!\n",
      "using mask!!!\n",
      "using mask!!!\n",
      "using mask!!!\n",
      "using mask!!!\n",
      "using mask!!!\n",
      "using mask!!!\n",
      "using mask!!!\n",
      "using mask!!!\n",
      "using mask!!!\n",
      "using mask!!!\n",
      "using mask!!!\n",
      "using mask!!!\n",
      "using mask!!!\n",
      "using mask!!!\n",
      "using mask!!!\n",
      "using mask!!!\n",
      "Warning: NaN or Inf found in input tensor.\n",
      "Warning: NaN or Inf found in input tensor.\n",
      "----------------------------------------\n",
      "TRAIN\tEpoch: 30\tloss_itn: 18494.549361\tloss_stn_u: 3745.273260\tloss_stn_s: 1280.121804\tloss_stn_i: 15118.468306\tloss_stn_r: 3745.273260\tloss: 1280.121804\tmetric_dice: 0.127912\tmetric_hd: 0.127912\tmetric_asd: 0.127912\tmetric_precision: 1.000000\tmetric_recall: 0.068400\t\n",
      "VALID\tEpoch: 30\tloss_itn: 19665.461361\tloss_stn_u: 3965.156405\tloss_stn_s: 846.215291\tloss_stn_i: 16166.619141\tloss_stn_r: 3965.156405\tloss: 846.215291\tmetric_dice: 0.089774\tmetric_hd: 0.089774\tmetric_asd: 0.089774\tmetric_precision: 1.000000\tmetric_recall: 0.047007\t\n",
      "----------------------------------------\n",
      "using mask!!!\n"
     ]
    },
    {
     "name": "stderr",
     "output_type": "stream",
     "text": [
      "Epoch 31: 100%|██████████| 11/11 [00:00<00:00, 38.89it/s]"
     ]
    },
    {
     "name": "stdout",
     "output_type": "stream",
     "text": [
      "using mask!!!\n",
      "using mask!!!\n",
      "using mask!!!\n",
      "using mask!!!\n",
      "using mask!!!\n",
      "using mask!!!\n",
      "using mask!!!\n",
      "using mask!!!\n",
      "using mask!!!\n",
      "using mask!!!\n"
     ]
    },
    {
     "name": "stderr",
     "output_type": "stream",
     "text": [
      "\n",
      "Epoch 32:  55%|█████▍    | 6/11 [00:00<00:00, 52.43it/s]"
     ]
    },
    {
     "name": "stdout",
     "output_type": "stream",
     "text": [
      "Warning: NaN or Inf found in input tensor.\n",
      "Warning: NaN or Inf found in input tensor.\n",
      "using mask!!!\n",
      "using mask!!!\n",
      "using mask!!!\n",
      "using mask!!!\n",
      "using mask!!!\n",
      "using mask!!!\n",
      "using mask!!!\n",
      "using mask!!!\n"
     ]
    },
    {
     "name": "stderr",
     "output_type": "stream",
     "text": [
      "Epoch 32: 100%|██████████| 11/11 [00:00<00:00, 54.07it/s]\n",
      "Epoch 33:   0%|          | 0/11 [00:00<?, ?it/s]"
     ]
    },
    {
     "name": "stdout",
     "output_type": "stream",
     "text": [
      "using mask!!!\n",
      "using mask!!!\n",
      "using mask!!!\n",
      "Warning: NaN or Inf found in input tensor.\n",
      "Warning: NaN or Inf found in input tensor.\n",
      "using mask!!!\n",
      "using mask!!!\n",
      "using mask!!!\n",
      "using mask!!!\n"
     ]
    },
    {
     "name": "stderr",
     "output_type": "stream",
     "text": [
      "Epoch 33: 100%|██████████| 11/11 [00:00<00:00, 47.04it/s]\n",
      "Epoch 34:   0%|          | 0/11 [00:00<?, ?it/s]"
     ]
    },
    {
     "name": "stdout",
     "output_type": "stream",
     "text": [
      "using mask!!!\n",
      "using mask!!!\n",
      "using mask!!!\n",
      "using mask!!!\n",
      "using mask!!!\n",
      "using mask!!!\n",
      "using mask!!!\n",
      "Warning: NaN or Inf found in input tensor.\n",
      "Warning: NaN or Inf found in input tensor.\n"
     ]
    },
    {
     "name": "stderr",
     "output_type": "stream",
     "text": [
      "\r",
      "Epoch 34:  45%|████▌     | 5/11 [00:00<00:00, 48.09it/s]"
     ]
    },
    {
     "name": "stdout",
     "output_type": "stream",
     "text": [
      "using mask!!!\n",
      "using mask!!!\n",
      "using mask!!!\n",
      "using mask!!!\n",
      "using mask!!!\n",
      "using mask!!!\n",
      "using mask!!!\n",
      "using mask!!!\n",
      "using mask!!!\n",
      "using mask!!!\n",
      "using mask!!!\n"
     ]
    },
    {
     "name": "stderr",
     "output_type": "stream",
     "text": [
      "Epoch 34: 100%|██████████| 11/11 [00:00<00:00, 49.28it/s]\n",
      "Epoch 35:  45%|████▌     | 5/11 [00:00<00:00, 48.84it/s]"
     ]
    },
    {
     "name": "stdout",
     "output_type": "stream",
     "text": [
      "Warning: NaN or Inf found in input tensor.\n",
      "Warning: NaN or Inf found in input tensor.\n",
      "using mask!!!\n",
      "using mask!!!\n",
      "using mask!!!\n",
      "using mask!!!\n",
      "using mask!!!\n",
      "using mask!!!\n",
      "using mask!!!\n",
      "using mask!!!\n"
     ]
    },
    {
     "name": "stderr",
     "output_type": "stream",
     "text": [
      "Epoch 35: 100%|██████████| 11/11 [00:00<00:00, 51.34it/s]\n",
      "Epoch 36:   0%|          | 0/11 [00:00<?, ?it/s]"
     ]
    },
    {
     "name": "stdout",
     "output_type": "stream",
     "text": [
      "using mask!!!\n",
      "using mask!!!\n",
      "using mask!!!\n",
      "Warning: NaN or Inf found in input tensor.\n",
      "Warning: NaN or Inf found in input tensor.\n",
      "using mask!!!\n",
      "using mask!!!\n",
      "using mask!!!\n",
      "using mask!!!\n",
      "using mask!!!\n"
     ]
    },
    {
     "name": "stderr",
     "output_type": "stream",
     "text": [
      "Epoch 36: 100%|██████████| 11/11 [00:00<00:00, 53.16it/s]\n",
      "Epoch 37:   0%|          | 0/11 [00:00<?, ?it/s]"
     ]
    },
    {
     "name": "stdout",
     "output_type": "stream",
     "text": [
      "using mask!!!\n",
      "using mask!!!\n",
      "using mask!!!\n",
      "using mask!!!\n",
      "using mask!!!\n",
      "using mask!!!\n",
      "Warning: NaN or Inf found in input tensor.\n",
      "Warning: NaN or Inf found in input tensor.\n",
      "using mask!!!\n",
      "using mask!!!\n"
     ]
    },
    {
     "name": "stderr",
     "output_type": "stream",
     "text": [
      "Epoch 37: 100%|██████████| 11/11 [00:00<00:00, 49.88it/s]"
     ]
    },
    {
     "name": "stdout",
     "output_type": "stream",
     "text": [
      "using mask!!!\n",
      "using mask!!!\n",
      "using mask!!!\n",
      "using mask!!!\n",
      "using mask!!!\n",
      "using mask!!!\n",
      "using mask!!!\n",
      "using mask!!!\n",
      "using mask!!!\n",
      "Warning: NaN or Inf found in input tensor.\n"
     ]
    },
    {
     "name": "stderr",
     "output_type": "stream",
     "text": [
      "\n",
      "Epoch 38:  45%|████▌     | 5/11 [00:00<00:00, 49.47it/s]"
     ]
    },
    {
     "name": "stdout",
     "output_type": "stream",
     "text": [
      "Warning: NaN or Inf found in input tensor.\n",
      "using mask!!!\n",
      "using mask!!!\n",
      "using mask!!!\n",
      "using mask!!!\n",
      "using mask!!!\n",
      "using mask!!!\n",
      "using mask!!!\n",
      "using mask!!!\n",
      "using mask!!!\n"
     ]
    },
    {
     "name": "stderr",
     "output_type": "stream",
     "text": [
      "Epoch 38: 100%|██████████| 11/11 [00:00<00:00, 49.63it/s]\n",
      "Epoch 39:   0%|          | 0/11 [00:00<?, ?it/s]"
     ]
    },
    {
     "name": "stdout",
     "output_type": "stream",
     "text": [
      "using mask!!!\n",
      "using mask!!!\n",
      "Warning: NaN or Inf found in input tensor.\n",
      "Warning: NaN or Inf found in input tensor.\n",
      "using mask!!!\n",
      "using mask!!!\n",
      "using mask!!!\n",
      "using mask!!!\n",
      "using mask!!!\n",
      "using mask!!!\n",
      "using mask!!!\n"
     ]
    },
    {
     "name": "stderr",
     "output_type": "stream",
     "text": [
      "Epoch 39: 100%|██████████| 11/11 [00:00<00:00, 78.50it/s]\n",
      "Epoch 40:   0%|          | 0/11 [00:00<?, ?it/s]"
     ]
    },
    {
     "name": "stdout",
     "output_type": "stream",
     "text": [
      "using mask!!!\n",
      "using mask!!!\n",
      "using mask!!!\n",
      "using mask!!!\n",
      "Warning: NaN or Inf found in input tensor.\n",
      "Warning: NaN or Inf found in input tensor.\n",
      "using mask!!!\n",
      "using mask!!!\n",
      "using mask!!!\n",
      "using mask!!!\n",
      "using mask!!!\n"
     ]
    },
    {
     "name": "stderr",
     "output_type": "stream",
     "text": [
      "Epoch 40: 100%|██████████| 11/11 [00:00<00:00, 51.28it/s]"
     ]
    },
    {
     "name": "stdout",
     "output_type": "stream",
     "text": [
      "using mask!!!\n",
      "using mask!!!\n",
      "using mask!!!\n",
      "using mask!!!\n",
      "using mask!!!\n",
      "using mask!!!\n",
      "Warning: NaN or Inf found in input tensor.\n",
      "Warning: NaN or Inf found in input tensor.\n",
      "using mask!!!\n",
      "using mask!!!\n",
      "using mask!!!\n"
     ]
    },
    {
     "name": "stderr",
     "output_type": "stream",
     "text": [
      "\n"
     ]
    },
    {
     "name": "stdout",
     "output_type": "stream",
     "text": [
      "using mask!!!\n",
      "using mask!!!\n",
      "using mask!!!\n",
      "using mask!!!\n",
      "using mask!!!\n",
      "using mask!!!\n",
      "using mask!!!\n",
      "using mask!!!\n",
      "using mask!!!\n",
      "using mask!!!\n",
      "using mask!!!\n",
      "using mask!!!\n",
      "using mask!!!\n",
      "using mask!!!\n",
      "using mask!!!\n",
      "using mask!!!\n",
      "using mask!!!\n",
      "using mask!!!\n",
      "using mask!!!\n",
      "using mask!!!\n",
      "using mask!!!\n",
      "using mask!!!\n",
      "using mask!!!\n",
      "using mask!!!\n",
      "using mask!!!\n",
      "using mask!!!\n",
      "using mask!!!\n",
      "using mask!!!\n",
      "using mask!!!\n",
      "using mask!!!\n",
      "using mask!!!\n",
      "using mask!!!\n",
      "using mask!!!\n",
      "using mask!!!\n",
      "using mask!!!\n",
      "using mask!!!\n"
     ]
    },
    {
     "name": "stderr",
     "output_type": "stream",
     "text": [
      "\r",
      "Epoch 41:   0%|          | 0/11 [00:00<?, ?it/s]"
     ]
    },
    {
     "name": "stdout",
     "output_type": "stream",
     "text": [
      "using mask!!!\n",
      "using mask!!!\n",
      "using mask!!!\n",
      "using mask!!!\n",
      "using mask!!!\n",
      "using mask!!!\n",
      "using mask!!!\n",
      "using mask!!!\n",
      "using mask!!!\n",
      "using mask!!!\n",
      "using mask!!!\n",
      "using mask!!!\n",
      "using mask!!!\n",
      "using mask!!!\n",
      "using mask!!!\n",
      "using mask!!!\n",
      "using mask!!!\n",
      "using mask!!!\n",
      "using mask!!!\n",
      "using mask!!!\n",
      "using mask!!!\n",
      "Warning: NaN or Inf found in input tensor.\n",
      "Warning: NaN or Inf found in input tensor.\n",
      "----------------------------------------\n",
      "TRAIN\tEpoch: 40\tloss_itn: 18504.175959\tloss_stn_u: 3689.791215\tloss_stn_s: 1276.387018\tloss_stn_i: 15122.842330\tloss_stn_r: 3689.791215\tloss: 1276.387018\tmetric_dice: 0.127844\tmetric_hd: 0.127844\tmetric_asd: 0.127844\tmetric_precision: 1.000000\tmetric_recall: 0.068365\t\n",
      "VALID\tEpoch: 40\tloss_itn: 19665.461361\tloss_stn_u: 3965.156405\tloss_stn_s: 846.215291\tloss_stn_i: 16166.619141\tloss_stn_r: 3965.156405\tloss: 846.215291\tmetric_dice: 0.089774\tmetric_hd: 0.089774\tmetric_asd: 0.089774\tmetric_precision: 1.000000\tmetric_recall: 0.047007\t\n",
      "----------------------------------------\n",
      "using mask!!!\n",
      "using mask!!!\n"
     ]
    },
    {
     "name": "stderr",
     "output_type": "stream",
     "text": [
      "Epoch 41: 100%|██████████| 11/11 [00:00<00:00, 54.33it/s]"
     ]
    },
    {
     "name": "stdout",
     "output_type": "stream",
     "text": [
      "using mask!!!\n",
      "using mask!!!\n",
      "using mask!!!\n",
      "using mask!!!\n",
      "using mask!!!\n",
      "using mask!!!\n",
      "using mask!!!\n",
      "using mask!!!\n",
      "using mask!!!\n",
      "Warning: NaN or Inf found in input tensor.\n",
      "Warning: NaN or Inf found in input tensor.\n"
     ]
    },
    {
     "name": "stderr",
     "output_type": "stream",
     "text": [
      "\n",
      "Epoch 42:  45%|████▌     | 5/11 [00:00<00:00, 49.12it/s]"
     ]
    },
    {
     "name": "stdout",
     "output_type": "stream",
     "text": [
      "using mask!!!\n",
      "using mask!!!\n",
      "using mask!!!\n",
      "using mask!!!\n",
      "using mask!!!\n",
      "using mask!!!\n",
      "using mask!!!\n",
      "using mask!!!\n",
      "using mask!!!\n",
      "using mask!!!\n",
      "using mask!!!\n"
     ]
    },
    {
     "name": "stderr",
     "output_type": "stream",
     "text": [
      "Epoch 42: 100%|██████████| 11/11 [00:00<00:00, 50.19it/s]\n",
      "Epoch 43: 100%|██████████| 11/11 [00:00<00:00, 73.05it/s]"
     ]
    },
    {
     "name": "stdout",
     "output_type": "stream",
     "text": [
      "Warning: NaN or Inf found in input tensor.\n",
      "Warning: NaN or Inf found in input tensor.\n",
      "using mask!!!\n",
      "using mask!!!\n",
      "using mask!!!\n",
      "using mask!!!\n",
      "using mask!!!\n",
      "using mask!!!\n",
      "using mask!!!\n",
      "using mask!!!\n",
      "using mask!!!\n",
      "using mask!!!\n",
      "using mask!!!\n"
     ]
    },
    {
     "name": "stderr",
     "output_type": "stream",
     "text": [
      "\n",
      "Epoch 44:  64%|██████▎   | 7/11 [00:00<00:00, 60.10it/s]"
     ]
    },
    {
     "name": "stdout",
     "output_type": "stream",
     "text": [
      "Warning: NaN or Inf found in input tensor.\n",
      "Warning: NaN or Inf found in input tensor.\n",
      "using mask!!!\n",
      "using mask!!!\n",
      "using mask!!!\n",
      "using mask!!!\n",
      "using mask!!!\n",
      "using mask!!!\n",
      "using mask!!!\n",
      "using mask!!!\n",
      "using mask!!!\n",
      "using mask!!!\n",
      "using mask!!!\n"
     ]
    },
    {
     "name": "stderr",
     "output_type": "stream",
     "text": [
      "Epoch 44: 100%|██████████| 11/11 [00:00<00:00, 64.87it/s]\n",
      "Epoch 45:  64%|██████▎   | 7/11 [00:00<00:00, 65.80it/s]"
     ]
    },
    {
     "name": "stdout",
     "output_type": "stream",
     "text": [
      "Warning: NaN or Inf found in input tensor.\n",
      "Warning: NaN or Inf found in input tensor.\n",
      "using mask!!!\n",
      "using mask!!!\n",
      "using mask!!!\n",
      "using mask!!!\n",
      "using mask!!!\n",
      "using mask!!!\n",
      "using mask!!!\n",
      "using mask!!!\n",
      "using mask!!!\n",
      "using mask!!!\n"
     ]
    },
    {
     "name": "stderr",
     "output_type": "stream",
     "text": [
      "Epoch 45: 100%|██████████| 11/11 [00:00<00:00, 61.68it/s]\n",
      "Epoch 46:   0%|          | 0/11 [00:00<?, ?it/s]"
     ]
    },
    {
     "name": "stdout",
     "output_type": "stream",
     "text": [
      "using mask!!!\n",
      "Warning: NaN or Inf found in input tensor.\n",
      "Warning: NaN or Inf found in input tensor.\n",
      "using mask!!!\n",
      "using mask!!!\n",
      "using mask!!!\n",
      "using mask!!!\n"
     ]
    },
    {
     "name": "stderr",
     "output_type": "stream",
     "text": [
      "Epoch 46: 100%|██████████| 11/11 [00:00<00:00, 47.72it/s]\n",
      "Epoch 47:   0%|          | 0/11 [00:00<?, ?it/s]"
     ]
    },
    {
     "name": "stdout",
     "output_type": "stream",
     "text": [
      "using mask!!!\n",
      "using mask!!!\n",
      "using mask!!!\n",
      "using mask!!!\n",
      "using mask!!!\n",
      "using mask!!!\n",
      "using mask!!!\n",
      "Warning: NaN or Inf found in input tensor.\n",
      "Warning: NaN or Inf found in input tensor.\n",
      "using mask!!!\n"
     ]
    },
    {
     "name": "stderr",
     "output_type": "stream",
     "text": [
      "Epoch 47: 100%|██████████| 11/11 [00:00<00:00, 57.50it/s]"
     ]
    },
    {
     "name": "stdout",
     "output_type": "stream",
     "text": [
      "using mask!!!\n",
      "using mask!!!\n",
      "using mask!!!\n",
      "using mask!!!\n",
      "using mask!!!\n",
      "using mask!!!\n",
      "using mask!!!\n",
      "using mask!!!\n",
      "using mask!!!\n",
      "using mask!!!\n",
      "Warning: NaN or Inf found in input tensor.\n",
      "Warning: NaN or Inf found in input tensor.\n"
     ]
    },
    {
     "name": "stderr",
     "output_type": "stream",
     "text": [
      "\n",
      "Epoch 48: 100%|██████████| 11/11 [00:00<00:00, 56.15it/s]"
     ]
    },
    {
     "name": "stdout",
     "output_type": "stream",
     "text": [
      "using mask!!!\n",
      "using mask!!!\n",
      "using mask!!!\n",
      "using mask!!!\n",
      "using mask!!!\n",
      "using mask!!!\n",
      "using mask!!!\n",
      "using mask!!!\n",
      "using mask!!!\n",
      "using mask!!!\n",
      "using mask!!!\n"
     ]
    },
    {
     "name": "stderr",
     "output_type": "stream",
     "text": [
      "\n",
      "Epoch 49:  55%|█████▍    | 6/11 [00:00<00:00, 50.28it/s]"
     ]
    },
    {
     "name": "stdout",
     "output_type": "stream",
     "text": [
      "Warning: NaN or Inf found in input tensor.\n",
      "Warning: NaN or Inf found in input tensor.\n",
      "using mask!!!\n",
      "using mask!!!\n",
      "using mask!!!\n",
      "using mask!!!\n",
      "using mask!!!\n",
      "using mask!!!\n",
      "using mask!!!\n",
      "using mask!!!\n"
     ]
    },
    {
     "name": "stderr",
     "output_type": "stream",
     "text": [
      "Epoch 49: 100%|██████████| 11/11 [00:00<00:00, 52.32it/s]\n",
      "Epoch 50:   0%|          | 0/11 [00:00<?, ?it/s]"
     ]
    },
    {
     "name": "stdout",
     "output_type": "stream",
     "text": [
      "using mask!!!\n",
      "using mask!!!\n",
      "using mask!!!\n",
      "Warning: NaN or Inf found in input tensor.\n",
      "Warning: NaN or Inf found in input tensor.\n",
      "using mask!!!\n",
      "using mask!!!\n",
      "using mask!!!\n",
      "using mask!!!\n",
      "using mask!!!\n",
      "using mask!!!\n",
      "using mask!!!\n"
     ]
    },
    {
     "name": "stderr",
     "output_type": "stream",
     "text": [
      "Epoch 50: 100%|██████████| 11/11 [00:00<00:00, 64.55it/s]"
     ]
    },
    {
     "name": "stdout",
     "output_type": "stream",
     "text": [
      "using mask!!!\n",
      "using mask!!!\n",
      "using mask!!!\n",
      "using mask!!!\n",
      "Warning: NaN or Inf found in input tensor.\n",
      "Warning: NaN or Inf found in input tensor.\n",
      "using mask!!!\n",
      "using mask!!!\n",
      "using mask!!!\n",
      "using mask!!!\n",
      "using mask!!!\n",
      "using mask!!!\n",
      "using mask!!!\n",
      "using mask!!!\n"
     ]
    },
    {
     "name": "stderr",
     "output_type": "stream",
     "text": [
      "\n"
     ]
    },
    {
     "name": "stdout",
     "output_type": "stream",
     "text": [
      "using mask!!!\n",
      "using mask!!!\n",
      "using mask!!!\n",
      "using mask!!!\n",
      "using mask!!!\n",
      "using mask!!!\n",
      "using mask!!!\n",
      "using mask!!!\n",
      "using mask!!!\n",
      "using mask!!!\n",
      "using mask!!!\n",
      "using mask!!!\n",
      "using mask!!!\n",
      "using mask!!!\n",
      "using mask!!!\n",
      "using mask!!!\n",
      "using mask!!!\n",
      "using mask!!!\n",
      "using mask!!!\n",
      "using mask!!!\n",
      "using mask!!!\n",
      "using mask!!!\n",
      "using mask!!!\n",
      "using mask!!!\n",
      "using mask!!!\n",
      "using mask!!!\n",
      "using mask!!!\n",
      "using mask!!!\n",
      "using mask!!!\n",
      "using mask!!!\n",
      "using mask!!!\n",
      "using mask!!!\n"
     ]
    },
    {
     "name": "stderr",
     "output_type": "stream",
     "text": [
      "\r",
      "Epoch 51:   0%|          | 0/11 [00:00<?, ?it/s]"
     ]
    },
    {
     "name": "stdout",
     "output_type": "stream",
     "text": [
      "using mask!!!\n",
      "using mask!!!\n",
      "using mask!!!\n",
      "using mask!!!\n",
      "using mask!!!\n",
      "using mask!!!\n",
      "using mask!!!\n",
      "using mask!!!\n",
      "using mask!!!\n",
      "using mask!!!\n",
      "using mask!!!\n",
      "using mask!!!\n",
      "using mask!!!\n",
      "using mask!!!\n",
      "using mask!!!\n",
      "using mask!!!\n",
      "using mask!!!\n",
      "using mask!!!\n",
      "using mask!!!\n",
      "using mask!!!\n",
      "Warning: NaN or Inf found in input tensor.\n",
      "Warning: NaN or Inf found in input tensor.\n",
      "----------------------------------------\n",
      "TRAIN\tEpoch: 50\tloss_itn: 18396.442294\tloss_stn_u: 3670.450173\tloss_stn_s: 1356.534213\tloss_stn_i: 15017.616655\tloss_stn_r: 3670.450173\tloss: 1356.534213\tmetric_dice: 0.133671\tmetric_hd: 0.133671\tmetric_asd: 0.133671\tmetric_precision: 1.000000\tmetric_recall: 0.071661\t\n",
      "VALID\tEpoch: 50\tloss_itn: 19665.461361\tloss_stn_u: 3965.156405\tloss_stn_s: 846.215291\tloss_stn_i: 16166.619141\tloss_stn_r: 3965.156405\tloss: 846.215291\tmetric_dice: 0.089774\tmetric_hd: 0.089774\tmetric_asd: 0.089774\tmetric_precision: 1.000000\tmetric_recall: 0.047007\t\n",
      "----------------------------------------\n",
      "using mask!!!\n",
      "using mask!!!\n"
     ]
    },
    {
     "name": "stderr",
     "output_type": "stream",
     "text": [
      "Epoch 51: 100%|██████████| 11/11 [00:00<00:00, 46.47it/s]"
     ]
    },
    {
     "name": "stdout",
     "output_type": "stream",
     "text": [
      "using mask!!!\n",
      "using mask!!!\n",
      "using mask!!!\n",
      "using mask!!!\n",
      "using mask!!!\n",
      "using mask!!!\n",
      "using mask!!!\n",
      "using mask!!!\n",
      "using mask!!!\n",
      "Warning: NaN or Inf found in input tensor.\n"
     ]
    },
    {
     "name": "stderr",
     "output_type": "stream",
     "text": [
      "\n",
      "Epoch 52:  45%|████▌     | 5/11 [00:00<00:00, 46.85it/s]"
     ]
    },
    {
     "name": "stdout",
     "output_type": "stream",
     "text": [
      "Warning: NaN or Inf found in input tensor.\n",
      "using mask!!!\n",
      "using mask!!!\n",
      "using mask!!!\n",
      "using mask!!!\n",
      "using mask!!!\n",
      "using mask!!!\n",
      "using mask!!!\n",
      "using mask!!!\n",
      "using mask!!!\n"
     ]
    },
    {
     "name": "stderr",
     "output_type": "stream",
     "text": [
      "Epoch 52: 100%|██████████| 11/11 [00:00<00:00, 49.06it/s]\n",
      "Epoch 53:   0%|          | 0/11 [00:00<?, ?it/s]"
     ]
    },
    {
     "name": "stdout",
     "output_type": "stream",
     "text": [
      "using mask!!!\n",
      "using mask!!!\n",
      "Warning: NaN or Inf found in input tensor.\n",
      "Warning: NaN or Inf found in input tensor.\n",
      "using mask!!!\n",
      "using mask!!!\n",
      "using mask!!!\n",
      "using mask!!!\n",
      "using mask!!!\n"
     ]
    },
    {
     "name": "stderr",
     "output_type": "stream",
     "text": [
      "Epoch 53: 100%|██████████| 11/11 [00:00<00:00, 47.63it/s]\n",
      "Epoch 54:   0%|          | 0/11 [00:00<?, ?it/s]"
     ]
    },
    {
     "name": "stdout",
     "output_type": "stream",
     "text": [
      "using mask!!!\n",
      "using mask!!!\n",
      "using mask!!!\n",
      "using mask!!!\n",
      "using mask!!!\n",
      "using mask!!!\n",
      "Warning: NaN or Inf found in input tensor.\n",
      "Warning: NaN or Inf found in input tensor.\n",
      "using mask!!!\n"
     ]
    },
    {
     "name": "stderr",
     "output_type": "stream",
     "text": [
      "Epoch 54: 100%|██████████| 11/11 [00:00<00:00, 46.85it/s]"
     ]
    },
    {
     "name": "stdout",
     "output_type": "stream",
     "text": [
      "using mask!!!\n",
      "using mask!!!\n",
      "using mask!!!\n",
      "using mask!!!\n",
      "using mask!!!\n",
      "using mask!!!\n",
      "using mask!!!\n",
      "using mask!!!\n",
      "using mask!!!\n",
      "using mask!!!\n"
     ]
    },
    {
     "name": "stderr",
     "output_type": "stream",
     "text": [
      "\n",
      "Epoch 55:  45%|████▌     | 5/11 [00:00<00:00, 49.12it/s]"
     ]
    },
    {
     "name": "stdout",
     "output_type": "stream",
     "text": [
      "Warning: NaN or Inf found in input tensor.\n",
      "Warning: NaN or Inf found in input tensor.\n",
      "using mask!!!\n",
      "using mask!!!\n",
      "using mask!!!\n",
      "using mask!!!\n",
      "using mask!!!\n",
      "using mask!!!\n",
      "using mask!!!\n",
      "using mask!!!\n"
     ]
    },
    {
     "name": "stderr",
     "output_type": "stream",
     "text": [
      "Epoch 55: 100%|██████████| 11/11 [00:00<00:00, 50.61it/s]\n",
      "Epoch 56:   0%|          | 0/11 [00:00<?, ?it/s]"
     ]
    },
    {
     "name": "stdout",
     "output_type": "stream",
     "text": [
      "using mask!!!\n",
      "using mask!!!\n",
      "using mask!!!\n",
      "Warning: NaN or Inf found in input tensor.\n",
      "Warning: NaN or Inf found in input tensor.\n",
      "using mask!!!\n",
      "using mask!!!\n",
      "using mask!!!\n",
      "using mask!!!\n"
     ]
    },
    {
     "name": "stderr",
     "output_type": "stream",
     "text": [
      "Epoch 56: 100%|██████████| 11/11 [00:00<00:00, 67.01it/s]\n",
      "Epoch 57:   0%|          | 0/11 [00:00<?, ?it/s]"
     ]
    },
    {
     "name": "stdout",
     "output_type": "stream",
     "text": [
      "using mask!!!\n",
      "using mask!!!\n",
      "using mask!!!\n",
      "using mask!!!\n",
      "using mask!!!\n",
      "using mask!!!\n",
      "using mask!!!\n",
      "Warning: NaN or Inf found in input tensor.\n",
      "Warning: NaN or Inf found in input tensor.\n",
      "using mask!!!\n",
      "using mask!!!\n",
      "using mask!!!\n"
     ]
    },
    {
     "name": "stderr",
     "output_type": "stream",
     "text": [
      "Epoch 57: 100%|██████████| 11/11 [00:00<00:00, 48.34it/s]"
     ]
    },
    {
     "name": "stdout",
     "output_type": "stream",
     "text": [
      "using mask!!!\n",
      "using mask!!!\n",
      "using mask!!!\n",
      "using mask!!!\n",
      "using mask!!!\n",
      "using mask!!!\n",
      "using mask!!!\n",
      "using mask!!!\n",
      "Warning: NaN or Inf found in input tensor.\n",
      "Warning: NaN or Inf found in input tensor.\n"
     ]
    },
    {
     "name": "stderr",
     "output_type": "stream",
     "text": [
      "\n",
      "Epoch 58: 100%|██████████| 11/11 [00:00<00:00, 53.45it/s]"
     ]
    },
    {
     "name": "stdout",
     "output_type": "stream",
     "text": [
      "using mask!!!\n",
      "using mask!!!\n",
      "using mask!!!\n",
      "using mask!!!\n",
      "using mask!!!\n",
      "using mask!!!\n",
      "using mask!!!\n",
      "using mask!!!\n",
      "using mask!!!\n",
      "using mask!!!\n",
      "using mask!!!\n"
     ]
    },
    {
     "name": "stderr",
     "output_type": "stream",
     "text": [
      "\n",
      "Epoch 59:  45%|████▌     | 5/11 [00:00<00:00, 44.98it/s]"
     ]
    },
    {
     "name": "stdout",
     "output_type": "stream",
     "text": [
      "Warning: NaN or Inf found in input tensor.\n",
      "Warning: NaN or Inf found in input tensor.\n",
      "using mask!!!\n",
      "using mask!!!\n",
      "using mask!!!\n",
      "using mask!!!\n",
      "using mask!!!\n",
      "using mask!!!\n",
      "using mask!!!\n"
     ]
    },
    {
     "name": "stderr",
     "output_type": "stream",
     "text": [
      "Epoch 59: 100%|██████████| 11/11 [00:00<00:00, 47.36it/s]\n",
      "Epoch 60:   0%|          | 0/11 [00:00<?, ?it/s]"
     ]
    },
    {
     "name": "stdout",
     "output_type": "stream",
     "text": [
      "using mask!!!\n",
      "using mask!!!\n",
      "using mask!!!\n",
      "using mask!!!\n",
      "Warning: NaN or Inf found in input tensor.\n",
      "Warning: NaN or Inf found in input tensor.\n",
      "using mask!!!\n",
      "using mask!!!\n",
      "using mask!!!\n"
     ]
    },
    {
     "name": "stderr",
     "output_type": "stream",
     "text": [
      "Epoch 60: 100%|██████████| 11/11 [00:00<00:00, 50.39it/s]"
     ]
    },
    {
     "name": "stdout",
     "output_type": "stream",
     "text": [
      "using mask!!!\n",
      "using mask!!!\n",
      "using mask!!!\n",
      "using mask!!!\n",
      "using mask!!!\n",
      "using mask!!!\n",
      "using mask!!!\n",
      "using mask!!!\n",
      "Warning: NaN or Inf found in input tensor.\n",
      "Warning: NaN or Inf found in input tensor.\n"
     ]
    },
    {
     "name": "stderr",
     "output_type": "stream",
     "text": [
      "\n"
     ]
    },
    {
     "name": "stdout",
     "output_type": "stream",
     "text": [
      "using mask!!!\n",
      "using mask!!!\n",
      "using mask!!!\n",
      "using mask!!!\n",
      "using mask!!!\n",
      "using mask!!!\n",
      "using mask!!!\n",
      "using mask!!!\n",
      "using mask!!!\n",
      "using mask!!!\n",
      "using mask!!!\n",
      "using mask!!!\n",
      "using mask!!!\n",
      "using mask!!!\n",
      "using mask!!!\n",
      "using mask!!!\n",
      "using mask!!!\n",
      "using mask!!!\n",
      "using mask!!!\n",
      "using mask!!!\n",
      "using mask!!!\n",
      "using mask!!!\n",
      "using mask!!!\n",
      "using mask!!!\n",
      "using mask!!!\n",
      "using mask!!!\n",
      "using mask!!!\n",
      "using mask!!!\n",
      "using mask!!!\n",
      "using mask!!!\n",
      "using mask!!!\n",
      "using mask!!!\n",
      "using mask!!!\n"
     ]
    },
    {
     "name": "stderr",
     "output_type": "stream",
     "text": [
      "\r",
      "Epoch 61:   0%|          | 0/11 [00:00<?, ?it/s]"
     ]
    },
    {
     "name": "stdout",
     "output_type": "stream",
     "text": [
      "using mask!!!\n",
      "using mask!!!\n",
      "using mask!!!\n",
      "using mask!!!\n",
      "using mask!!!\n",
      "using mask!!!\n",
      "using mask!!!\n",
      "using mask!!!\n",
      "using mask!!!\n",
      "using mask!!!\n",
      "using mask!!!\n",
      "using mask!!!\n",
      "using mask!!!\n",
      "using mask!!!\n",
      "using mask!!!\n",
      "using mask!!!\n",
      "using mask!!!\n",
      "using mask!!!\n",
      "using mask!!!\n",
      "using mask!!!\n",
      "using mask!!!\n",
      "using mask!!!\n",
      "using mask!!!\n",
      "using mask!!!\n",
      "using mask!!!\n",
      "using mask!!!\n",
      "using mask!!!\n",
      "Warning: NaN or Inf found in input tensor.\n",
      "Warning: NaN or Inf found in input tensor.\n",
      "----------------------------------------\n",
      "TRAIN\tEpoch: 60\tloss_itn: 18513.906960\tloss_stn_u: 3747.903786\tloss_stn_s: 1271.681408\tloss_stn_i: 15136.022994\tloss_stn_r: 3747.903786\tloss: 1271.681408\tmetric_dice: 0.127384\tmetric_hd: 0.127384\tmetric_asd: 0.127384\tmetric_precision: 1.000000\tmetric_recall: 0.068145\t\n",
      "VALID\tEpoch: 60\tloss_itn: 19665.461361\tloss_stn_u: 3965.156405\tloss_stn_s: 846.215291\tloss_stn_i: 16166.619141\tloss_stn_r: 3965.156405\tloss: 846.215291\tmetric_dice: 0.089774\tmetric_hd: 0.089774\tmetric_asd: 0.089774\tmetric_precision: 1.000000\tmetric_recall: 0.047007\t\n",
      "----------------------------------------\n"
     ]
    },
    {
     "name": "stderr",
     "output_type": "stream",
     "text": [
      "Epoch 61: 100%|██████████| 11/11 [00:00<00:00, 55.31it/s]\n"
     ]
    },
    {
     "name": "stdout",
     "output_type": "stream",
     "text": [
      "using mask!!!\n",
      "using mask!!!\n",
      "using mask!!!\n",
      "using mask!!!\n",
      "using mask!!!\n",
      "using mask!!!\n",
      "using mask!!!\n",
      "using mask!!!\n",
      "using mask!!!\n",
      "using mask!!!\n",
      "using mask!!!\n"
     ]
    },
    {
     "name": "stderr",
     "output_type": "stream",
     "text": [
      "Epoch 62:  55%|█████▍    | 6/11 [00:00<00:00, 52.20it/s]"
     ]
    },
    {
     "name": "stdout",
     "output_type": "stream",
     "text": [
      "Warning: NaN or Inf found in input tensor.\n",
      "Warning: NaN or Inf found in input tensor.\n",
      "using mask!!!\n",
      "using mask!!!\n",
      "using mask!!!\n",
      "using mask!!!\n",
      "using mask!!!\n",
      "using mask!!!\n",
      "using mask!!!\n",
      "using mask!!!\n",
      "using mask!!!\n"
     ]
    },
    {
     "name": "stderr",
     "output_type": "stream",
     "text": [
      "Epoch 62: 100%|██████████| 11/11 [00:00<00:00, 54.53it/s]\n",
      "Epoch 63:   0%|          | 0/11 [00:00<?, ?it/s]"
     ]
    },
    {
     "name": "stdout",
     "output_type": "stream",
     "text": [
      "using mask!!!\n",
      "using mask!!!\n",
      "Warning: NaN or Inf found in input tensor.\n",
      "Warning: NaN or Inf found in input tensor.\n",
      "using mask!!!\n",
      "using mask!!!\n",
      "using mask!!!\n",
      "using mask!!!\n",
      "using mask!!!\n"
     ]
    },
    {
     "name": "stderr",
     "output_type": "stream",
     "text": [
      "Epoch 63: 100%|██████████| 11/11 [00:00<00:00, 50.04it/s]\n",
      "Epoch 64:   0%|          | 0/11 [00:00<?, ?it/s]"
     ]
    },
    {
     "name": "stdout",
     "output_type": "stream",
     "text": [
      "using mask!!!\n",
      "using mask!!!\n",
      "using mask!!!\n",
      "using mask!!!\n",
      "using mask!!!\n",
      "using mask!!!\n",
      "Warning: NaN or Inf found in input tensor.\n",
      "Warning: NaN or Inf found in input tensor.\n",
      "using mask!!!\n",
      "using mask!!!\n"
     ]
    },
    {
     "name": "stderr",
     "output_type": "stream",
     "text": [
      "Epoch 64: 100%|██████████| 11/11 [00:00<00:00, 53.22it/s]"
     ]
    },
    {
     "name": "stdout",
     "output_type": "stream",
     "text": [
      "using mask!!!\n",
      "using mask!!!\n",
      "using mask!!!\n",
      "using mask!!!\n",
      "using mask!!!\n",
      "using mask!!!\n",
      "using mask!!!\n",
      "using mask!!!\n",
      "using mask!!!\n",
      "Warning: NaN or Inf found in input tensor.\n",
      "Warning: NaN or Inf found in input tensor.\n"
     ]
    },
    {
     "name": "stderr",
     "output_type": "stream",
     "text": [
      "\n",
      "Epoch 65: 100%|██████████| 11/11 [00:00<00:00, 49.39it/s]"
     ]
    },
    {
     "name": "stdout",
     "output_type": "stream",
     "text": [
      "using mask!!!\n",
      "using mask!!!\n",
      "using mask!!!\n",
      "using mask!!!\n",
      "using mask!!!\n",
      "using mask!!!\n",
      "using mask!!!\n",
      "using mask!!!\n",
      "using mask!!!\n",
      "using mask!!!\n",
      "using mask!!!\n"
     ]
    },
    {
     "name": "stderr",
     "output_type": "stream",
     "text": [
      "\n",
      "Epoch 66:  55%|█████▍    | 6/11 [00:00<00:00, 52.48it/s]"
     ]
    },
    {
     "name": "stdout",
     "output_type": "stream",
     "text": [
      "Warning: NaN or Inf found in input tensor.\n",
      "Warning: NaN or Inf found in input tensor.\n",
      "using mask!!!\n",
      "using mask!!!\n",
      "using mask!!!\n",
      "using mask!!!\n",
      "using mask!!!\n",
      "using mask!!!\n",
      "using mask!!!\n",
      "using mask!!!\n",
      "using mask!!!\n"
     ]
    },
    {
     "name": "stderr",
     "output_type": "stream",
     "text": [
      "Epoch 66: 100%|██████████| 11/11 [00:00<00:00, 54.33it/s]\n",
      "Epoch 67:  55%|█████▍    | 6/11 [00:00<00:00, 53.39it/s]"
     ]
    },
    {
     "name": "stdout",
     "output_type": "stream",
     "text": [
      "using mask!!!\n",
      "using mask!!!\n",
      "Warning: NaN or Inf found in input tensor.\n",
      "Warning: NaN or Inf found in input tensor.\n",
      "using mask!!!\n",
      "using mask!!!\n",
      "using mask!!!\n",
      "using mask!!!\n",
      "using mask!!!\n",
      "using mask!!!\n"
     ]
    },
    {
     "name": "stderr",
     "output_type": "stream",
     "text": [
      "Epoch 67: 100%|██████████| 11/11 [00:00<00:00, 54.49it/s]\n",
      "Epoch 68:   0%|          | 0/11 [00:00<?, ?it/s]"
     ]
    },
    {
     "name": "stdout",
     "output_type": "stream",
     "text": [
      "using mask!!!\n",
      "using mask!!!\n",
      "using mask!!!\n",
      "using mask!!!\n",
      "using mask!!!\n",
      "Warning: NaN or Inf found in input tensor.\n",
      "Warning: NaN or Inf found in input tensor.\n",
      "using mask!!!\n",
      "using mask!!!\n",
      "using mask!!!\n"
     ]
    },
    {
     "name": "stderr",
     "output_type": "stream",
     "text": [
      "Epoch 68: 100%|██████████| 11/11 [00:00<00:00, 53.70it/s]"
     ]
    },
    {
     "name": "stdout",
     "output_type": "stream",
     "text": [
      "using mask!!!\n",
      "using mask!!!\n",
      "using mask!!!\n",
      "using mask!!!\n",
      "using mask!!!\n",
      "using mask!!!\n",
      "using mask!!!\n",
      "using mask!!!\n",
      "Warning: NaN or Inf found in input tensor.\n",
      "Warning: NaN or Inf found in input tensor.\n"
     ]
    },
    {
     "name": "stderr",
     "output_type": "stream",
     "text": [
      "\n",
      "Epoch 69: 100%|██████████| 11/11 [00:00<00:00, 51.17it/s]"
     ]
    },
    {
     "name": "stdout",
     "output_type": "stream",
     "text": [
      "using mask!!!\n",
      "using mask!!!\n",
      "using mask!!!\n",
      "using mask!!!\n",
      "using mask!!!\n",
      "using mask!!!\n",
      "using mask!!!\n",
      "using mask!!!\n",
      "using mask!!!\n",
      "using mask!!!\n",
      "using mask!!!\n"
     ]
    },
    {
     "name": "stderr",
     "output_type": "stream",
     "text": [
      "\n",
      "Epoch 70:  45%|████▌     | 5/11 [00:00<00:00, 49.94it/s]"
     ]
    },
    {
     "name": "stdout",
     "output_type": "stream",
     "text": [
      "Warning: NaN or Inf found in input tensor.\n",
      "Warning: NaN or Inf found in input tensor.\n",
      "using mask!!!\n",
      "using mask!!!\n",
      "using mask!!!\n",
      "using mask!!!\n",
      "using mask!!!\n",
      "using mask!!!\n",
      "using mask!!!\n",
      "using mask!!!\n"
     ]
    },
    {
     "name": "stderr",
     "output_type": "stream",
     "text": [
      "Epoch 70: 100%|██████████| 11/11 [00:00<00:00, 50.90it/s]\n"
     ]
    },
    {
     "name": "stdout",
     "output_type": "stream",
     "text": [
      "using mask!!!\n",
      "using mask!!!\n",
      "using mask!!!\n",
      "Warning: NaN or Inf found in input tensor.\n",
      "Warning: NaN or Inf found in input tensor.\n",
      "using mask!!!\n",
      "using mask!!!\n",
      "using mask!!!\n",
      "using mask!!!\n",
      "using mask!!!\n",
      "using mask!!!\n",
      "using mask!!!\n",
      "using mask!!!\n",
      "using mask!!!\n",
      "using mask!!!\n",
      "using mask!!!\n",
      "using mask!!!\n",
      "using mask!!!\n",
      "using mask!!!\n",
      "using mask!!!\n",
      "using mask!!!\n",
      "using mask!!!\n",
      "using mask!!!\n",
      "using mask!!!\n",
      "using mask!!!\n",
      "using mask!!!\n",
      "using mask!!!\n",
      "using mask!!!\n",
      "using mask!!!\n",
      "using mask!!!\n",
      "using mask!!!\n",
      "using mask!!!\n",
      "using mask!!!\n",
      "using mask!!!\n",
      "using mask!!!\n",
      "using mask!!!\n",
      "using mask!!!\n",
      "using mask!!!\n",
      "using mask!!!\n",
      "using mask!!!\n",
      "using mask!!!\n",
      "using mask!!!\n",
      "using mask!!!\n",
      "using mask!!!\n",
      "using mask!!!\n",
      "using mask!!!\n",
      "using mask!!!\n",
      "using mask!!!\n",
      "using mask!!!\n",
      "using mask!!!\n",
      "using mask!!!\n"
     ]
    },
    {
     "name": "stderr",
     "output_type": "stream",
     "text": [
      "\r",
      "Epoch 71:   0%|          | 0/11 [00:00<?, ?it/s]"
     ]
    },
    {
     "name": "stdout",
     "output_type": "stream",
     "text": [
      "using mask!!!\n",
      "using mask!!!\n",
      "using mask!!!\n",
      "using mask!!!\n",
      "using mask!!!\n",
      "using mask!!!\n",
      "using mask!!!\n",
      "using mask!!!\n",
      "using mask!!!\n",
      "using mask!!!\n",
      "using mask!!!\n",
      "using mask!!!\n",
      "using mask!!!\n",
      "using mask!!!\n",
      "Warning: NaN or Inf found in input tensor.\n",
      "Warning: NaN or Inf found in input tensor.\n",
      "----------------------------------------\n",
      "TRAIN\tEpoch: 70\tloss_itn: 18373.913175\tloss_stn_u: 3661.299405\tloss_stn_s: 1348.249101\tloss_stn_i: 14997.443981\tloss_stn_r: 3661.299405\tloss: 1348.249101\tmetric_dice: 0.133208\tmetric_hd: 0.133208\tmetric_asd: 0.133208\tmetric_precision: 1.000000\tmetric_recall: 0.071376\t\n",
      "VALID\tEpoch: 70\tloss_itn: 19665.461361\tloss_stn_u: 3965.156405\tloss_stn_s: 846.215291\tloss_stn_i: 16166.619141\tloss_stn_r: 3965.156405\tloss: 846.215291\tmetric_dice: 0.089774\tmetric_hd: 0.089774\tmetric_asd: 0.089774\tmetric_precision: 1.000000\tmetric_recall: 0.047007\t\n",
      "----------------------------------------\n",
      "using mask!!!\n",
      "using mask!!!\n",
      "using mask!!!\n"
     ]
    },
    {
     "name": "stderr",
     "output_type": "stream",
     "text": [
      "Epoch 71: 100%|██████████| 11/11 [00:00<00:00, 48.80it/s]"
     ]
    },
    {
     "name": "stdout",
     "output_type": "stream",
     "text": [
      "using mask!!!\n",
      "using mask!!!\n",
      "using mask!!!\n",
      "using mask!!!\n",
      "using mask!!!\n",
      "using mask!!!\n",
      "using mask!!!\n",
      "using mask!!!\n"
     ]
    },
    {
     "name": "stderr",
     "output_type": "stream",
     "text": [
      "\n",
      "Epoch 72:  45%|████▌     | 5/11 [00:00<00:00, 48.70it/s]"
     ]
    },
    {
     "name": "stdout",
     "output_type": "stream",
     "text": [
      "Warning: NaN or Inf found in input tensor.\n",
      "Warning: NaN or Inf found in input tensor.\n",
      "using mask!!!\n",
      "using mask!!!\n",
      "using mask!!!\n",
      "using mask!!!\n",
      "using mask!!!\n",
      "using mask!!!\n",
      "using mask!!!\n",
      "using mask!!!\n"
     ]
    },
    {
     "name": "stderr",
     "output_type": "stream",
     "text": [
      "Epoch 72: 100%|██████████| 11/11 [00:00<00:00, 50.44it/s]\n",
      "Epoch 73:   0%|          | 0/11 [00:00<?, ?it/s]"
     ]
    },
    {
     "name": "stdout",
     "output_type": "stream",
     "text": [
      "using mask!!!\n",
      "using mask!!!\n",
      "using mask!!!\n",
      "Warning: NaN or Inf found in input tensor.\n",
      "Warning: NaN or Inf found in input tensor.\n",
      "using mask!!!\n",
      "using mask!!!\n",
      "using mask!!!\n",
      "using mask!!!\n",
      "using mask!!!\n"
     ]
    },
    {
     "name": "stderr",
     "output_type": "stream",
     "text": [
      "Epoch 73: 100%|██████████| 11/11 [00:00<00:00, 52.25it/s]\n",
      "Epoch 74:   0%|          | 0/11 [00:00<?, ?it/s]"
     ]
    },
    {
     "name": "stdout",
     "output_type": "stream",
     "text": [
      "using mask!!!\n",
      "using mask!!!\n",
      "using mask!!!\n",
      "using mask!!!\n",
      "using mask!!!\n",
      "using mask!!!\n",
      "Warning: NaN or Inf found in input tensor.\n",
      "Warning: NaN or Inf found in input tensor.\n",
      "using mask!!!\n",
      "using mask!!!\n"
     ]
    },
    {
     "name": "stderr",
     "output_type": "stream",
     "text": [
      "Epoch 74: 100%|██████████| 11/11 [00:00<00:00, 55.41it/s]"
     ]
    },
    {
     "name": "stdout",
     "output_type": "stream",
     "text": [
      "using mask!!!\n",
      "using mask!!!\n",
      "using mask!!!\n",
      "using mask!!!\n",
      "using mask!!!\n",
      "using mask!!!\n",
      "using mask!!!\n",
      "using mask!!!\n",
      "using mask!!!\n",
      "Warning: NaN or Inf found in input tensor.\n",
      "Warning: NaN or Inf found in input tensor.\n"
     ]
    },
    {
     "name": "stderr",
     "output_type": "stream",
     "text": [
      "\n",
      "Epoch 75: 100%|██████████| 11/11 [00:00<00:00, 52.41it/s]"
     ]
    },
    {
     "name": "stdout",
     "output_type": "stream",
     "text": [
      "using mask!!!\n",
      "using mask!!!\n",
      "using mask!!!\n",
      "using mask!!!\n",
      "using mask!!!\n",
      "using mask!!!\n",
      "using mask!!!\n",
      "using mask!!!\n",
      "using mask!!!\n",
      "using mask!!!\n",
      "using mask!!!\n"
     ]
    },
    {
     "name": "stderr",
     "output_type": "stream",
     "text": [
      "\n",
      "Epoch 76:  45%|████▌     | 5/11 [00:00<00:00, 48.57it/s]"
     ]
    },
    {
     "name": "stdout",
     "output_type": "stream",
     "text": [
      "Warning: NaN or Inf found in input tensor.\n",
      "Warning: NaN or Inf found in input tensor.\n",
      "using mask!!!\n",
      "using mask!!!\n",
      "using mask!!!\n",
      "using mask!!!\n",
      "using mask!!!\n",
      "using mask!!!\n",
      "using mask!!!\n",
      "using mask!!!\n"
     ]
    },
    {
     "name": "stderr",
     "output_type": "stream",
     "text": [
      "Epoch 76: 100%|██████████| 11/11 [00:00<00:00, 50.27it/s]\n",
      "Epoch 77:   0%|          | 0/11 [00:00<?, ?it/s]"
     ]
    },
    {
     "name": "stdout",
     "output_type": "stream",
     "text": [
      "using mask!!!\n",
      "using mask!!!\n",
      "using mask!!!\n",
      "Warning: NaN or Inf found in input tensor.\n",
      "Warning: NaN or Inf found in input tensor.\n",
      "using mask!!!\n",
      "using mask!!!\n",
      "using mask!!!\n"
     ]
    },
    {
     "name": "stderr",
     "output_type": "stream",
     "text": [
      "Epoch 77: 100%|██████████| 11/11 [00:00<00:00, 50.44it/s]"
     ]
    },
    {
     "name": "stdout",
     "output_type": "stream",
     "text": [
      "using mask!!!\n",
      "using mask!!!\n",
      "using mask!!!\n",
      "using mask!!!\n",
      "using mask!!!\n",
      "using mask!!!\n",
      "using mask!!!\n",
      "using mask!!!\n",
      "Warning: NaN or Inf found in input tensor.\n",
      "Warning: NaN or Inf found in input tensor.\n"
     ]
    },
    {
     "name": "stderr",
     "output_type": "stream",
     "text": [
      "\n",
      "Epoch 78: 100%|██████████| 11/11 [00:00<00:00, 73.75it/s]\n",
      "Epoch 79:   0%|          | 0/11 [00:00<?, ?it/s]"
     ]
    },
    {
     "name": "stdout",
     "output_type": "stream",
     "text": [
      "using mask!!!\n",
      "using mask!!!\n",
      "using mask!!!\n",
      "using mask!!!\n",
      "using mask!!!\n",
      "using mask!!!\n",
      "using mask!!!\n",
      "using mask!!!\n",
      "using mask!!!\n",
      "using mask!!!\n",
      "using mask!!!\n",
      "Warning: NaN or Inf found in input tensor.\n",
      "Warning: NaN or Inf found in input tensor.\n"
     ]
    },
    {
     "name": "stderr",
     "output_type": "stream",
     "text": [
      "Epoch 79: 100%|██████████| 11/11 [00:00<00:00, 52.23it/s]"
     ]
    },
    {
     "name": "stdout",
     "output_type": "stream",
     "text": [
      "using mask!!!\n",
      "using mask!!!\n",
      "using mask!!!\n",
      "using mask!!!\n",
      "using mask!!!\n",
      "using mask!!!\n",
      "using mask!!!\n",
      "using mask!!!\n",
      "using mask!!!\n",
      "using mask!!!\n",
      "using mask!!!\n"
     ]
    },
    {
     "name": "stderr",
     "output_type": "stream",
     "text": [
      "\n",
      "Epoch 80: 100%|██████████| 11/11 [00:00<00:00, 75.10it/s]"
     ]
    },
    {
     "name": "stdout",
     "output_type": "stream",
     "text": [
      "Warning: NaN or Inf found in input tensor.\n",
      "Warning: NaN or Inf found in input tensor.\n",
      "using mask!!!\n",
      "using mask!!!\n",
      "using mask!!!\n",
      "using mask!!!\n",
      "using mask!!!\n",
      "using mask!!!\n",
      "using mask!!!\n",
      "using mask!!!\n",
      "using mask!!!\n",
      "using mask!!!\n",
      "using mask!!!\n"
     ]
    },
    {
     "name": "stderr",
     "output_type": "stream",
     "text": [
      "\n"
     ]
    },
    {
     "name": "stdout",
     "output_type": "stream",
     "text": [
      "Warning: NaN or Inf found in input tensor.\n",
      "Warning: NaN or Inf found in input tensor.\n",
      "using mask!!!\n",
      "using mask!!!\n",
      "using mask!!!\n",
      "using mask!!!\n",
      "using mask!!!\n",
      "using mask!!!\n",
      "using mask!!!\n",
      "using mask!!!\n",
      "using mask!!!\n",
      "using mask!!!\n",
      "using mask!!!\n",
      "using mask!!!\n",
      "using mask!!!\n",
      "using mask!!!\n",
      "using mask!!!\n",
      "using mask!!!\n",
      "using mask!!!\n",
      "using mask!!!\n",
      "using mask!!!\n",
      "using mask!!!\n",
      "using mask!!!\n",
      "using mask!!!\n",
      "using mask!!!\n",
      "using mask!!!\n",
      "using mask!!!\n",
      "using mask!!!\n",
      "using mask!!!\n",
      "using mask!!!\n"
     ]
    },
    {
     "name": "stderr",
     "output_type": "stream",
     "text": [
      "\r",
      "Epoch 81:   0%|          | 0/11 [00:00<?, ?it/s]"
     ]
    },
    {
     "name": "stdout",
     "output_type": "stream",
     "text": [
      "using mask!!!\n",
      "using mask!!!\n",
      "using mask!!!\n",
      "using mask!!!\n",
      "using mask!!!\n",
      "using mask!!!\n",
      "using mask!!!\n",
      "using mask!!!\n",
      "using mask!!!\n",
      "using mask!!!\n",
      "using mask!!!\n",
      "using mask!!!\n",
      "using mask!!!\n",
      "using mask!!!\n",
      "using mask!!!\n",
      "using mask!!!\n",
      "using mask!!!\n",
      "using mask!!!\n",
      "using mask!!!\n",
      "using mask!!!\n",
      "using mask!!!\n",
      "using mask!!!\n",
      "using mask!!!\n",
      "using mask!!!\n",
      "using mask!!!\n",
      "using mask!!!\n",
      "using mask!!!\n",
      "using mask!!!\n",
      "using mask!!!\n",
      "using mask!!!\n",
      "using mask!!!\n",
      "using mask!!!\n",
      "Warning: NaN or Inf found in input tensor.\n",
      "Warning: NaN or Inf found in input tensor.\n",
      "----------------------------------------\n",
      "TRAIN\tEpoch: 80\tloss_itn: 18415.095348\tloss_stn_u: 3661.723211\tloss_stn_s: 1332.218362\tloss_stn_i: 15033.039329\tloss_stn_r: 3661.723211\tloss: 1332.218362\tmetric_dice: 0.132169\tmetric_hd: 0.132169\tmetric_asd: 0.132169\tmetric_precision: 1.000000\tmetric_recall: 0.070777\t\n",
      "VALID\tEpoch: 80\tloss_itn: 19665.461361\tloss_stn_u: 3965.156405\tloss_stn_s: 846.215291\tloss_stn_i: 16166.619141\tloss_stn_r: 3965.156405\tloss: 846.215291\tmetric_dice: 0.089774\tmetric_hd: 0.089774\tmetric_asd: 0.089774\tmetric_precision: 1.000000\tmetric_recall: 0.047007\t\n",
      "----------------------------------------\n",
      "using mask!!!\n"
     ]
    },
    {
     "name": "stderr",
     "output_type": "stream",
     "text": [
      "Epoch 81: 100%|██████████| 11/11 [00:00<00:00, 53.88it/s]"
     ]
    },
    {
     "name": "stdout",
     "output_type": "stream",
     "text": [
      "using mask!!!\n",
      "using mask!!!\n",
      "using mask!!!\n",
      "using mask!!!\n",
      "using mask!!!\n",
      "using mask!!!\n",
      "using mask!!!\n",
      "using mask!!!\n",
      "using mask!!!\n",
      "using mask!!!\n",
      "Warning: NaN or Inf found in input tensor.\n"
     ]
    },
    {
     "name": "stderr",
     "output_type": "stream",
     "text": [
      "\n",
      "Epoch 82:  45%|████▌     | 5/11 [00:00<00:00, 49.26it/s]"
     ]
    },
    {
     "name": "stdout",
     "output_type": "stream",
     "text": [
      "Warning: NaN or Inf found in input tensor.\n",
      "using mask!!!\n",
      "using mask!!!\n",
      "using mask!!!\n",
      "using mask!!!\n",
      "using mask!!!\n",
      "using mask!!!\n",
      "using mask!!!\n",
      "using mask!!!\n",
      "using mask!!!\n"
     ]
    },
    {
     "name": "stderr",
     "output_type": "stream",
     "text": [
      "Epoch 82: 100%|██████████| 11/11 [00:00<00:00, 50.18it/s]\n",
      "Epoch 83:  45%|████▌     | 5/11 [00:00<00:00, 48.25it/s]"
     ]
    },
    {
     "name": "stdout",
     "output_type": "stream",
     "text": [
      "using mask!!!\n",
      "using mask!!!\n",
      "Warning: NaN or Inf found in input tensor.\n",
      "Warning: NaN or Inf found in input tensor.\n",
      "using mask!!!\n",
      "using mask!!!\n",
      "using mask!!!\n",
      "using mask!!!\n",
      "using mask!!!\n"
     ]
    },
    {
     "name": "stderr",
     "output_type": "stream",
     "text": [
      "Epoch 83: 100%|██████████| 11/11 [00:00<00:00, 49.94it/s]\n",
      "Epoch 84:   0%|          | 0/11 [00:00<?, ?it/s]"
     ]
    },
    {
     "name": "stdout",
     "output_type": "stream",
     "text": [
      "using mask!!!\n",
      "using mask!!!\n",
      "using mask!!!\n",
      "using mask!!!\n",
      "using mask!!!\n",
      "using mask!!!\n",
      "Warning: NaN or Inf found in input tensor.\n",
      "Warning: NaN or Inf found in input tensor.\n",
      "using mask!!!\n",
      "using mask!!!\n"
     ]
    },
    {
     "name": "stderr",
     "output_type": "stream",
     "text": [
      "Epoch 84: 100%|██████████| 11/11 [00:00<00:00, 48.05it/s]"
     ]
    },
    {
     "name": "stdout",
     "output_type": "stream",
     "text": [
      "using mask!!!\n",
      "using mask!!!\n",
      "using mask!!!\n",
      "using mask!!!\n",
      "using mask!!!\n",
      "using mask!!!\n",
      "using mask!!!\n",
      "using mask!!!\n",
      "using mask!!!\n"
     ]
    },
    {
     "name": "stderr",
     "output_type": "stream",
     "text": [
      "\n",
      "Epoch 85: 100%|██████████| 11/11 [00:00<00:00, 72.89it/s]"
     ]
    },
    {
     "name": "stdout",
     "output_type": "stream",
     "text": [
      "Warning: NaN or Inf found in input tensor.\n",
      "Warning: NaN or Inf found in input tensor.\n",
      "using mask!!!\n",
      "using mask!!!\n",
      "using mask!!!\n",
      "using mask!!!\n",
      "using mask!!!\n",
      "using mask!!!\n",
      "using mask!!!\n",
      "using mask!!!\n",
      "using mask!!!\n",
      "using mask!!!\n",
      "using mask!!!\n",
      "Warning: NaN or Inf found in input tensor.\n"
     ]
    },
    {
     "name": "stderr",
     "output_type": "stream",
     "text": [
      "\n",
      "Epoch 86:  45%|████▌     | 5/11 [00:00<00:00, 47.12it/s]"
     ]
    },
    {
     "name": "stdout",
     "output_type": "stream",
     "text": [
      "Warning: NaN or Inf found in input tensor.\n",
      "using mask!!!\n",
      "using mask!!!\n",
      "using mask!!!\n",
      "using mask!!!\n",
      "using mask!!!\n",
      "using mask!!!\n",
      "using mask!!!\n",
      "using mask!!!\n",
      "using mask!!!\n"
     ]
    },
    {
     "name": "stderr",
     "output_type": "stream",
     "text": [
      "Epoch 86: 100%|██████████| 11/11 [00:00<00:00, 49.72it/s]\n",
      "Epoch 87:  55%|█████▍    | 6/11 [00:00<00:00, 58.33it/s]"
     ]
    },
    {
     "name": "stdout",
     "output_type": "stream",
     "text": [
      "using mask!!!\n",
      "using mask!!!\n",
      "Warning: NaN or Inf found in input tensor.\n",
      "Warning: NaN or Inf found in input tensor.\n",
      "using mask!!!\n",
      "using mask!!!\n",
      "using mask!!!\n",
      "using mask!!!\n",
      "using mask!!!\n",
      "using mask!!!\n",
      "using mask!!!\n"
     ]
    },
    {
     "name": "stderr",
     "output_type": "stream",
     "text": [
      "Epoch 87: 100%|██████████| 11/11 [00:00<00:00, 59.15it/s]\n",
      "Epoch 88:   0%|          | 0/11 [00:00<?, ?it/s]"
     ]
    },
    {
     "name": "stdout",
     "output_type": "stream",
     "text": [
      "using mask!!!\n",
      "using mask!!!\n",
      "using mask!!!\n",
      "using mask!!!\n",
      "Warning: NaN or Inf found in input tensor.\n",
      "Warning: NaN or Inf found in input tensor.\n",
      "using mask!!!\n",
      "using mask!!!\n",
      "using mask!!!\n",
      "using mask!!!\n"
     ]
    },
    {
     "name": "stderr",
     "output_type": "stream",
     "text": [
      "Epoch 88: 100%|██████████| 11/11 [00:00<00:00, 47.88it/s]\n",
      "Epoch 89:   0%|          | 0/11 [00:00<?, ?it/s]"
     ]
    },
    {
     "name": "stdout",
     "output_type": "stream",
     "text": [
      "using mask!!!\n",
      "using mask!!!\n",
      "using mask!!!\n",
      "using mask!!!\n",
      "using mask!!!\n",
      "using mask!!!\n",
      "using mask!!!\n",
      "Warning: NaN or Inf found in input tensor.\n",
      "Warning: NaN or Inf found in input tensor.\n",
      "using mask!!!\n"
     ]
    },
    {
     "name": "stderr",
     "output_type": "stream",
     "text": [
      "Epoch 89:  82%|████████▏ | 9/11 [00:00<00:00, 41.58it/s]"
     ]
    },
    {
     "name": "stdout",
     "output_type": "stream",
     "text": [
      "using mask!!!\n",
      "using mask!!!\n",
      "using mask!!!\n",
      "using mask!!!\n",
      "using mask!!!\n",
      "using mask!!!\n",
      "using mask!!!\n",
      "using mask!!!\n",
      "using mask!!!\n",
      "using mask!!!\n"
     ]
    },
    {
     "name": "stderr",
     "output_type": "stream",
     "text": [
      "Epoch 89: 100%|██████████| 11/11 [00:00<00:00, 45.19it/s]\n",
      "Epoch 90:  55%|█████▍    | 6/11 [00:00<00:00, 50.80it/s]"
     ]
    },
    {
     "name": "stdout",
     "output_type": "stream",
     "text": [
      "Warning: NaN or Inf found in input tensor.\n",
      "Warning: NaN or Inf found in input tensor.\n",
      "using mask!!!\n",
      "using mask!!!\n",
      "using mask!!!\n",
      "using mask!!!\n",
      "using mask!!!\n",
      "using mask!!!\n",
      "using mask!!!\n",
      "using mask!!!\n"
     ]
    },
    {
     "name": "stderr",
     "output_type": "stream",
     "text": [
      "Epoch 90: 100%|██████████| 11/11 [00:00<00:00, 52.05it/s]\n"
     ]
    },
    {
     "name": "stdout",
     "output_type": "stream",
     "text": [
      "using mask!!!\n",
      "using mask!!!\n",
      "using mask!!!\n",
      "Warning: NaN or Inf found in input tensor.\n",
      "Warning: NaN or Inf found in input tensor.\n",
      "using mask!!!\n",
      "using mask!!!\n",
      "using mask!!!\n",
      "using mask!!!\n",
      "using mask!!!\n",
      "using mask!!!\n",
      "using mask!!!\n",
      "using mask!!!\n",
      "using mask!!!\n",
      "using mask!!!\n",
      "using mask!!!\n",
      "using mask!!!\n",
      "using mask!!!\n",
      "using mask!!!\n",
      "using mask!!!\n",
      "using mask!!!\n",
      "using mask!!!\n",
      "using mask!!!\n",
      "using mask!!!\n",
      "using mask!!!\n",
      "using mask!!!\n",
      "using mask!!!\n",
      "using mask!!!\n",
      "using mask!!!\n",
      "using mask!!!\n",
      "using mask!!!\n",
      "using mask!!!\n",
      "using mask!!!\n",
      "using mask!!!\n",
      "using mask!!!\n",
      "using mask!!!\n",
      "using mask!!!\n",
      "using mask!!!\n",
      "using mask!!!\n",
      "using mask!!!\n",
      "using mask!!!\n",
      "using mask!!!\n",
      "using mask!!!\n"
     ]
    },
    {
     "name": "stderr",
     "output_type": "stream",
     "text": [
      "\r",
      "Epoch 91:   0%|          | 0/11 [00:00<?, ?it/s]"
     ]
    },
    {
     "name": "stdout",
     "output_type": "stream",
     "text": [
      "using mask!!!\n",
      "using mask!!!\n",
      "using mask!!!\n",
      "using mask!!!\n",
      "using mask!!!\n",
      "using mask!!!\n",
      "using mask!!!\n",
      "using mask!!!\n",
      "using mask!!!\n",
      "using mask!!!\n",
      "using mask!!!\n",
      "using mask!!!\n",
      "using mask!!!\n",
      "using mask!!!\n",
      "using mask!!!\n",
      "using mask!!!\n",
      "using mask!!!\n",
      "using mask!!!\n",
      "using mask!!!\n",
      "using mask!!!\n",
      "using mask!!!\n",
      "using mask!!!\n",
      "Warning: NaN or Inf found in input tensor.\n",
      "Warning: NaN or Inf found in input tensor.\n",
      "----------------------------------------\n",
      "TRAIN\tEpoch: 90\tloss_itn: 18392.882280\tloss_stn_u: 3734.266335\tloss_stn_s: 1356.578325\tloss_stn_i: 15028.304066\tloss_stn_r: 3734.266335\tloss: 1356.578325\tmetric_dice: 0.134130\tmetric_hd: 0.134130\tmetric_asd: 0.134130\tmetric_precision: 1.000000\tmetric_recall: 0.071920\t\n",
      "VALID\tEpoch: 90\tloss_itn: 19665.461361\tloss_stn_u: 3965.156405\tloss_stn_s: 846.215291\tloss_stn_i: 16166.619141\tloss_stn_r: 3965.156405\tloss: 846.215291\tmetric_dice: 0.089774\tmetric_hd: 0.089774\tmetric_asd: 0.089774\tmetric_precision: 1.000000\tmetric_recall: 0.047007\t\n",
      "----------------------------------------\n",
      "using mask!!!\n",
      "using mask!!!\n"
     ]
    },
    {
     "name": "stderr",
     "output_type": "stream",
     "text": [
      "Epoch 91: 100%|██████████| 11/11 [00:00<00:00, 48.09it/s]"
     ]
    },
    {
     "name": "stdout",
     "output_type": "stream",
     "text": [
      "using mask!!!\n",
      "using mask!!!\n",
      "using mask!!!\n",
      "using mask!!!\n",
      "using mask!!!\n",
      "using mask!!!\n",
      "using mask!!!\n",
      "using mask!!!\n",
      "using mask!!!\n",
      "Warning: NaN or Inf found in input tensor.\n"
     ]
    },
    {
     "name": "stderr",
     "output_type": "stream",
     "text": [
      "\n",
      "Epoch 92:  45%|████▌     | 5/11 [00:00<00:00, 49.13it/s]"
     ]
    },
    {
     "name": "stdout",
     "output_type": "stream",
     "text": [
      "Warning: NaN or Inf found in input tensor.\n",
      "using mask!!!\n",
      "using mask!!!\n",
      "using mask!!!\n",
      "using mask!!!\n",
      "using mask!!!\n",
      "using mask!!!\n",
      "using mask!!!\n",
      "using mask!!!\n",
      "using mask!!!\n"
     ]
    },
    {
     "name": "stderr",
     "output_type": "stream",
     "text": [
      "Epoch 92: 100%|██████████| 11/11 [00:00<00:00, 50.67it/s]\n",
      "Epoch 93:  45%|████▌     | 5/11 [00:00<00:00, 45.41it/s]"
     ]
    },
    {
     "name": "stdout",
     "output_type": "stream",
     "text": [
      "using mask!!!\n",
      "using mask!!!\n",
      "Warning: NaN or Inf found in input tensor.\n",
      "Warning: NaN or Inf found in input tensor.\n",
      "using mask!!!\n",
      "using mask!!!\n",
      "using mask!!!\n",
      "using mask!!!\n",
      "using mask!!!\n"
     ]
    },
    {
     "name": "stderr",
     "output_type": "stream",
     "text": [
      "Epoch 93: 100%|██████████| 11/11 [00:00<00:00, 48.68it/s]\n",
      "Epoch 94:   0%|          | 0/11 [00:00<?, ?it/s]"
     ]
    },
    {
     "name": "stdout",
     "output_type": "stream",
     "text": [
      "using mask!!!\n",
      "using mask!!!\n",
      "using mask!!!\n",
      "using mask!!!\n",
      "using mask!!!\n",
      "using mask!!!\n",
      "Warning: NaN or Inf found in input tensor.\n",
      "Warning: NaN or Inf found in input tensor.\n",
      "using mask!!!\n",
      "using mask!!!\n"
     ]
    },
    {
     "name": "stderr",
     "output_type": "stream",
     "text": [
      "Epoch 94: 100%|██████████| 11/11 [00:00<00:00, 64.98it/s]\n",
      "Epoch 95:   0%|          | 0/11 [00:00<?, ?it/s]"
     ]
    },
    {
     "name": "stdout",
     "output_type": "stream",
     "text": [
      "using mask!!!\n",
      "using mask!!!\n",
      "using mask!!!\n",
      "using mask!!!\n",
      "using mask!!!\n",
      "using mask!!!\n",
      "using mask!!!\n",
      "using mask!!!\n",
      "using mask!!!\n",
      "Warning: NaN or Inf found in input tensor.\n",
      "Warning: NaN or Inf found in input tensor.\n",
      "using mask!!!\n"
     ]
    },
    {
     "name": "stderr",
     "output_type": "stream",
     "text": [
      "Epoch 95: 100%|██████████| 11/11 [00:00<00:00, 73.04it/s]\n",
      "Epoch 96:   0%|          | 0/11 [00:00<?, ?it/s]"
     ]
    },
    {
     "name": "stdout",
     "output_type": "stream",
     "text": [
      "using mask!!!\n",
      "using mask!!!\n",
      "using mask!!!\n",
      "using mask!!!\n",
      "using mask!!!\n",
      "using mask!!!\n",
      "using mask!!!\n",
      "using mask!!!\n",
      "using mask!!!\n",
      "using mask!!!\n",
      "Warning: NaN or Inf found in input tensor.\n",
      "Warning: NaN or Inf found in input tensor.\n",
      "using mask!!!\n"
     ]
    },
    {
     "name": "stderr",
     "output_type": "stream",
     "text": [
      "Epoch 96: 100%|██████████| 11/11 [00:00<00:00, 48.44it/s]"
     ]
    },
    {
     "name": "stdout",
     "output_type": "stream",
     "text": [
      "using mask!!!\n",
      "using mask!!!\n",
      "using mask!!!\n",
      "using mask!!!\n",
      "using mask!!!\n",
      "using mask!!!\n",
      "using mask!!!\n",
      "using mask!!!\n",
      "using mask!!!\n",
      "using mask!!!\n"
     ]
    },
    {
     "name": "stderr",
     "output_type": "stream",
     "text": [
      "\n",
      "Epoch 97:  45%|████▌     | 5/11 [00:00<00:00, 48.52it/s]"
     ]
    },
    {
     "name": "stdout",
     "output_type": "stream",
     "text": [
      "Warning: NaN or Inf found in input tensor.\n",
      "Warning: NaN or Inf found in input tensor.\n",
      "using mask!!!\n",
      "using mask!!!\n",
      "using mask!!!\n",
      "using mask!!!\n",
      "using mask!!!\n",
      "using mask!!!\n",
      "using mask!!!\n"
     ]
    },
    {
     "name": "stderr",
     "output_type": "stream",
     "text": [
      "Epoch 97: 100%|██████████| 11/11 [00:00<00:00, 49.92it/s]\n",
      "Epoch 98:   0%|          | 0/11 [00:00<?, ?it/s]"
     ]
    },
    {
     "name": "stdout",
     "output_type": "stream",
     "text": [
      "using mask!!!\n",
      "using mask!!!\n",
      "using mask!!!\n",
      "using mask!!!\n",
      "Warning: NaN or Inf found in input tensor.\n",
      "Warning: NaN or Inf found in input tensor.\n",
      "using mask!!!\n",
      "using mask!!!\n",
      "using mask!!!\n"
     ]
    },
    {
     "name": "stderr",
     "output_type": "stream",
     "text": [
      "Epoch 98: 100%|██████████| 11/11 [00:00<00:00, 52.85it/s]"
     ]
    },
    {
     "name": "stdout",
     "output_type": "stream",
     "text": [
      "using mask!!!\n",
      "using mask!!!\n",
      "using mask!!!\n",
      "using mask!!!\n",
      "using mask!!!\n",
      "using mask!!!\n",
      "using mask!!!\n",
      "using mask!!!\n",
      "Warning: NaN or Inf found in input tensor.\n",
      "Warning: NaN or Inf found in input tensor.\n"
     ]
    },
    {
     "name": "stderr",
     "output_type": "stream",
     "text": [
      "\n",
      "Epoch 99: 100%|██████████| 11/11 [00:00<00:00, 52.99it/s]"
     ]
    },
    {
     "name": "stdout",
     "output_type": "stream",
     "text": [
      "using mask!!!\n",
      "using mask!!!\n",
      "using mask!!!\n",
      "using mask!!!\n",
      "using mask!!!\n",
      "using mask!!!\n",
      "using mask!!!\n",
      "using mask!!!\n",
      "using mask!!!\n",
      "using mask!!!\n",
      "using mask!!!\n"
     ]
    },
    {
     "name": "stderr",
     "output_type": "stream",
     "text": [
      "\n",
      "Epoch 100:  45%|████▌     | 5/11 [00:00<00:00, 45.06it/s]"
     ]
    },
    {
     "name": "stdout",
     "output_type": "stream",
     "text": [
      "Warning: NaN or Inf found in input tensor.\n",
      "Warning: NaN or Inf found in input tensor.\n",
      "using mask!!!\n",
      "using mask!!!\n",
      "using mask!!!\n",
      "using mask!!!\n",
      "using mask!!!\n",
      "using mask!!!\n",
      "using mask!!!\n",
      "using mask!!!\n"
     ]
    },
    {
     "name": "stderr",
     "output_type": "stream",
     "text": [
      "Epoch 100: 100%|██████████| 11/11 [00:00<00:00, 47.17it/s]\n"
     ]
    },
    {
     "name": "stdout",
     "output_type": "stream",
     "text": [
      "using mask!!!\n",
      "using mask!!!\n",
      "using mask!!!\n",
      "Warning: NaN or Inf found in input tensor.\n",
      "Warning: NaN or Inf found in input tensor.\n",
      "using mask!!!\n",
      "using mask!!!\n",
      "using mask!!!\n",
      "using mask!!!\n",
      "using mask!!!\n",
      "using mask!!!\n",
      "using mask!!!\n",
      "using mask!!!\n",
      "using mask!!!\n",
      "using mask!!!\n",
      "using mask!!!\n",
      "using mask!!!\n",
      "using mask!!!\n",
      "using mask!!!\n",
      "using mask!!!\n",
      "using mask!!!\n",
      "using mask!!!\n",
      "using mask!!!\n",
      "using mask!!!\n",
      "using mask!!!\n",
      "using mask!!!\n",
      "using mask!!!\n",
      "using mask!!!\n",
      "using mask!!!\n",
      "using mask!!!\n",
      "using mask!!!\n",
      "using mask!!!\n",
      "using mask!!!\n",
      "using mask!!!\n",
      "using mask!!!\n",
      "using mask!!!\n",
      "using mask!!!\n",
      "using mask!!!\n",
      "using mask!!!\n",
      "using mask!!!\n",
      "using mask!!!\n",
      "using mask!!!\n",
      "using mask!!!\n",
      "using mask!!!\n",
      "using mask!!!\n",
      "using mask!!!\n",
      "using mask!!!\n",
      "using mask!!!\n",
      "using mask!!!\n",
      "using mask!!!\n",
      "using mask!!!\n",
      "using mask!!!\n",
      "using mask!!!\n",
      "using mask!!!\n",
      "using mask!!!\n",
      "using mask!!!\n",
      "using mask!!!\n",
      "using mask!!!\n",
      "using mask!!!\n",
      "using mask!!!\n",
      "using mask!!!\n",
      "using mask!!!\n",
      "using mask!!!\n",
      "using mask!!!\n",
      "using mask!!!\n",
      "Warning: NaN or Inf found in input tensor.\n",
      "Warning: NaN or Inf found in input tensor.\n",
      "----------------------------------------\n",
      "TRAIN\tEpoch: 100\tloss_itn: 18406.579545\tloss_stn_u: 3689.906183\tloss_stn_s: 1342.731889\tloss_stn_i: 15032.640536\tloss_stn_r: 3689.906183\tloss: 1342.731889\tmetric_dice: 0.132627\tmetric_hd: 0.132627\tmetric_asd: 0.132627\tmetric_precision: 1.000000\tmetric_recall: 0.071057\t\n",
      "VALID\tEpoch: 100\tloss_itn: 19665.461361\tloss_stn_u: 3965.156405\tloss_stn_s: 846.215291\tloss_stn_i: 16166.619141\tloss_stn_r: 3965.156405\tloss: 846.215291\tmetric_dice: 0.089774\tmetric_hd: 0.089774\tmetric_asd: 0.089774\tmetric_precision: 1.000000\tmetric_recall: 0.047007\t\n",
      "----------------------------------------\n",
      "----------------------------------------\n",
      "Finished TRAINING... Plotting Graphs\n",
      "\n",
      "\n"
     ]
    },
    {
     "data": {
      "image/png": "[encoded data removed]",
      "text/plain": [
       "<Figure size 432x288 with 1 Axes>"
      ]
     },
     "metadata": {
      "needs_background": "light"
     },
     "output_type": "display_data"
    }
   ],
   "source": [
    "train(args)"
   ]
  },
  {
   "cell_type": "code",
   "execution_count": null,
   "metadata": {},
   "outputs": [],
   "source": []
  }
 ],
 "metadata": {
  "kernelspec": {
   "display_name": "Python 3",
   "language": "python",
   "name": "python3"
  },
  "language_info": {
   "codemirror_mode": {
    "name": "ipython",
    "version": 3
   },
   "file_extension": ".py",
   "mimetype": "text/x-python",
   "name": "python",
   "nbconvert_exporter": "python",
   "pygments_lexer": "ipython3",
   "version": "3.7.7"
  }
 },
 "nbformat": 4,
 "nbformat_minor": 4
}
