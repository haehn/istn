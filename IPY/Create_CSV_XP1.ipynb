{
 "cells": [
  {
   "cell_type": "code",
   "execution_count": 5,
   "metadata": {},
   "outputs": [],
   "source": [
    "import os\n",
    "import glob"
   ]
  },
  {
   "cell_type": "code",
   "execution_count": 16,
   "metadata": {},
   "outputs": [],
   "source": [
    "OUTPUTFOLDER = '/home/haehn/Dropbox/RESEARCH/MITOCHONDRIA/xp1'"
   ]
  },
  {
   "cell_type": "code",
   "execution_count": 19,
   "metadata": {},
   "outputs": [],
   "source": [
    "which = 'train'\n",
    "image_csv = 'src,trg\\n'\n",
    "\n",
    "for source in sorted(glob.glob(OUTPUTFOLDER+'/'+which+'/*_source.png')):\n",
    "    \n",
    "    target = source.replace(\"_source.png\", \"_target.png\")\n",
    "    \n",
    "    image_csv += source + ',' + target + '\\n'\n",
    "\n",
    "with open(OUTPUTFOLDER+'/'+which+'.csv', 'w') as f:\n",
    "    f.write(image_csv)\n",
    "\n",
    "seg_csv = 'src,trg\\n'\n",
    "for source in sorted(glob.glob(OUTPUTFOLDER+'/'+which+'/*_source_seg.png')):\n",
    "    \n",
    "    target = source.replace(\"_source_seg.png\", \"_target_seg.png\")\n",
    "    \n",
    "    seg_csv += source + ',' + target + '\\n'\n",
    "\n",
    "with open(OUTPUTFOLDER+'/'+which+'.seg.csv', 'w') as f:\n",
    "    f.write(seg_csv)\n",
    "    \n",
    "    "
   ]
  },
  {
   "cell_type": "code",
   "execution_count": 20,
   "metadata": {},
   "outputs": [],
   "source": [
    "which = 'test'\n",
    "image_csv = 'src,trg\\n'\n",
    "\n",
    "for source in sorted(glob.glob(OUTPUTFOLDER+'/'+which+'/*_source.png')):\n",
    "    \n",
    "    target = source.replace(\"_source.png\", \"_target.png\")\n",
    "    \n",
    "    image_csv += source + ',' + target + '\\n'\n",
    "\n",
    "with open(OUTPUTFOLDER+'/'+which+'.csv', 'w') as f:\n",
    "    f.write(image_csv)\n",
    "\n",
    "seg_csv = 'src,trg\\n'\n",
    "for source in sorted(glob.glob(OUTPUTFOLDER+'/'+which+'/*_source_seg.png')):\n",
    "    \n",
    "    target = source.replace(\"_source_seg.png\", \"_target_seg.png\")\n",
    "    \n",
    "    seg_csv += source + ',' + target + '\\n'\n",
    "\n",
    "with open(OUTPUTFOLDER+'/'+which+'.seg.csv', 'w') as f:\n",
    "    f.write(seg_csv)\n",
    "    \n",
    "    "
   ]
  },
  {
   "cell_type": "code",
   "execution_count": null,
   "metadata": {},
   "outputs": [],
   "source": []
  }
 ],
 "metadata": {
  "kernelspec": {
   "display_name": "Python 3",
   "language": "python",
   "name": "python3"
  },
  "language_info": {
   "codemirror_mode": {
    "name": "ipython",
    "version": 3
   },
   "file_extension": ".py",
   "mimetype": "text/x-python",
   "name": "python",
   "nbconvert_exporter": "python",
   "pygments_lexer": "ipython3",
   "version": "3.7.7"
  }
 },
 "nbformat": 4,
 "nbformat_minor": 4
}
